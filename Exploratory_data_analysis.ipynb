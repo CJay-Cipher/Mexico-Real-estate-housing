{
 "cells": [
  {
   "cell_type": "code",
   "execution_count": 1,
   "id": "dd9186d9",
   "metadata": {},
   "outputs": [],
   "source": [
    "import matplotlib.pyplot as plt\n",
    "import pandas as pd\n",
    "import plotly.express as px"
   ]
  },
  {
   "cell_type": "markdown",
   "id": "157419c8",
   "metadata": {},
   "source": [
    "## import the clean data"
   ]
  },
  {
   "cell_type": "code",
   "execution_count": 2,
   "id": "1198a6e3",
   "metadata": {},
   "outputs": [],
   "source": [
    "df = pd.read_csv(\"data/clean_mexico_real_estate.csv\")"
   ]
  },
  {
   "cell_type": "code",
   "execution_count": 3,
   "id": "af8730d9",
   "metadata": {},
   "outputs": [
    {
     "name": "stdout",
     "output_type": "stream",
     "text": [
      "<class 'pandas.core.frame.DataFrame'>\n",
      "RangeIndex: 1736 entries, 0 to 1735\n",
      "Data columns (total 6 columns):\n",
      " #   Column         Non-Null Count  Dtype  \n",
      "---  ------         --------------  -----  \n",
      " 0   property_type  1736 non-null   object \n",
      " 1   state          1736 non-null   object \n",
      " 2   lat            1736 non-null   float64\n",
      " 3   lon            1736 non-null   float64\n",
      " 4   area_m2        1736 non-null   int64  \n",
      " 5   price_usd      1736 non-null   float64\n",
      "dtypes: float64(3), int64(1), object(2)\n",
      "memory usage: 81.5+ KB\n"
     ]
    }
   ],
   "source": [
    "df.info()"
   ]
  },
  {
   "cell_type": "code",
   "execution_count": 4,
   "id": "5b856e1a",
   "metadata": {},
   "outputs": [
    {
     "data": {
      "text/html": [
       "<div>\n",
       "<style scoped>\n",
       "    .dataframe tbody tr th:only-of-type {\n",
       "        vertical-align: middle;\n",
       "    }\n",
       "\n",
       "    .dataframe tbody tr th {\n",
       "        vertical-align: top;\n",
       "    }\n",
       "\n",
       "    .dataframe thead th {\n",
       "        text-align: right;\n",
       "    }\n",
       "</style>\n",
       "<table border=\"1\" class=\"dataframe\">\n",
       "  <thead>\n",
       "    <tr style=\"text-align: right;\">\n",
       "      <th></th>\n",
       "      <th>property_type</th>\n",
       "      <th>state</th>\n",
       "      <th>lat</th>\n",
       "      <th>lon</th>\n",
       "      <th>area_m2</th>\n",
       "      <th>price_usd</th>\n",
       "    </tr>\n",
       "  </thead>\n",
       "  <tbody>\n",
       "    <tr>\n",
       "      <th>0</th>\n",
       "      <td>house</td>\n",
       "      <td>Estado de México</td>\n",
       "      <td>19.560181</td>\n",
       "      <td>-99.233528</td>\n",
       "      <td>150</td>\n",
       "      <td>67965.56</td>\n",
       "    </tr>\n",
       "    <tr>\n",
       "      <th>1</th>\n",
       "      <td>house</td>\n",
       "      <td>Nuevo León</td>\n",
       "      <td>25.688436</td>\n",
       "      <td>-100.198807</td>\n",
       "      <td>186</td>\n",
       "      <td>63223.78</td>\n",
       "    </tr>\n",
       "    <tr>\n",
       "      <th>2</th>\n",
       "      <td>apartment</td>\n",
       "      <td>Guerrero</td>\n",
       "      <td>16.767704</td>\n",
       "      <td>-99.764383</td>\n",
       "      <td>82</td>\n",
       "      <td>84298.37</td>\n",
       "    </tr>\n",
       "    <tr>\n",
       "      <th>3</th>\n",
       "      <td>apartment</td>\n",
       "      <td>Guerrero</td>\n",
       "      <td>16.829782</td>\n",
       "      <td>-99.911012</td>\n",
       "      <td>150</td>\n",
       "      <td>94308.80</td>\n",
       "    </tr>\n",
       "    <tr>\n",
       "      <th>4</th>\n",
       "      <td>house</td>\n",
       "      <td>Yucatán</td>\n",
       "      <td>21.052583</td>\n",
       "      <td>-89.538639</td>\n",
       "      <td>205</td>\n",
       "      <td>105191.37</td>\n",
       "    </tr>\n",
       "  </tbody>\n",
       "</table>\n",
       "</div>"
      ],
      "text/plain": [
       "  property_type             state        lat         lon  area_m2  price_usd\n",
       "0         house  Estado de México  19.560181  -99.233528      150   67965.56\n",
       "1         house        Nuevo León  25.688436 -100.198807      186   63223.78\n",
       "2     apartment          Guerrero  16.767704  -99.764383       82   84298.37\n",
       "3     apartment          Guerrero  16.829782  -99.911012      150   94308.80\n",
       "4         house           Yucatán  21.052583  -89.538639      205  105191.37"
      ]
     },
     "execution_count": 4,
     "metadata": {},
     "output_type": "execute_result"
    }
   ],
   "source": [
    "df.head()"
   ]
  },
  {
   "cell_type": "markdown",
   "id": "a333c3c8",
   "metadata": {},
   "source": [
    "## Location Data: \"lat\" and \"lon\"\n",
    "Since __latitude__ and __longitude__ are based on a coordinate system, a good way to visualize them is to create a scatter plot on top of a map. A great tool for this is the **scatter_mapbox** from the plotly library"
   ]
  },
  {
   "cell_type": "code",
   "execution_count": 5,
   "id": "f6ff3dad",
   "metadata": {},
   "outputs": [
    {
     "data": {
      "application/vnd.plotly.v1+json": {
       "config": {
        "plotlyServerURL": "https://plot.ly"
       },
       "data": [
        {
         "customdata": [
          [
           67965.56,
           150,
           "Estado de México"
          ],
          [
           63223.78,
           186,
           "Nuevo León"
          ],
          [
           84298.37,
           82,
           "Guerrero"
          ],
          [
           94308.8,
           150,
           "Guerrero"
          ],
          [
           105191.37,
           205,
           "Yucatán"
          ],
          [
           274034.68,
           320,
           "Querétaro"
          ],
          [
           151509.56,
           281,
           "Morelos"
          ],
          [
           79029.72,
           140,
           "Chiapas"
          ],
          [
           115937.75,
           235,
           "Estado de México"
          ],
          [
           63223.78,
           117,
           "Morelos"
          ],
          [
           157269.15,
           117,
           "Guerrero"
          ],
          [
           104607.47,
           193,
           "Yucatán"
          ],
          [
           63238.77,
           85,
           "Estado de México"
          ],
          [
           77994.48,
           135,
           "Tabasco"
          ],
          [
           131716.2,
           127,
           "Distrito Federal"
          ],
          [
           203167.1,
           208,
           "Yucatán"
          ],
          [
           264390.77,
           297,
           "Distrito Federal"
          ],
          [
           63238.77,
           173,
           "Nayarit"
          ],
          [
           36775.16,
           73,
           "Morelos"
          ],
          [
           173570.3,
           170,
           "Puebla"
          ],
          [
           131716.2,
           129,
           "Distrito Federal"
          ],
          [
           67175.26,
           68,
           "Distrito Federal"
          ],
          [
           262905.55,
           334,
           "Puebla"
          ],
          [
           40041.72,
           106,
           "Veracruz de Ignacio de la Llave"
          ],
          [
           64556.24,
           132,
           "Yucatán"
          ],
          [
           44783.51,
           104,
           "Sinaloa"
          ],
          [
           104846.1,
           97,
           "Distrito Federal"
          ],
          [
           158059.45,
           200,
           "Estado de México"
          ],
          [
           84845.35,
           80,
           "Yucatán"
          ],
          [
           39514.86,
           70,
           "Tabasco"
          ],
          [
           158059.45,
           240,
           "Chiapas"
          ],
          [
           92223.21,
           188,
           "Tamaulipas"
          ],
          [
           129639.48,
           253,
           "Yucatán"
          ],
          [
           120125.18,
           128,
           "Distrito Federal"
          ],
          [
           158059.45,
           350,
           "Veracruz de Ignacio de la Llave"
          ],
          [
           51632.75,
           133,
           "Veracruz de Ignacio de la Llave"
          ],
          [
           155461.98,
           250,
           "Puebla"
          ],
          [
           126447.56,
           187,
           "Distrito Federal"
          ],
          [
           51662.25,
           127,
           "Veracruz de Ignacio de la Llave"
          ],
          [
           97598.5,
           102,
           "Puebla"
          ],
          [
           57955.13,
           107,
           "Jalisco"
          ],
          [
           108534.15,
           242,
           "Yucatán"
          ],
          [
           247626.47,
           245,
           "Distrito Federal"
          ],
          [
           86300.46,
           90,
           "Distrito Federal"
          ],
          [
           44794.13,
           75,
           "Distrito Federal"
          ],
          [
           40841.7,
           93,
           "Puebla"
          ],
          [
           95309.84,
           126,
           "Estado de México"
          ],
          [
           150719.07,
           300,
           "Distrito Federal"
          ],
          [
           81683.41,
           132,
           "San Luis Potosí"
          ],
          [
           65858.1,
           130,
           "Morelos"
          ],
          [
           192087.77,
           237,
           "Yucatán"
          ],
          [
           60603.82,
           96,
           "Sinaloa"
          ],
          [
           237089.17,
           102,
           "Distrito Federal"
          ],
          [
           41095.45,
           76,
           "Baja California"
          ],
          [
           158096.93,
           229,
           "Hidalgo"
          ],
          [
           227351.46,
           305,
           "Morelos"
          ],
          [
           67438.69,
           128,
           "Puebla"
          ],
          [
           136984.85,
           240,
           "Estado de México"
          ],
          [
           93781.94,
           135,
           "Quintana Roo"
          ],
          [
           205477.28,
           320,
           "Nuevo León"
          ],
          [
           43887.84,
           170,
           "Tamaulipas"
          ],
          [
           94835.67,
           168,
           "Guerrero"
          ],
          [
           105372.96,
           220,
           "Veracruz de Ignacio de la Llave"
          ],
          [
           79029.72,
           180,
           "Guerrero"
          ],
          [
           176499.72,
           250,
           "Querétaro"
          ],
          [
           81630.71,
           157,
           "Yucatán"
          ],
          [
           105372.96,
           128,
           "Querétaro"
          ],
          [
           126477.54,
           135,
           "Estado de México"
          ],
          [
           34254.33,
           60,
           "Nuevo León"
          ],
          [
           72707.34,
           185,
           "Nuevo León"
          ],
          [
           35563.37,
           60,
           "Distrito Federal"
          ],
          [
           207057.88,
           300,
           "Distrito Federal"
          ],
          [
           76395.4,
           220,
           "Veracruz de Ignacio de la Llave"
          ],
          [
           126447.56,
           200,
           "Tamaulipas"
          ],
          [
           216014.58,
           261,
           "Quintana Roo"
          ],
          [
           52423.05,
           98,
           "Jalisco"
          ],
          [
           118386.52,
           72,
           "Distrito Federal"
          ],
          [
           63238.77,
           211,
           "Yucatán"
          ],
          [
           173865.39,
           200,
           "Estado de México"
          ],
          [
           226551.88,
           300,
           "Querétaro"
          ],
          [
           34254.33,
           185,
           "Sonora"
          ],
          [
           139652.29,
           178,
           "Puebla"
          ],
          [
           84298.37,
           280,
           "Sinaloa"
          ],
          [
           68492.42,
           131,
           "Estado de México"
          ],
          [
           63238.77,
           115,
           "Chihuahua"
          ],
          [
           65873.72,
           121,
           "Yucatán"
          ],
          [
           50591.01,
           108,
           "San Luis Potosí"
          ],
          [
           126447.56,
           300,
           "Distrito Federal"
          ],
          [
           142253.5,
           80,
           "Distrito Federal"
          ],
          [
           242415.29,
           290,
           "Morelos"
          ],
          [
           72707.34,
           148,
           "Puebla"
          ],
          [
           147557.13,
           290,
           "Veracruz de Ignacio de la Llave"
          ],
          [
           150192.08,
           200,
           "Puebla"
          ],
          [
           110641.61,
           220,
           "Morelos"
          ],
          [
           86953.31,
           192,
           "Yucatán"
          ],
          [
           131747.44,
           176,
           "Baja California Sur"
          ],
          [
           189716.32,
           120,
           "Distrito Federal"
          ],
          [
           176499.72,
           350,
           "Distrito Federal"
          ],
          [
           152000.5,
           87,
           "Estado de México"
          ],
          [
           137017.34,
           78,
           "Distrito Federal"
          ],
          [
           78502.86,
           75,
           "Distrito Federal"
          ],
          [
           102738.64,
           200,
           "Puebla"
          ],
          [
           88270.78,
           114,
           "San Luis Potosí"
          ],
          [
           111721.83,
           266,
           "Yucatán"
          ],
          [
           51644.99,
           204,
           "Nuevo León"
          ],
          [
           57006.77,
           70,
           "Estado de México"
          ],
          [
           110641.61,
           155,
           "Jalisco"
          ],
          [
           142287.24,
           247,
           "Morelos"
          ],
          [
           82875.83,
           88,
           "Jalisco"
          ],
          [
           120944.15,
           175,
           "Yucatán"
          ],
          [
           89567.02,
           170,
           "Zacatecas"
          ],
          [
           197100.13,
           98,
           "Distrito Federal"
          ],
          [
           34599.16,
           60,
           "Estado de México"
          ],
          [
           47417.83,
           127,
           "Yucatán"
          ],
          [
           116173.69,
           180,
           "Distrito Federal"
          ],
          [
           326733.66,
           326,
           "Puebla"
          ],
          [
           247626.47,
           210,
           "Veracruz de Ignacio de la Llave"
          ],
          [
           121178.91,
           330,
           "Veracruz de Ignacio de la Llave"
          ],
          [
           105372.96,
           157,
           "Estado de México"
          ],
          [
           123813.23,
           156,
           "Jalisco"
          ],
          [
           160866.42,
           101,
           "Nuevo León"
          ],
          [
           142253.5,
           336,
           "Nuevo León"
          ],
          [
           42159.18,
           120,
           "Estado de México"
          ],
          [
           37670.83,
           60,
           "Estado de México"
          ],
          [
           123052.11,
           282,
           "Yucatán"
          ],
          [
           104870.96,
           130,
           "Guerrero"
          ],
          [
           46840.27,
           110,
           "San Luis Potosí"
          ],
          [
           94835.67,
           156,
           "Puebla"
          ],
          [
           97469.99,
           200,
           "San Luis Potosí"
          ],
          [
           306529.96,
           309,
           "Estado de México"
          ],
          [
           136984.85,
           200,
           "Hidalgo"
          ],
          [
           139652.29,
           100,
           "Yucatán"
          ],
          [
           89567.02,
           145,
           "Morelos"
          ],
          [
           230874.8,
           120,
           "Distrito Federal"
          ],
          [
           147557.13,
           183,
           "Morelos"
          ],
          [
           50579.02,
           107,
           "Yucatán"
          ],
          [
           102211.77,
           140,
           "Querétaro"
          ],
          [
           79029.72,
           67,
           "Distrito Federal"
          ],
          [
           105372.96,
           115,
           "Estado de México"
          ],
          [
           67965.56,
           180,
           "Estado de México"
          ],
          [
           110641.61,
           227,
           "Chihuahua"
          ],
          [
           110667.85,
           250,
           "Nuevo León"
          ],
          [
           136490.35,
           215,
           "Aguascalientes"
          ],
          [
           60589.45,
           165,
           "Veracruz de Ignacio de la Llave"
          ],
          [
           68508.67,
           200,
           "Hidalgo"
          ],
          [
           76413.51,
           242,
           "Nuevo León"
          ],
          [
           120652.04,
           120,
           "Distrito Federal"
          ],
          [
           87703.06,
           220,
           "Distrito Federal"
          ],
          [
           259470.39,
           304,
           "Distrito Federal"
          ],
          [
           237089.17,
           385,
           "Puebla"
          ],
          [
           236144.12,
           255,
           "Yucatán"
          ],
          [
           237089.17,
           225,
           "Distrito Federal"
          ],
          [
           143530.93,
           218,
           "Morelos"
          ],
          [
           131747.44,
           276,
           "Querétaro"
          ],
          [
           79029.72,
           100,
           "Yucatán"
          ],
          [
           92223.21,
           201,
           "Yucatán"
          ],
          [
           42149.18,
           135,
           "Puebla"
          ],
          [
           56387.9,
           90,
           "Estado de México"
          ],
          [
           60603.82,
           176,
           "Tamaulipas"
          ],
          [
           39514.86,
           104,
           "Tabasco"
          ],
          [
           110050.31,
           220,
           "Distrito Federal"
          ],
          [
           65858.1,
           174,
           "Yucatán"
          ],
          [
           171306.94,
           233,
           "Estado de México"
          ],
          [
           84318.36,
           95,
           "Puebla"
          ],
          [
           108007.29,
           153,
           "Estado de México"
          ],
          [
           63118.4,
           189,
           "Sinaloa"
          ],
          [
           73234.21,
           90,
           "Distrito Federal"
          ],
          [
           173865.39,
           275,
           "Quintana Roo"
          ],
          [
           90115.25,
           86,
           "Distrito Federal"
          ],
          [
           94594.66,
           148,
           "Nuevo León"
          ],
          [
           39524.23,
           110,
           "Veracruz de Ignacio de la Llave"
          ],
          [
           84298.37,
           130,
           "Veracruz de Ignacio de la Llave"
          ],
          [
           76677.01,
           185,
           "Yucatán"
          ],
          [
           114487.72,
           154,
           "Guerrero"
          ],
          [
           181811.47,
           273,
           "Querétaro"
          ],
          [
           94308.8,
           187,
           "San Luis Potosí"
          ],
          [
           84825.23,
           110,
           "Distrito Federal"
          ],
          [
           217911.29,
           94,
           "Distrito Federal"
          ],
          [
           65858.1,
           100,
           "Tabasco"
          ],
          [
           49537.03,
           84,
           "Querétaro"
          ],
          [
           76413.51,
           162,
           "Yucatán"
          ],
          [
           283558.65,
           239,
           "Yucatán"
          ],
          [
           92201.34,
           175,
           "Chiapas"
          ],
          [
           158096.93,
           200,
           "Veracruz de Ignacio de la Llave"
          ],
          [
           124501.99,
           211,
           "Nuevo León"
          ],
          [
           41095.45,
           123,
           "Yucatán"
          ],
          [
           78502.86,
           141,
           "Tamaulipas"
          ],
          [
           96363.57,
           148,
           "Jalisco"
          ],
          [
           67438.69,
           150,
           "Morelos"
          ],
          [
           42676.05,
           70,
           "Distrito Federal"
          ],
          [
           68508.67,
           95,
           "Quintana Roo"
          ],
          [
           76940.5,
           165,
           "Tamaulipas"
          ],
          [
           46890.97,
           65,
           "Distrito Federal"
          ],
          [
           106848.18,
           85,
           "Distrito Federal"
          ],
          [
           42149.18,
           91,
           "Veracruz de Ignacio de la Llave"
          ],
          [
           93781.94,
           204,
           "Yucatán"
          ],
          [
           115937.75,
           170,
           "Guerrero"
          ],
          [
           109324.45,
           180,
           "Querétaro"
          ],
          [
           67702.13,
           124,
           "Sinaloa"
          ],
          [
           36880.53,
           66,
           "Quintana Roo"
          ],
          [
           63223.78,
           276,
           "Veracruz de Ignacio de la Llave"
          ],
          [
           36889.28,
           79,
           "Yucatán"
          ],
          [
           93255.07,
           70,
           "Distrito Federal"
          ],
          [
           64281.19,
           72,
           "Distrito Federal"
          ],
          [
           144922.18,
           250,
           "Querétaro"
          ],
          [
           78995.76,
           137,
           "Yucatán"
          ],
          [
           37386.32,
           65,
           "Distrito Federal"
          ],
          [
           91169.23,
           142,
           "Yucatán"
          ],
          [
           104319.23,
           150,
           "Querétaro"
          ],
          [
           184182.92,
           305,
           "Yucatán"
          ],
          [
           123981.3,
           300,
           "Distrito Federal"
          ],
          [
           50064.02,
           105,
           "Veracruz de Ignacio de la Llave"
          ],
          [
           56514.99,
           90,
           "Distrito Federal"
          ],
          [
           270872.74,
           124,
           "Distrito Federal"
          ],
          [
           92223.21,
           230,
           "Yucatán"
          ],
          [
           144887.83,
           180,
           "Jalisco"
          ],
          [
           184446.42,
           300,
           "Estado de México"
          ],
          [
           62448.28,
           70,
           "Veracruz de Ignacio de la Llave"
          ],
          [
           57968.87,
           154,
           "San Luis Potosí"
          ],
          [
           71126.75,
           150,
           "Tabasco"
          ],
          [
           39524.23,
           70,
           "Estado de México"
          ],
          [
           84298.37,
           250,
           "Morelos"
          ],
          [
           62975.27,
           141,
           "Yucatán"
          ],
          [
           289844.37,
           320,
           "Morelos"
          ],
          [
           102738.64,
           104,
           "Guerrero"
          ],
          [
           326656.19,
           174,
           "Estado de México"
          ],
          [
           71126.75,
           212,
           "Tamaulipas"
          ],
          [
           131716.2,
           210,
           "Guanajuato"
          ],
          [
           100104.31,
           240,
           "Morelos"
          ],
          [
           173986.78,
           87,
           "Puebla"
          ],
          [
           215222.62,
           300,
           "Estado de México"
          ],
          [
           188398.84,
           257,
           "Morelos"
          ],
          [
           144887.83,
           240,
           "San Luis Potosí"
          ],
          [
           86932.69,
           189,
           "Yucatán"
          ],
          [
           226551.88,
           289,
           "Puebla"
          ],
          [
           139652.29,
           83,
           "Distrito Federal"
          ],
          [
           57955.13,
           127,
           "Morelos"
          ],
          [
           246994.23,
           95,
           "Distrito Federal"
          ],
          [
           42149.18,
           75,
           "Baja California"
          ],
          [
           36269.27,
           60,
           "Distrito Federal"
          ],
          [
           50087.3,
           70,
           "Distrito Federal"
          ],
          [
           63223.78,
           138,
           "Zacatecas"
          ],
          [
           110588.92,
           149,
           "Jalisco"
          ],
          [
           39514.86,
           84,
           "Nayarit"
          ],
          [
           274034.68,
           110,
           "Distrito Federal"
          ],
          [
           266066.74,
           380,
           "San Luis Potosí"
          ],
          [
           39462.17,
           90,
           "Yucatán"
          ],
          [
           39514.86,
           140,
           "Veracruz de Ignacio de la Llave"
          ],
          [
           71301.71,
           140,
           "Tamaulipas"
          ],
          [
           121207.64,
           140,
           "Estado de México"
          ],
          [
           242415.29,
           332,
           "Estado de México"
          ],
          [
           144887.83,
           372,
           "Estado de México"
          ],
          [
           131747.44,
           200,
           "Morelos"
          ],
          [
           104343.97,
           134,
           "Tabasco"
          ],
          [
           74972.86,
           159,
           "Nuevo León"
          ],
          [
           312957.71,
           112,
           "Distrito Federal"
          ],
          [
           47417.83,
           95,
           "Sinaloa"
          ],
          [
           41622.32,
           157,
           "Aguascalientes"
          ],
          [
           142253.5,
           279,
           "Morelos"
          ],
          [
           34254.33,
           75,
           "Tamaulipas"
          ],
          [
           34077.61,
           80,
           "Distrito Federal"
          ],
          [
           118544.58,
           222,
           "Nuevo León"
          ],
          [
           103606.19,
           100,
           "Puebla"
          ],
          [
           52159.61,
           160,
           "Yucatán"
          ],
          [
           263494.89,
           83,
           "Distrito Federal"
          ],
          [
           92023.21,
           131,
           "Nuevo León"
          ],
          [
           83000.89,
           210,
           "Nuevo León"
          ],
          [
           80112.98,
           168,
           "Yucatán"
          ],
          [
           51644.99,
           100,
           "Puebla"
          ],
          [
           39514.86,
           104,
           "Jalisco"
          ],
          [
           121207.64,
           207,
           "Guanajuato"
          ],
          [
           34781.32,
           92,
           "San Luis Potosí"
          ],
          [
           209902.95,
           103,
           "Distrito Federal"
          ],
          [
           68492.42,
           97,
           "Morelos"
          ],
          [
           284507.01,
           105,
           "Distrito Federal"
          ],
          [
           189716.32,
           330,
           "Puebla"
          ],
          [
           89061.27,
           190,
           "Yucatán"
          ],
          [
           68492.42,
           180,
           "Estado de México"
          ],
          [
           156958.3,
           96,
           "Distrito Federal"
          ],
          [
           144887.83,
           300,
           "Querétaro"
          ],
          [
           109587.88,
           92,
           "Puebla"
          ],
          [
           155461.98,
           215,
           "Puebla"
          ],
          [
           210745.93,
           330,
           "Chiapas"
          ],
          [
           52698.97,
           76,
           "Morelos"
          ],
          [
           71765.83,
           136,
           "Morelos"
          ],
          [
           109387.67,
           65,
           "Distrito Federal"
          ],
          [
           39830.98,
           110,
           "San Luis Potosí"
          ],
          [
           47681.26,
           70,
           "Estado de México"
          ],
          [
           44783.51,
           100,
           "Estado de México"
          ],
          [
           91042.24,
           320,
           "Distrito Federal"
          ],
          [
           45321.12,
           180,
           "San Luis Potosí"
          ],
          [
           79048.46,
           250,
           "Estado de México"
          ],
          [
           94835.67,
           168,
           "Veracruz de Ignacio de la Llave"
          ],
          [
           97469.99,
           165,
           "Querétaro"
          ],
          [
           183296.27,
           325,
           "Yucatán"
          ],
          [
           104497.22,
           160,
           "Nuevo León"
          ],
          [
           63223.78,
           180,
           "Puebla"
          ],
          [
           48734.99,
           85,
           "Morelos"
          ],
          [
           262967.9,
           272,
           "Morelos"
          ],
          [
           130873.22,
           252,
           "Puebla"
          ],
          [
           93465.82,
           84,
           "Distrito Federal"
          ],
          [
           166001.78,
           120,
           "Puebla"
          ],
          [
           210745.93,
           162,
           "Distrito Federal"
          ],
          [
           105372.96,
           180,
           "Chiapas"
          ],
          [
           60076.83,
           178,
           "Yucatán"
          ],
          [
           75375.18,
           69,
           "Distrito Federal"
          ],
          [
           94308.8,
           300,
           "Jalisco"
          ],
          [
           50485.62,
           94,
           "Baja California Sur"
          ],
          [
           76395.4,
           110,
           "Querétaro"
          ],
          [
           136405.3,
           150,
           "Distrito Federal"
          ],
          [
           89567.02,
           136,
           "Estado de México"
          ],
          [
           105372.96,
           148,
           "Puebla"
          ],
          [
           157479.9,
           125,
           "Jalisco"
          ],
          [
           39260.73,
           88,
           "Guerrero"
          ],
          [
           47429.08,
           115,
           "Nayarit"
          ],
          [
           43202.91,
           73,
           "Chiapas"
          ],
          [
           135085.08,
           150,
           "Distrito Federal"
          ],
          [
           99601.06,
           160,
           "Querétaro"
          ],
          [
           237145.4,
           236,
           "Estado de México"
          ],
          [
           44783.51,
           230,
           "Veracruz de Ignacio de la Llave"
          ],
          [
           40568.59,
           89,
           "Querétaro"
          ],
          [
           65858.1,
           117,
           "Morelos"
          ],
          [
           53740.21,
           100,
           "San Luis Potosí"
          ],
          [
           273969.71,
           150,
           "Distrito Federal"
          ],
          [
           223970.65,
           382,
           "Yucatán"
          ],
          [
           33719.34,
           90,
           "Jalisco"
          ],
          [
           62570.46,
           140,
           "Baja California"
          ],
          [
           66933.76,
           252,
           "Tamaulipas"
          ],
          [
           64277.51,
           189,
           "Veracruz de Ignacio de la Llave"
          ],
          [
           68492.42,
           110,
           "Baja California Sur"
          ],
          [
           110641.61,
           200,
           "Tamaulipas"
          ],
          [
           100735.92,
           110,
           "Puebla"
          ],
          [
           66911.83,
           70,
           "Distrito Federal"
          ],
          [
           324021.87,
           260,
           "Estado de México"
          ],
          [
           47417.83,
           200,
           "Sonora"
          ],
          [
           121355.2,
           76,
           "Distrito Federal"
          ],
          [
           135931.12,
           195,
           "Jalisco"
          ],
          [
           74920.17,
           100,
           "Distrito Federal"
          ],
          [
           39524.23,
           110,
           "San Luis Potosí"
          ],
          [
           137017.34,
           296,
           "Yucatán"
          ],
          [
           79029.72,
           200,
           "Yucatán"
          ],
          [
           51632.75,
           80,
           "Querétaro"
          ],
          [
           86932.69,
           210,
           "Morelos"
          ],
          [
           89040.15,
           180,
           "Quintana Roo"
          ],
          [
           86953.31,
           112,
           "Morelos"
          ],
          [
           34246.21,
           60,
           "Tabasco"
          ],
          [
           84298.37,
           148,
           "Chiapas"
          ],
          [
           65858.1,
           160,
           "Nuevo León"
          ],
          [
           131716.2,
           110,
           "Querétaro"
          ],
          [
           176541.57,
           248,
           "Distrito Federal"
          ],
          [
           40645.77,
           72,
           "Distrito Federal"
          ],
          [
           178080.31,
           84,
           "Jalisco"
          ],
          [
           173865.39,
           250,
           "Chiapas"
          ],
          [
           123315.6,
           290,
           "Yucatán"
          ],
          [
           102763,
           158,
           "Yucatán"
          ],
          [
           173906.62,
           320,
           "Morelos"
          ],
          [
           99577.45,
           220,
           "Veracruz de Ignacio de la Llave"
          ],
          [
           315618.38,
           200,
           "Distrito Federal"
          ],
          [
           62696.91,
           189,
           "Baja California Sur"
          ],
          [
           131747.44,
           300,
           "Yucatán"
          ],
          [
           94818.28,
           203,
           "Veracruz de Ignacio de la Llave"
          ],
          [
           50052.15,
           173,
           "Yucatán"
          ],
          [
           176541.57,
           263,
           "Tamaulipas"
          ],
          [
           51381.5,
           87,
           "Chiapas"
          ],
          [
           155425.12,
           220,
           "Chiapas"
          ],
          [
           68492.42,
           105,
           "Estado de México"
          ],
          [
           179134.04,
           139,
           "Puebla"
          ],
          [
           77975.99,
           122,
           "Jalisco"
          ],
          [
           121178.91,
           120,
           "Morelos"
          ],
          [
           173865.39,
           271,
           "Veracruz de Ignacio de la Llave"
          ],
          [
           184446.42,
           350,
           "Querétaro"
          ],
          [
           154950.94,
           181,
           "Estado de México"
          ],
          [
           112222.21,
           212,
           "Sinaloa"
          ],
          [
           115910.26,
           287,
           "Tamaulipas"
          ],
          [
           135430.6,
           250,
           "Distrito Federal"
          ],
          [
           174140.42,
           100,
           "Distrito Federal"
          ],
          [
           181084.17,
           298,
           "Chiapas"
          ],
          [
           35835.3,
           67,
           "Tamaulipas"
          ],
          [
           131747.44,
           180,
           "Guanajuato"
          ],
          [
           183989.52,
           80,
           "Distrito Federal"
          ],
          [
           97469.99,
           153,
           "Chiapas"
          ],
          [
           34254.33,
           60,
           "Estado de México"
          ],
          [
           237089.17,
           315,
           "Querétaro"
          ],
          [
           33358.45,
           65,
           "Baja California Sur"
          ],
          [
           68492.42,
           140,
           "Veracruz de Ignacio de la Llave"
          ],
          [
           71653.61,
           107,
           "Estado de México"
          ],
          [
           192305.66,
           320,
           "Hidalgo"
          ],
          [
           57955.13,
           104,
           "Veracruz de Ignacio de la Llave"
          ],
          [
           179134.04,
           85,
           "Distrito Federal"
          ],
          [
           209692.2,
           108,
           "Distrito Federal"
          ],
          [
           65858.1,
           155,
           "Nuevo León"
          ],
          [
           187081.37,
           295,
           "Querétaro"
          ],
          [
           180187.77,
           126,
           "Distrito Federal"
          ],
          [
           44783.51,
           249,
           "Yucatán"
          ],
          [
           284047.49,
           300,
           "Estado de México"
          ],
          [
           55320.8,
           123,
           "Veracruz de Ignacio de la Llave"
          ],
          [
           88513.29,
           162,
           "Puebla"
          ],
          [
           209955.63,
           322,
           "Querétaro"
          ],
          [
           55333.92,
           114,
           "Nuevo León"
          ],
          [
           134382.39,
           175,
           "Estado de México"
          ],
          [
           43213.16,
           88,
           "Durango"
          ],
          [
           40041.72,
           60,
           "Distrito Federal"
          ],
          [
           250320.14,
           160,
           "Querétaro"
          ],
          [
           101158.04,
           244,
           "Veracruz de Ignacio de la Llave"
          ],
          [
           34246.21,
           66,
           "Morelos"
          ],
          [
           118544.58,
           189,
           "Quintana Roo"
          ],
          [
           57968.87,
           104,
           "Tabasco"
          ],
          [
           139619.18,
           220,
           "Veracruz de Ignacio de la Llave"
          ],
          [
           147557.13,
           78,
           "Distrito Federal"
          ],
          [
           101196.61,
           130,
           "Estado de México"
          ],
          [
           155461.98,
           200,
           "Morelos"
          ],
          [
           279238.36,
           334,
           "Querétaro"
          ],
          [
           224660.17,
           90,
           "Distrito Federal"
          ],
          [
           115937.75,
           257,
           "Nuevo León"
          ],
          [
           98523.72,
           100,
           "Distrito Federal"
          ],
          [
           152790.8,
           230,
           "Querétaro"
          ],
          [
           144922.18,
           280,
           "Yucatán"
          ],
          [
           60589.45,
           100,
           "Veracruz de Ignacio de la Llave"
          ],
          [
           52686.48,
           160,
           "Veracruz de Ignacio de la Llave"
          ],
          [
           68492.42,
           163,
           "Veracruz de Ignacio de la Llave"
          ],
          [
           133442.74,
           134,
           "Baja California"
          ],
          [
           65873.72,
           93,
           "Tamaulipas"
          ],
          [
           110641.61,
           235,
           "Yucatán"
          ],
          [
           316118.9,
           178,
           "Querétaro"
          ],
          [
           92728.21,
           214,
           "Veracruz de Ignacio de la Llave"
          ],
          [
           156742.28,
           333,
           "Morelos"
          ],
          [
           52686.48,
           90,
           "Morelos"
          ],
          [
           147522.15,
           270,
           "Sonora"
          ],
          [
           225024.63,
           210,
           "Quintana Roo"
          ],
          [
           226551.88,
           180,
           "Baja California Sur"
          ],
          [
           67981.68,
           97,
           "Guerrero"
          ],
          [
           279238.36,
           189,
           "Veracruz de Ignacio de la Llave"
          ],
          [
           42149.18,
           200,
           "Chihuahua"
          ],
          [
           43993.21,
           150,
           "Jalisco"
          ],
          [
           139619.18,
           200,
           "Yucatán"
          ],
          [
           121178.91,
           145,
           "Morelos"
          ],
          [
           90589.54,
           172,
           "Veracruz de Ignacio de la Llave"
          ],
          [
           80635.87,
           75,
           "Distrito Federal"
          ],
          [
           77325.47,
           150,
           "Estado de México"
          ],
          [
           306635.33,
           136,
           "Distrito Federal"
          ],
          [
           110641.61,
           250,
           "Yucatán"
          ],
          [
           144922.18,
           245,
           "San Luis Potosí"
          ],
          [
           136984.85,
           184,
           "Morelos"
          ],
          [
           125950.55,
           161,
           "Tabasco"
          ],
          [
           147522.15,
           338,
           "Morelos"
          ],
          [
           91463.73,
           116,
           "Puebla"
          ],
          [
           89588.26,
           140,
           "Puebla"
          ],
          [
           34246.21,
           78,
           "Morelos"
          ],
          [
           263432.41,
           380,
           "Morelos"
          ],
          [
           118572.7,
           213,
           "Yucatán"
          ],
          [
           50064.02,
           70,
           "Distrito Federal"
          ],
          [
           102763,
           200,
           "Yucatán"
          ],
          [
           41105.2,
           150,
           "Veracruz de Ignacio de la Llave"
          ],
          [
           208160.96,
           92,
           "Nuevo León"
          ],
          [
           100104.31,
           175,
           "Estado de México"
          ],
          [
           94256.11,
           200,
           "Estado de México"
          ],
          [
           75078.23,
           225,
           "San Luis Potosí"
          ],
          [
           50052.15,
           107,
           "Nuevo León"
          ],
          [
           109587.88,
           160,
           "San Luis Potosí"
          ],
          [
           200208.63,
           280,
           "Guerrero"
          ],
          [
           57422.47,
           69,
           "Estado de México"
          ],
          [
           50052.15,
           90,
           "Estado de México"
          ],
          [
           139619.18,
           150,
           "Guerrero"
          ],
          [
           47417.83,
           100,
           "Morelos"
          ],
          [
           39946.36,
           80,
           "Distrito Federal"
          ],
          [
           83771.5,
           66,
           "Yucatán"
          ],
          [
           57955.13,
           100,
           "Hidalgo"
          ],
          [
           210745.93,
           296,
           "Tamaulipas"
          ],
          [
           131716.2,
           170,
           "Estado de México"
          ],
          [
           210743.21,
           202,
           "Yucatán"
          ],
          [
           168636.73,
           235,
           "Puebla"
          ],
          [
           68205.43,
           159,
           "Chihuahua"
          ],
          [
           144887.83,
           161,
           "Distrito Federal"
          ],
          [
           51393.55,
           70,
           "Distrito Federal"
          ],
          [
           131716.2,
           240,
           "Chiapas"
          ],
          [
           78766.29,
           205,
           "Veracruz de Ignacio de la Llave"
          ],
          [
           100075.35,
           165,
           "Yucatán"
          ],
          [
           99577.45,
           98,
           "Guerrero"
          ],
          [
           37943.26,
           62,
           "Estado de México"
          ],
          [
           62184.79,
           125,
           "Morelos"
          ],
          [
           189663.62,
           320,
           "Yucatán"
          ],
          [
           176979.24,
           127,
           "Puebla"
          ],
          [
           242415.29,
           365,
           "Nuevo León"
          ],
          [
           68245.17,
           180,
           "Yucatán"
          ],
          [
           84318.36,
           84,
           "Quintana Roo"
          ],
          [
           210795.91,
           320,
           "Morelos"
          ],
          [
           40568.59,
           61,
           "Sinaloa"
          ],
          [
           84318.36,
           62,
           "Distrito Federal"
          ],
          [
           218648.9,
           60,
           "Distrito Federal"
          ],
          [
           128098.38,
           150,
           "Estado de México"
          ],
          [
           43202.91,
           73,
           "Chiapas"
          ],
          [
           131768.89,
           80,
           "Distrito Federal"
          ],
          [
           42676.05,
           65,
           "Distrito Federal"
          ],
          [
           316118.9,
           260,
           "Estado de México"
          ],
          [
           77975.99,
           104,
           "Querétaro"
          ],
          [
           51644.99,
           125,
           "San Luis Potosí"
          ],
          [
           51644.99,
           140,
           "San Luis Potosí"
          ],
          [
           110667.85,
           200,
           "Chiapas"
          ],
          [
           113302.8,
           163,
           "Tamaulipas"
          ],
          [
           150683.34,
           270,
           "Distrito Federal"
          ],
          [
           236091.42,
           155,
           "Estado de México"
          ],
          [
           79029.72,
           159,
           "Tlaxcala"
          ],
          [
           72707.34,
           145,
           "Querétaro"
          ],
          [
           99577.45,
           186,
           "Yucatán"
          ],
          [
           72197.6,
           188,
           "San Luis Potosí"
          ],
          [
           65858.1,
           120,
           "Puebla"
          ],
          [
           37943.26,
           75,
           "Estado de México"
          ],
          [
           42969.88,
           190,
           "Veracruz de Ignacio de la Llave"
          ],
          [
           124340.1,
           170,
           "Veracruz de Ignacio de la Llave"
          ],
          [
           76395.4,
           64,
           "Distrito Federal"
          ],
          [
           268701.06,
           360,
           "Querétaro"
          ],
          [
           84298.37,
           160,
           "Veracruz de Ignacio de la Llave"
          ],
          [
           43729.78,
           150,
           "Veracruz de Ignacio de la Llave"
          ],
          [
           189716.32,
           309,
           "Sonora"
          ],
          [
           237145.4,
           178,
           "Guerrero"
          ],
          [
           98656.43,
           215,
           "Yucatán"
          ],
          [
           53225.96,
           138,
           "Nuevo León"
          ],
          [
           123813.23,
           117,
           "Morelos"
          ],
          [
           41105.2,
           198,
           "Aguascalientes"
          ],
          [
           177695.7,
           83,
           "Distrito Federal"
          ],
          [
           83771.5,
           121,
           "Chiapas"
          ],
          [
           47417.83,
           164,
           "Nuevo León"
          ],
          [
           142253.5,
           185,
           "Aguascalientes"
          ],
          [
           73761.07,
           150,
           "Jalisco"
          ],
          [
           79048.46,
           120,
           "Nuevo León"
          ],
          [
           184446.42,
           200,
           "Morelos"
          ],
          [
           147522.15,
           269,
           "Querétaro"
          ],
          [
           44941.57,
           113,
           "Veracruz de Ignacio de la Llave"
          ],
          [
           201310.09,
           234,
           "Nuevo León"
          ],
          [
           47417.83,
           192,
           "Sinaloa"
          ],
          [
           79029.72,
           184,
           "Chiapas"
          ],
          [
           113302.8,
           100,
           "Distrito Federal"
          ],
          [
           81664.04,
           150,
           "San Luis Potosí"
          ],
          [
           209692.2,
           286,
           "Morelos"
          ],
          [
           123813.23,
           140,
           "Distrito Federal"
          ],
          [
           84318.36,
           216,
           "Distrito Federal"
          ],
          [
           126447.56,
           240,
           "Puebla"
          ],
          [
           226551.88,
           196,
           "Estado de México"
          ],
          [
           147522.15,
           180,
           "Morelos"
          ],
          [
           194986.21,
           330,
           "Querétaro"
          ],
          [
           92542.77,
           192,
           "Yucatán"
          ],
          [
           41095.45,
           135,
           "Tlaxcala"
          ],
          [
           84318.36,
           250,
           "Yucatán"
          ],
          [
           37943.26,
           79,
           "Estado de México"
          ],
          [
           36889.28,
           109,
           "Puebla"
          ],
          [
           64804.37,
           146,
           "Sinaloa"
          ],
          [
           269754.79,
           230,
           "Sinaloa"
          ],
          [
           40568.59,
           70,
           "Distrito Federal"
          ],
          [
           94858.16,
           64,
           "Distrito Federal"
          ],
          [
           79029.72,
           135,
           "Nuevo León"
          ],
          [
           90620.75,
           112,
           "Querétaro"
          ],
          [
           147557.13,
           350,
           "Chiapas"
          ],
          [
           149928.59,
           264,
           "Yucatán"
          ],
          [
           121178.91,
           165,
           "Quintana Roo"
          ],
          [
           84298.37,
           100,
           "Chiapas"
          ],
          [
           137017.34,
           223,
           "Querétaro"
          ],
          [
           68070.93,
           80,
           "Distrito Federal"
          ],
          [
           147522.15,
           83,
           "Distrito Federal"
          ],
          [
           161826.53,
           81,
           "Distrito Federal"
          ],
          [
           221283.23,
           350,
           "Yucatán"
          ],
          [
           34246.21,
           60,
           "Morelos"
          ],
          [
           102738.64,
           81,
           "Distrito Federal"
          ],
          [
           210795.91,
           380,
           "Yucatán"
          ],
          [
           68492.42,
           100,
           "Distrito Federal"
          ],
          [
           112402.96,
           85,
           "Distrito Federal"
          ],
          [
           197146.87,
           98,
           "Distrito Federal"
          ],
          [
           168596.74,
           305,
           "Yucatán"
          ],
          [
           168596.74,
           240,
           "Veracruz de Ignacio de la Llave"
          ],
          [
           73761.07,
           114,
           "Baja California"
          ],
          [
           42149.18,
           90,
           "Puebla"
          ],
          [
           115910.26,
           354,
           "Querétaro"
          ],
          [
           71143.62,
           155,
           "Yucatán"
          ],
          [
           45310.37,
           86,
           "Querétaro"
          ],
          [
           208160.96,
           306,
           "Morelos"
          ],
          [
           94278.47,
           171,
           "Yucatán"
          ],
          [
           97469.99,
           182,
           "Morelos"
          ],
          [
           54267.07,
           100,
           "Veracruz de Ignacio de la Llave"
          ],
          [
           183989.47,
           70,
           "Distrito Federal"
          ],
          [
           115910.26,
           198,
           "Puebla"
          ],
          [
           77572.89,
           70,
           "Distrito Federal"
          ],
          [
           137017.34,
           334,
           "Yucatán"
          ],
          [
           110404.35,
           130,
           "Yucatán"
          ],
          [
           56637.97,
           106,
           "Querétaro"
          ],
          [
           68421.05,
           72,
           "Nuevo León"
          ],
          [
           278947.37,
           360,
           "Morelos"
          ],
          [
           65789.47,
           85,
           "Estado de México"
          ],
          [
           111578.95,
           158,
           "San Luis Potosí"
          ],
          [
           39904.74,
           65,
           "Distrito Federal"
          ],
          [
           35263.16,
           100,
           "Veracruz de Ignacio de la Llave"
          ],
          [
           157368.42,
           74,
           "Distrito Federal"
          ],
          [
           112473.68,
           220,
           "Yucatán"
          ],
          [
           110526.32,
           236,
           "Chihuahua"
          ],
          [
           88947.37,
           85,
           "Jalisco"
          ],
          [
           55000,
           131,
           "San Luis Potosí"
          ],
          [
           163157.89,
           337,
           "Puebla"
          ],
          [
           184210.53,
           92,
           "Distrito Federal"
          ],
          [
           105263.16,
           195,
           "Guerrero"
          ],
          [
           144736.84,
           207,
           "Veracruz de Ignacio de la Llave"
          ],
          [
           104736.84,
           280,
           "Nuevo León"
          ],
          [
           65789.47,
           99,
           "Estado de México"
          ],
          [
           136842.11,
           210,
           "Chiapas"
          ],
          [
           71911.21,
           111,
           "Baja California"
          ],
          [
           63157.89,
           150,
           "Yucatán"
          ],
          [
           94736.84,
           170,
           "Chiapas"
          ],
          [
           52631.58,
           86,
           "Morelos"
          ],
          [
           35841.58,
           79,
           "Distrito Federal"
          ],
          [
           97368.42,
           190,
           "Yucatán"
          ],
          [
           157894.74,
           237,
           "Querétaro"
          ],
          [
           115263.16,
           300,
           "Yucatán"
          ],
          [
           131578.95,
           300,
           "Guerrero"
          ],
          [
           81578.95,
           232,
           "Veracruz de Ignacio de la Llave"
          ],
          [
           92105.26,
           220,
           "Yucatán"
          ],
          [
           94736.84,
           295,
           "Hidalgo"
          ],
          [
           99473.68,
           240,
           "Yucatán"
          ],
          [
           150000,
           160,
           "Morelos"
          ],
          [
           57894.74,
           115,
           "Veracruz de Ignacio de la Llave"
          ],
          [
           118421.05,
           290,
           "Quintana Roo"
          ],
          [
           71052.63,
           180,
           "Chiapas"
          ],
          [
           130842.11,
           98,
           "Distrito Federal"
          ],
          [
           73684.21,
           120,
           "Chiapas"
          ],
          [
           321052.63,
           378,
           "Estado de México"
          ],
          [
           189473.68,
           280,
           "Guanajuato"
          ],
          [
           231578.95,
           299,
           "Puebla"
          ],
          [
           124210.53,
           140,
           "Distrito Federal"
          ],
          [
           81052.63,
           172,
           "San Luis Potosí"
          ],
          [
           46280.68,
           60,
           "Distrito Federal"
          ],
          [
           36842.11,
           98,
           "Tabasco"
          ],
          [
           260526.32,
           286,
           "Puebla"
          ],
          [
           105263.16,
           163,
           "Tamaulipas"
          ],
          [
           201061.21,
           100,
           "Distrito Federal"
          ],
          [
           178947.37,
           240,
           "Morelos"
          ],
          [
           186842.11,
           325,
           "Yucatán"
          ],
          [
           184210.53,
           190,
           "Yucatán"
          ],
          [
           57894.74,
           110,
           "Morelos"
          ],
          [
           97368.42,
           155,
           "Querétaro"
          ],
          [
           69473.68,
           120,
           "Morelos"
          ],
          [
           121052.63,
           141,
           "Guerrero"
          ],
          [
           88947.37,
           127,
           "Puebla"
          ],
          [
           89473.68,
           165,
           "Tamaulipas"
          ],
          [
           97368.42,
           145,
           "Morelos"
          ],
          [
           47105.26,
           60,
           "Yucatán"
          ],
          [
           123684.21,
           176,
           "Jalisco"
          ],
          [
           279193.58,
           100,
           "Distrito Federal"
          ],
          [
           236842.11,
           64,
           "Distrito Federal"
          ],
          [
           78189.47,
           180,
           "Distrito Federal"
          ],
          [
           289421.05,
           117,
           "Distrito Federal"
          ],
          [
           40000,
           82,
           "Morelos"
          ],
          [
           147368.42,
           258,
           "Querétaro"
          ],
          [
           73684.21,
           120,
           "Querétaro"
          ],
          [
           71911.21,
           111,
           "Baja California"
          ],
          [
           44736.84,
           82,
           "Tabasco"
          ],
          [
           37037.11,
           75,
           "Estado de México"
          ],
          [
           142105.26,
           240,
           "Hidalgo"
          ],
          [
           42807.63,
           86,
           "Estado de México"
          ],
          [
           91315.79,
           200,
           "Yucatán"
          ],
          [
           134715.79,
           136,
           "Guerrero"
          ],
          [
           43157.89,
           90,
           "Nuevo León"
          ],
          [
           166315.79,
           145,
           "Quintana Roo"
          ],
          [
           100000,
           250,
           "Guerrero"
          ],
          [
           51578.95,
           108,
           "Guerrero"
          ],
          [
           77368.42,
           64,
           "Jalisco"
          ],
          [
           103945.63,
           252,
           "Yucatán"
          ],
          [
           233473.68,
           114,
           "Distrito Federal"
          ],
          [
           97368.42,
           102,
           "Puebla"
          ],
          [
           231478.95,
           304,
           "Distrito Federal"
          ],
          [
           229400,
           100,
           "Distrito Federal"
          ],
          [
           76315.79,
           146,
           "Yucatán"
          ],
          [
           93684.21,
           154,
           "Morelos"
          ],
          [
           226315.79,
           289,
           "Puebla"
          ],
          [
           63157.89,
           90,
           "Yucatán"
          ],
          [
           34210.53,
           67,
           "Morelos"
          ],
          [
           163157.89,
           299,
           "Jalisco"
          ],
          [
           105000,
           182,
           "Yucatán"
          ],
          [
           157894.74,
           267,
           "Estado de México"
          ],
          [
           155263.16,
           233,
           "Chihuahua"
          ],
          [
           97368.42,
           87,
           "Estado de México"
          ],
          [
           69473.68,
           80,
           "Estado de México"
          ],
          [
           65789.47,
           101,
           "Nayarit"
          ],
          [
           263157.89,
           370,
           "Distrito Federal"
          ],
          [
           57894.74,
           110,
           "Veracruz de Ignacio de la Llave"
          ],
          [
           213157.89,
           220,
           "Jalisco"
          ],
          [
           47368.42,
           318,
           "Tamaulipas"
          ],
          [
           90014.95,
           70,
           "Distrito Federal"
          ],
          [
           98368.42,
           147,
           "Quintana Roo"
          ],
          [
           78947.37,
           104,
           "Baja California"
          ],
          [
           65789.47,
           105,
           "Jalisco"
          ],
          [
           252631.58,
           315,
           "Sinaloa"
          ],
          [
           147368.42,
           277,
           "Yucatán"
          ],
          [
           122894.74,
           240,
           "Yucatán"
          ],
          [
           75210.53,
           201,
           "Yucatán"
          ],
          [
           176315.79,
           172,
           "Yucatán"
          ],
          [
           53684.21,
           103,
           "San Luis Potosí"
          ],
          [
           51578.95,
           110,
           "Querétaro"
          ],
          [
           236842.11,
           135,
           "Jalisco"
          ],
          [
           44736.84,
           88,
           "Veracruz de Ignacio de la Llave"
          ],
          [
           209311.05,
           120,
           "Distrito Federal"
          ],
          [
           73684.21,
           180,
           "Querétaro"
          ],
          [
           184210.53,
           270,
           "Estado de México"
          ],
          [
           52631.58,
           68,
           "Distrito Federal"
          ],
          [
           71052.63,
           150,
           "Veracruz de Ignacio de la Llave"
          ],
          [
           314736.84,
           280,
           "Distrito Federal"
          ],
          [
           51842.11,
           140,
           "Hidalgo"
          ],
          [
           122419.26,
           147,
           "Distrito Federal"
          ],
          [
           160263.16,
           144,
           "Querétaro"
          ],
          [
           139473.68,
           173,
           "Puebla"
          ],
          [
           69684.21,
           111,
           "Querétaro"
          ],
          [
           63157.89,
           189,
           "Colima"
          ],
          [
           36263.16,
           70,
           "Baja California"
          ],
          [
           118421.05,
           130,
           "Veracruz de Ignacio de la Llave"
          ],
          [
           78947.37,
           140,
           "Hidalgo"
          ],
          [
           231578.95,
           350,
           "Chihuahua"
          ],
          [
           76315.79,
           155,
           "Sinaloa"
          ],
          [
           44736.84,
           80,
           "Tamaulipas"
          ],
          [
           86842.11,
           206,
           "Sonora"
          ],
          [
           78947.37,
           170,
           "Nuevo León"
          ],
          [
           131578.95,
           235,
           "Querétaro"
          ],
          [
           205578.95,
           178,
           "Quintana Roo"
          ],
          [
           94736.84,
           170,
           "Chiapas"
          ],
          [
           53102.79,
           65,
           "Distrito Federal"
          ],
          [
           57894.74,
           92,
           "Morelos"
          ],
          [
           168421.05,
           220,
           "Querétaro"
          ],
          [
           197368.42,
           300,
           "Chihuahua"
          ],
          [
           47631.58,
           75,
           "Distrito Federal"
          ],
          [
           166863.16,
           80,
           "Estado de México"
          ],
          [
           136842.11,
           195,
           "Estado de México"
          ],
          [
           173421.05,
           101,
           "Distrito Federal"
          ],
          [
           42105.26,
           187,
           "Durango"
          ],
          [
           94736.84,
           130,
           "Morelos"
          ],
          [
           89210.53,
           115,
           "Distrito Federal"
          ],
          [
           97368.42,
           113,
           "Guerrero"
          ],
          [
           34021.74,
           140,
           "Estado de México"
          ],
          [
           47368.42,
           117,
           "Sinaloa"
          ],
          [
           134210.53,
           182,
           "Quintana Roo"
          ],
          [
           197982.11,
           330,
           "Quintana Roo"
          ],
          [
           200000,
           100,
           "Nuevo León"
          ],
          [
           142105.26,
           228,
           "Nuevo León"
          ],
          [
           184210.53,
           298,
           "Sonora"
          ],
          [
           65789.47,
           96,
           "Baja California Sur"
          ],
          [
           41052.63,
           79,
           "Jalisco"
          ],
          [
           78947.37,
           109,
           "Tamaulipas"
          ],
          [
           251578.95,
           180,
           "Estado de México"
          ],
          [
           117894.74,
           214,
           "Yucatán"
          ],
          [
           206315.79,
           325,
           "Querétaro"
          ],
          [
           225263.16,
           74,
           "Distrito Federal"
          ],
          [
           147368.42,
           160,
           "Distrito Federal"
          ],
          [
           86842.11,
           165,
           "Morelos"
          ],
          [
           106736.84,
           75,
           "Distrito Federal"
          ],
          [
           113710.53,
           206,
           "Yucatán"
          ],
          [
           57894.74,
           90,
           "Morelos"
          ],
          [
           131578.95,
           250,
           "Estado de México"
          ],
          [
           152368.42,
           274,
           "Yucatán"
          ],
          [
           165789.47,
           235,
           "Veracruz de Ignacio de la Llave"
          ],
          [
           67894.74,
           155,
           "Yucatán"
          ],
          [
           116403.58,
           90,
           "Distrito Federal"
          ],
          [
           66315.79,
           350,
           "Tabasco"
          ],
          [
           97368.42,
           190,
           "Yucatán"
          ],
          [
           127368.42,
           263,
           "Tamaulipas"
          ],
          [
           115789.47,
           190,
           "San Luis Potosí"
          ],
          [
           51578.95,
           92,
           "Baja California"
          ],
          [
           50000,
           138,
           "San Luis Potosí"
          ],
          [
           151578.95,
           222,
           "Puebla"
          ],
          [
           86842.11,
           110,
           "Morelos"
          ],
          [
           260526.32,
           355,
           "Chihuahua"
          ],
          [
           236842.11,
           135,
           "Distrito Federal"
          ],
          [
           77894.74,
           110,
           "Distrito Federal"
          ],
          [
           147631.58,
           95,
           "Distrito Federal"
          ],
          [
           144736.84,
           140,
           "Guerrero"
          ],
          [
           91052.63,
           197,
           "Yucatán"
          ],
          [
           205263.16,
           380,
           "Puebla"
          ],
          [
           35789.47,
           140,
           "Aguascalientes"
          ],
          [
           44736.84,
           80,
           "Quintana Roo"
          ],
          [
           157489.47,
           75,
           "Distrito Federal"
          ],
          [
           69473.68,
           200,
           "Nuevo León"
          ],
          [
           184210.53,
           275,
           "Baja California Sur"
          ],
          [
           86842.11,
           164,
           "Jalisco"
          ],
          [
           74234.37,
           180,
           "Nuevo León"
          ],
          [
           139473.68,
           122,
           "Estado de México"
          ],
          [
           305263.16,
           190,
           "Estado de México"
          ],
          [
           69578.95,
           131,
           "Yucatán"
          ],
          [
           176842.11,
           208,
           "Quintana Roo"
          ],
          [
           44736.84,
           61,
           "Guerrero"
          ],
          [
           44736.84,
           83,
           "Jalisco"
          ],
          [
           35526.32,
           174,
           "Yucatán"
          ],
          [
           168421.05,
           180,
           "Tlaxcala"
          ],
          [
           44736.84,
           118,
           "Veracruz de Ignacio de la Llave"
          ],
          [
           77631.58,
           115,
           "Chiapas"
          ],
          [
           100000,
           245,
           "Estado de México"
          ],
          [
           60526.32,
           100,
           "Nuevo León"
          ],
          [
           92105.26,
           130,
           "Tamaulipas"
          ],
          [
           240526.32,
           278,
           "Nuevo León"
          ],
          [
           236842.11,
           260,
           "Puebla"
          ],
          [
           45789.47,
           120,
           "Estado de México"
          ],
          [
           104210.53,
           130,
           "Nuevo León"
          ],
          [
           76315.79,
           146,
           "Puebla"
          ],
          [
           221052.63,
           290,
           "Morelos"
          ],
          [
           97678.95,
           80,
           "Distrito Federal"
          ],
          [
           252631.58,
           139,
           "Estado de México"
          ],
          [
           273684.21,
           304,
           "Querétaro"
          ],
          [
           204000,
           220,
           "Estado de México"
          ],
          [
           50000,
           193,
           "Tamaulipas"
          ],
          [
           60526.32,
           88,
           "Tamaulipas"
          ],
          [
           86842.11,
           130,
           "Morelos"
          ],
          [
           199473.68,
           290,
           "Querétaro"
          ],
          [
           65789.47,
           152,
           "Nayarit"
          ],
          [
           57894.74,
           130,
           "Veracruz de Ignacio de la Llave"
          ],
          [
           48000,
           85,
           "Estado de México"
          ],
          [
           39473.68,
           80,
           "Morelos"
          ],
          [
           147368.42,
           99,
           "Quintana Roo"
          ],
          [
           83157.89,
           166,
           "Puebla"
          ],
          [
           223684.21,
           350,
           "Nuevo León"
          ],
          [
           63157.89,
           140,
           "Morelos"
          ],
          [
           120263.16,
           253,
           "Yucatán"
          ],
          [
           65789.47,
           230,
           "Morelos"
          ],
          [
           262631.58,
           350,
           "Nuevo León"
          ],
          [
           207894.74,
           270,
           "Estado de México"
          ],
          [
           81578.95,
           95,
           "Jalisco"
          ],
          [
           94210.53,
           115,
           "Distrito Federal"
          ],
          [
           126315.79,
           160,
           "Jalisco"
          ],
          [
           165789.47,
           85,
           "Distrito Federal"
          ],
          [
           52105.26,
           110,
           "Querétaro"
          ],
          [
           192105.26,
           305,
           "Aguascalientes"
          ],
          [
           113105.26,
           126,
           "San Luis Potosí"
          ],
          [
           46973.68,
           87,
           "Puebla"
          ],
          [
           113684.21,
           122,
           "Puebla"
          ],
          [
           242105.26,
           300,
           "Morelos"
          ],
          [
           244736.84,
           145,
           "Distrito Federal"
          ],
          [
           184210.53,
           200,
           "Veracruz de Ignacio de la Llave"
          ],
          [
           51000,
           87,
           "Estado de México"
          ],
          [
           33684.21,
           61,
           "Tamaulipas"
          ],
          [
           68421.05,
           76,
           "Morelos"
          ],
          [
           86789.47,
           144,
           "Yucatán"
          ],
          [
           92105.26,
           160,
           "Veracruz de Ignacio de la Llave"
          ],
          [
           230842.11,
           360,
           "Distrito Federal"
          ],
          [
           113157.89,
           222,
           "Yucatán"
          ],
          [
           92105.26,
           134,
           "Estado de México"
          ],
          [
           49473.68,
           85,
           "Estado de México"
          ],
          [
           141052.63,
           280,
           "Distrito Federal"
          ],
          [
           139473.68,
           251,
           "Veracruz de Ignacio de la Llave"
          ],
          [
           236842.11,
           167,
           "Distrito Federal"
          ],
          [
           89421.05,
           93,
           "Baja California"
          ],
          [
           227684.21,
           230,
           "Estado de México"
          ],
          [
           97894.74,
           181,
           "Yucatán"
          ],
          [
           127894.74,
           143,
           "Quintana Roo"
          ],
          [
           236842.11,
           380,
           "Veracruz de Ignacio de la Llave"
          ],
          [
           192217.47,
           326,
           "Chiapas"
          ],
          [
           194736.84,
           160,
           "Querétaro"
          ],
          [
           110526.32,
           250,
           "Jalisco"
          ],
          [
           46789.47,
           60,
           "Yucatán"
          ],
          [
           121052.63,
           172,
           "Nuevo León"
          ],
          [
           78947.37,
           204,
           "Puebla"
          ],
          [
           101157.89,
           95,
           "Distrito Federal"
          ],
          [
           63157.89,
           250,
           "Chiapas"
          ],
          [
           36421.05,
           70,
           "Distrito Federal"
          ],
          [
           121052.63,
           157,
           "Veracruz de Ignacio de la Llave"
          ],
          [
           207894.74,
           230,
           "Guerrero"
          ],
          [
           173684.21,
           298,
           "Querétaro"
          ],
          [
           97368.42,
           190,
           "Morelos"
          ],
          [
           151315.79,
           245,
           "Veracruz de Ignacio de la Llave"
          ],
          [
           100000,
           142,
           "Guerrero"
          ],
          [
           137105.26,
           132,
           "Estado de México"
          ],
          [
           70263.16,
           90,
           "Estado de México"
          ],
          [
           84210.53,
           127,
           "Jalisco"
          ],
          [
           228947.37,
           300,
           "Yucatán"
          ],
          [
           98162.37,
           215,
           "Yucatán"
          ],
          [
           97368.42,
           170,
           "Puebla"
          ],
          [
           148739.68,
           186,
           "Yucatán"
          ],
          [
           89473.68,
           210,
           "Veracruz de Ignacio de la Llave"
          ],
          [
           102631.58,
           110,
           "Baja California"
          ],
          [
           125926.68,
           223,
           "Yucatán"
          ],
          [
           42105.26,
           350,
           "Veracruz de Ignacio de la Llave"
          ],
          [
           65789.47,
           101,
           "Nayarit"
          ],
          [
           49473.68,
           170,
           "Veracruz de Ignacio de la Llave"
          ],
          [
           128947.37,
           214,
           "Tamaulipas"
          ],
          [
           86842.11,
           184,
           "Morelos"
          ],
          [
           76315.79,
           120,
           "Querétaro"
          ],
          [
           110000,
           150,
           "Distrito Federal"
          ],
          [
           234210.53,
           250,
           "Estado de México"
          ],
          [
           157894.74,
           170,
           "Guerrero"
          ],
          [
           184210.53,
           383,
           "Sonora"
          ],
          [
           48947.37,
           95,
           "Querétaro"
          ],
          [
           97368.42,
           137,
           "Guerrero"
          ],
          [
           210526.32,
           258,
           "Querétaro"
          ],
          [
           68157.89,
           80,
           "Distrito Federal"
          ],
          [
           65789.47,
           121,
           "Morelos"
          ],
          [
           171949.05,
           120,
           "Distrito Federal"
          ],
          [
           149000,
           228,
           "Estado de México"
          ],
          [
           57894.74,
           102,
           "Sonora"
          ],
          [
           104736.84,
           190,
           "Nuevo León"
          ],
          [
           120000,
           180,
           "Querétaro"
          ],
          [
           94736.84,
           165,
           "Puebla"
          ],
          [
           35368.42,
           150,
           "Estado de México"
          ],
          [
           115789.47,
           135,
           "Querétaro"
          ],
          [
           184210.53,
           240,
           "Yucatán"
          ],
          [
           118421.05,
           140,
           "Morelos"
          ],
          [
           78947.37,
           70,
           "Yucatán"
          ],
          [
           113157.89,
           234,
           "Nuevo León"
          ],
          [
           118421.05,
           220,
           "Yucatán"
          ],
          [
           84210.53,
           160,
           "Morelos"
          ],
          [
           194736.84,
           250,
           "Querétaro"
          ],
          [
           115789.47,
           120,
           "Puebla"
          ],
          [
           263157.89,
           380,
           "Tamaulipas"
          ],
          [
           77631.58,
           96,
           "Jalisco"
          ],
          [
           92105.26,
           139,
           "Querétaro"
          ],
          [
           115789.47,
           250,
           "San Luis Potosí"
          ],
          [
           94210.53,
           220,
           "Yucatán"
          ],
          [
           181263.16,
           290,
           "Nuevo León"
          ],
          [
           228947.37,
           300,
           "Veracruz de Ignacio de la Llave"
          ],
          [
           71052.63,
           92,
           "Distrito Federal"
          ],
          [
           221052.63,
           261,
           "Morelos"
          ],
          [
           44789.47,
           260,
           "Estado de México"
          ],
          [
           66526.32,
           228,
           "Yucatán"
          ],
          [
           142105.26,
           126,
           "Estado de México"
          ],
          [
           73684.21,
           131,
           "Tamaulipas"
          ],
          [
           52428.26,
           80,
           "Distrito Federal"
          ],
          [
           307127.16,
           256,
           "Guerrero"
          ],
          [
           63157.89,
           111,
           "Tamaulipas"
          ],
          [
           147368.42,
           300,
           "Jalisco"
          ],
          [
           67026.32,
           160,
           "Veracruz de Ignacio de la Llave"
          ],
          [
           42631.58,
           115,
           "Baja California"
          ],
          [
           101315.79,
           219,
           "Puebla"
          ],
          [
           44736.84,
           110,
           "Hidalgo"
          ],
          [
           118421.05,
           250,
           "Yucatán"
          ],
          [
           205263.16,
           235,
           "Distrito Federal"
          ],
          [
           236842.11,
           350,
           "Durango"
          ],
          [
           39473.68,
           236,
           "Veracruz de Ignacio de la Llave"
          ],
          [
           63157.89,
           195,
           "Querétaro"
          ],
          [
           78947.37,
           60,
           "Distrito Federal"
          ],
          [
           78947.37,
           201,
           "Morelos"
          ],
          [
           49473.68,
           93,
           "Morelos"
          ],
          [
           89421.05,
           160,
           "San Luis Potosí"
          ],
          [
           294736.84,
           250,
           "Estado de México"
          ],
          [
           101884.21,
           242,
           "Yucatán"
          ],
          [
           144736.84,
           250,
           "Puebla"
          ],
          [
           36842.11,
           120,
           "Estado de México"
          ],
          [
           57894.74,
           134,
           "Sonora"
          ],
          [
           144736.84,
           300,
           "Sinaloa"
          ],
          [
           118421.05,
           180,
           "Distrito Federal"
          ],
          [
           110526.32,
           253,
           "Yucatán"
          ],
          [
           44736.84,
           140,
           "Tlaxcala"
          ],
          [
           158210.53,
           250,
           "Yucatán"
          ],
          [
           65789.47,
           121,
           "Morelos"
          ],
          [
           77089.47,
           208,
           "Distrito Federal"
          ],
          [
           110526.32,
           198,
           "San Luis Potosí"
          ],
          [
           165043.74,
           255,
           "Chiapas"
          ],
          [
           155263.16,
           160,
           "Nayarit"
          ],
          [
           184210.53,
           330,
           "Puebla"
          ],
          [
           118421.05,
           290,
           "Quintana Roo"
          ],
          [
           57894.74,
           150,
           "Guerrero"
          ],
          [
           55263.16,
           110,
           "Tabasco"
          ],
          [
           103684.21,
           300,
           "Distrito Federal"
          ],
          [
           50000,
           118,
           "Durango"
          ],
          [
           157368.42,
           204,
           "Quintana Roo"
          ],
          [
           71052.63,
           131,
           "Yucatán"
          ],
          [
           175368.42,
           74,
           "Distrito Federal"
          ],
          [
           105263.16,
           220,
           "Yucatán"
          ],
          [
           106368.42,
           160,
           "Estado de México"
          ],
          [
           92631.58,
           140,
           "Querétaro"
          ],
          [
           71052.63,
           158,
           "Sinaloa"
          ],
          [
           50000,
           80,
           "Baja California Sur"
          ],
          [
           110526.32,
           142,
           "Guerrero"
          ],
          [
           46315.79,
           150,
           "Morelos"
          ],
          [
           103157.89,
           160,
           "Morelos"
          ],
          [
           93368.42,
           84,
           "Distrito Federal"
          ],
          [
           110526.32,
           307,
           "Veracruz de Ignacio de la Llave"
          ],
          [
           35789.47,
           200,
           "Veracruz de Ignacio de la Llave"
          ],
          [
           72578.95,
           105,
           "Morelos"
          ],
          [
           68421.05,
           115,
           "Chihuahua"
          ],
          [
           44736.84,
           160,
           "Veracruz de Ignacio de la Llave"
          ],
          [
           60526.32,
           140,
           "Tamaulipas"
          ],
          [
           67368.42,
           240,
           "Chiapas"
          ],
          [
           55263.16,
           140,
           "Querétaro"
          ],
          [
           67631.58,
           200,
           "San Luis Potosí"
          ],
          [
           46315.79,
           86,
           "Morelos"
          ],
          [
           72631.58,
           130,
           "San Luis Potosí"
          ],
          [
           115789.47,
           268,
           "Tamaulipas"
          ],
          [
           152631.58,
           160,
           "Veracruz de Ignacio de la Llave"
          ],
          [
           121052.63,
           60,
           "Distrito Federal"
          ],
          [
           97894.74,
           170,
           "Estado de México"
          ],
          [
           44105.26,
           80,
           "Estado de México"
          ],
          [
           139473.68,
           67,
           "Distrito Federal"
          ],
          [
           53097.89,
           70,
           "Estado de México"
          ],
          [
           107894.74,
           250,
           "Distrito Federal"
          ],
          [
           194736.84,
           380,
           "Jalisco"
          ],
          [
           102631.58,
           176,
           "Baja California"
          ],
          [
           84210.53,
           245,
           "San Luis Potosí"
          ],
          [
           68421.05,
           128,
           "Puebla"
          ],
          [
           194736.84,
           350,
           "Querétaro"
          ],
          [
           197368.42,
           285,
           "Morelos"
          ],
          [
           184210.53,
           200,
           "Tamaulipas"
          ],
          [
           150000,
           78,
           "Distrito Federal"
          ],
          [
           53684.21,
           115,
           "Chiapas"
          ],
          [
           105263.16,
           230,
           "Estado de México"
          ],
          [
           44736.84,
           64,
           "Veracruz de Ignacio de la Llave"
          ],
          [
           51578.95,
           229,
           "Yucatán"
          ],
          [
           184210.53,
           229,
           "Distrito Federal"
          ],
          [
           71052.63,
           95,
           "Morelos"
          ],
          [
           45789.47,
           132,
           "Durango"
          ],
          [
           91052.63,
           90,
           "Distrito Federal"
          ],
          [
           36000,
           74,
           "Distrito Federal"
          ],
          [
           89473.68,
           220,
           "Morelos"
          ],
          [
           205263.16,
           350,
           "Querétaro"
          ],
          [
           157894.74,
           350,
           "Nuevo León"
          ],
          [
           52631.58,
           200,
           "Sinaloa"
          ],
          [
           136842.11,
           198,
           "Morelos"
          ],
          [
           43684.21,
           70,
           "Guerrero"
          ],
          [
           171578.95,
           90,
           "Distrito Federal"
          ],
          [
           61242.11,
           70,
           "Distrito Federal"
          ],
          [
           163157.89,
           188,
           "Estado de México"
          ],
          [
           63157.89,
           85,
           "Nuevo León"
          ],
          [
           71052.63,
           115,
           "Querétaro"
          ],
          [
           64210.53,
           123,
           "Nuevo León"
          ],
          [
           120000,
           90,
           "Distrito Federal"
          ],
          [
           41052.63,
           120,
           "Yucatán"
          ],
          [
           68421.05,
           147,
           "Chiapas"
          ],
          [
           274592.89,
           166,
           "Jalisco"
          ],
          [
           247105.26,
           215,
           "Estado de México"
          ],
          [
           273684.21,
           295,
           "Querétaro"
          ],
          [
           241060.53,
           125,
           "Distrito Federal"
          ],
          [
           36092.11,
           70,
           "Baja California"
          ],
          [
           202631.58,
           350,
           "Aguascalientes"
          ],
          [
           313105.26,
           340,
           "Jalisco"
          ],
          [
           71052.63,
           117,
           "Puebla"
          ],
          [
           52631.58,
           65,
           "Distrito Federal"
          ],
          [
           109210.53,
           100,
           "Distrito Federal"
          ],
          [
           97368.42,
           180,
           "Quintana Roo"
          ],
          [
           120252.63,
           136,
           "Puebla"
          ],
          [
           152631.58,
           80,
           "Distrito Federal"
          ],
          [
           52398.95,
           92,
           "Morelos"
          ],
          [
           88947.37,
           130,
           "Querétaro"
          ],
          [
           71052.63,
           137,
           "Nuevo León"
          ],
          [
           71052.63,
           155,
           "Yucatán"
          ],
          [
           41578.95,
           68,
           "Morelos"
          ],
          [
           176315.79,
           350,
           "Distrito Federal"
          ],
          [
           113157.89,
           163,
           "Tamaulipas"
          ],
          [
           78947.37,
           100,
           "Distrito Federal"
          ],
          [
           65789.47,
           66,
           "Distrito Federal"
          ],
          [
           94736.84,
           175,
           "Querétaro"
          ],
          [
           310526.32,
           340,
           "Nuevo León"
          ],
          [
           51578.95,
           90,
           "Jalisco"
          ],
          [
           81578.95,
           148,
           "Veracruz de Ignacio de la Llave"
          ],
          [
           89473.68,
           220,
           "Puebla"
          ],
          [
           78947.37,
           188,
           "Puebla"
          ],
          [
           34210.53,
           66,
           "Hidalgo"
          ],
          [
           118421.05,
           172,
           "Nayarit"
          ],
          [
           273684.21,
           150,
           "Distrito Federal"
          ],
          [
           163157.89,
           300,
           "Yucatán"
          ],
          [
           82473.68,
           176,
           "Hidalgo"
          ],
          [
           47368.42,
           146,
           "Veracruz de Ignacio de la Llave"
          ],
          [
           45789.47,
           70,
           "Distrito Federal"
          ],
          [
           189473.68,
           305,
           "Yucatán"
          ],
          [
           102631.58,
           157,
           "Querétaro"
          ],
          [
           41578.95,
           146,
           "Aguascalientes"
          ],
          [
           34210.53,
           111,
           "Baja California"
          ],
          [
           83157.89,
           138,
           "Tamaulipas"
          ],
          [
           126296.53,
           145,
           "Yucatán"
          ],
          [
           34210.53,
           120,
           "Chiapas"
          ],
          [
           192105.26,
           150,
           "Guerrero"
          ],
          [
           104736.84,
           380,
           "Estado de México"
          ],
          [
           56571.16,
           65,
           "Distrito Federal"
          ],
          [
           95343.42,
           349,
           "Distrito Federal"
          ],
          [
           263157.89,
           154,
           "Distrito Federal"
          ],
          [
           160526.32,
           350,
           "Yucatán"
          ],
          [
           40000,
           90,
           "Estado de México"
          ],
          [
           89473.68,
           148,
           "Puebla"
          ],
          [
           51578.95,
           92,
           "Baja California"
          ],
          [
           244736.84,
           122,
           "Distrito Federal"
          ],
          [
           100000,
           166,
           "San Luis Potosí"
          ],
          [
           71052.63,
           120,
           "Jalisco"
          ],
          [
           89473.68,
           200,
           "Baja California"
          ],
          [
           147368.42,
           260,
           "Estado de México"
          ],
          [
           225263.16,
           80,
           "Distrito Federal"
          ],
          [
           118421.05,
           193,
           "Querétaro"
          ],
          [
           56842.11,
           115,
           "Morelos"
          ],
          [
           79953.95,
           90,
           "Distrito Federal"
          ],
          [
           75263.16,
           185,
           "Yucatán"
          ],
          [
           142105.26,
           200,
           "Tamaulipas"
          ],
          [
           68421.05,
           138,
           "Guerrero"
          ],
          [
           121052.63,
           160,
           "Puebla"
          ],
          [
           100000,
           146,
           "Estado de México"
          ],
          [
           118421.05,
           200,
           "Sinaloa"
          ],
          [
           81578.95,
           170,
           "Chihuahua"
          ],
          [
           128218.68,
           235,
           "Yucatán"
          ],
          [
           44736.84,
           104,
           "Guerrero"
          ],
          [
           94210.53,
           128,
           "Baja California Sur"
          ],
          [
           197368.42,
           238,
           "Estado de México"
          ],
          [
           289473.68,
           164,
           "Distrito Federal"
          ],
          [
           126315.79,
           248,
           "Yucatán"
          ],
          [
           55263.16,
           85,
           "Morelos"
          ],
          [
           105789.47,
           151,
           "Estado de México"
          ],
          [
           125073.68,
           119,
           "Guerrero"
          ],
          [
           115789.47,
           191,
           "Estado de México"
          ],
          [
           103947.37,
           210,
           "Quintana Roo"
          ],
          [
           106736.84,
           72,
           "Distrito Federal"
          ],
          [
           40593.79,
           76,
           "Distrito Federal"
          ],
          [
           68421.05,
           345,
           "Jalisco"
          ],
          [
           105263.16,
           112,
           "Veracruz de Ignacio de la Llave"
          ],
          [
           113084.21,
           229,
           "San Luis Potosí"
          ],
          [
           238684.21,
           115,
           "Distrito Federal"
          ],
          [
           80711.37,
           168,
           "Yucatán"
          ],
          [
           36842.11,
           100,
           "Estado de México"
          ],
          [
           99473.68,
           200,
           "Puebla"
          ],
          [
           65789.47,
           139,
           "Tabasco"
          ],
          [
           86842.11,
           108,
           "Distrito Federal"
          ],
          [
           194736.84,
           300,
           "Veracruz de Ignacio de la Llave"
          ],
          [
           45789.47,
           146,
           "Estado de México"
          ],
          [
           155263.16,
           250,
           "Baja California Sur"
          ],
          [
           131578.95,
           180,
           "Quintana Roo"
          ],
          [
           66842.11,
           70,
           "Distrito Federal"
          ],
          [
           68421.05,
           80,
           "Morelos"
          ],
          [
           94736.84,
           110,
           "Morelos"
          ],
          [
           178447.37,
           90,
           "Distrito Federal"
          ],
          [
           115789.47,
           250,
           "Veracruz de Ignacio de la Llave"
          ],
          [
           84210.53,
           140,
           "Jalisco"
          ],
          [
           79342.11,
           107,
           "Distrito Federal"
          ],
          [
           195526.32,
           290,
           "Chihuahua"
          ],
          [
           39473.68,
           100,
           "Puebla"
          ],
          [
           91052.63,
           65,
           "Distrito Federal"
          ],
          [
           115789.47,
           135,
           "Querétaro"
          ],
          [
           93684.21,
           165,
           "Morelos"
          ],
          [
           75694.74,
           82,
           "Morelos"
          ],
          [
           62105.26,
           110,
           "Querétaro"
          ],
          [
           40789.47,
           97,
           "San Luis Potosí"
          ],
          [
           52631.53,
           64,
           "Estado de México"
          ],
          [
           231578.95,
           173,
           "Querétaro"
          ],
          [
           99473.68,
           179,
           "Nuevo León"
          ],
          [
           100000,
           187,
           "San Luis Potosí"
          ],
          [
           127894.74,
           180,
           "Querétaro"
          ],
          [
           131578.95,
           270,
           "Distrito Federal"
          ],
          [
           300000,
           380,
           "Querétaro"
          ],
          [
           139473.68,
           255,
           "Puebla"
          ],
          [
           76000,
           167,
           "Veracruz de Ignacio de la Llave"
          ],
          [
           105263.16,
           180,
           "Guerrero"
          ],
          [
           41578.95,
           86,
           "Baja California"
          ],
          [
           176327.37,
           110,
           "Distrito Federal"
          ],
          [
           150000,
           210,
           "Puebla"
          ],
          [
           42105.26,
           71,
           "Baja California Sur"
          ],
          [
           104013.16,
           210,
           "Yucatán"
          ],
          [
           65789.47,
           175,
           "Nuevo León"
          ],
          [
           111578.95,
           165,
           "Puebla"
          ],
          [
           134210.53,
           300,
           "Distrito Federal"
          ],
          [
           244736.84,
           290,
           "Estado de México"
          ],
          [
           68421.05,
           160,
           "Tlaxcala"
          ],
          [
           68421.05,
           110,
           "Morelos"
          ],
          [
           194736.84,
           309,
           "Querétaro"
          ],
          [
           33157.89,
           92,
           "Puebla"
          ],
          [
           65789.47,
           164,
           "Nuevo León"
          ],
          [
           150000,
           220,
           "Veracruz de Ignacio de la Llave"
          ],
          [
           57894.74,
           105,
           "San Luis Potosí"
          ],
          [
           120526.32,
           250,
           "Guanajuato"
          ],
          [
           76315.79,
           140,
           "Morelos"
          ],
          [
           102263.16,
           190,
           "Distrito Federal"
          ],
          [
           110526.32,
           115,
           "Estado de México"
          ],
          [
           46842.11,
           90,
           "Puebla"
          ],
          [
           89210.53,
           185,
           "Yucatán"
          ],
          [
           48550.59,
           71,
           "Distrito Federal"
          ],
          [
           168636.73,
           233,
           "Estado de México"
          ],
          [
           86932.69,
           300,
           "Estado de México"
          ],
          [
           68508.67,
           84,
           "Veracruz de Ignacio de la Llave"
          ],
          [
           102763,
           175,
           "Jalisco"
          ],
          [
           126477.54,
           223,
           "Yucatán"
          ],
          [
           121207.64,
           179,
           "Quintana Roo"
          ],
          [
           226869.1,
           205,
           "Guanajuato"
          ],
          [
           76395.4,
           130,
           "Chiapas"
          ],
          [
           50052.15,
           67,
           "Distrito Federal"
          ],
          [
           51076.22,
           80,
           "Distrito Federal"
          ],
          [
           152932.43,
           263,
           "Guanajuato"
          ],
          [
           216014.58,
           367,
           "Nuevo León"
          ],
          [
           34246.21,
           60,
           "Distrito Federal"
          ],
          [
           100104.31,
           120,
           "Distrito Federal"
          ],
          [
           158059.45,
           320,
           "Veracruz de Ignacio de la Llave"
          ],
          [
           103500.79,
           122,
           "Morelos"
          ],
          [
           237145.4,
           191,
           "Guerrero"
          ],
          [
           104319.23,
           220,
           "Veracruz de Ignacio de la Llave"
          ],
          [
           65633.66,
           153,
           "Distrito Federal"
          ],
          [
           90115.25,
           205,
           "Yucatán"
          ],
          [
           110667.85,
           120,
           "Veracruz de Ignacio de la Llave"
          ],
          [
           62585.3,
           115,
           "Baja California"
          ],
          [
           91674.48,
           260,
           "Estado de México"
          ],
          [
           79443.7,
           107,
           "Distrito Federal"
          ],
          [
           115910.26,
           192,
           "Nuevo León"
          ],
          [
           52686.48,
           106,
           "Chiapas"
          ],
          [
           150192.08,
           190,
           "Jalisco"
          ],
          [
           50942.31,
           103,
           "Distrito Federal"
          ],
          [
           105397.95,
           171,
           "Morelos"
          ],
          [
           189716.32,
           203,
           "Quintana Roo"
          ],
          [
           273969.71,
           140,
           "Distrito Federal"
          ],
          [
           157532.58,
           160,
           "Distrito Federal"
          ],
          [
           173865.39,
           200,
           "Morelos"
          ],
          [
           56689.55,
           75,
           "Distrito Federal"
          ],
          [
           100104.31,
           149,
           "Estado de México"
          ],
          [
           144922.18,
           117,
           "Estado de México"
          ],
          [
           110667.85,
           293,
           "Morelos"
          ],
          [
           99577.45,
           233,
           "Veracruz de Ignacio de la Llave"
          ],
          [
           92201.34,
           280,
           "Quintana Roo"
          ],
          [
           92130.98,
           160,
           "Veracruz de Ignacio de la Llave"
          ],
          [
           99050.58,
           190,
           "San Luis Potosí"
          ],
          [
           98523.72,
           200,
           "Nuevo León"
          ],
          [
           52686.48,
           300,
           "Estado de México"
          ],
          [
           123842.59,
           180,
           "Veracruz de Ignacio de la Llave"
          ],
          [
           142253.5,
           117,
           "Distrito Federal"
          ],
          [
           68245.17,
           83,
           "Oaxaca"
          ],
          [
           103370.88,
           104,
           "Distrito Federal"
          ],
          [
           242357.82,
           350,
           "Distrito Federal"
          ],
          [
           79029.72,
           100,
           "Guerrero"
          ],
          [
           123813.23,
           198,
           "Morelos"
          ],
          [
           55039.77,
           280,
           "Estado de México"
          ],
          [
           92201.34,
           168,
           "Puebla"
          ],
          [
           81683.41,
           75,
           "Puebla"
          ],
          [
           115910.26,
           200,
           "Morelos"
          ],
          [
           53158.13,
           80,
           "Distrito Federal"
          ],
          [
           189716.32,
           305,
           "Morelos"
          ],
          [
           57955.13,
           90,
           "Jalisco"
          ],
          [
           105397.95,
           152,
           "Puebla"
          ],
          [
           100128.05,
           144,
           "San Luis Potosí"
          ],
          [
           173490.81,
           87,
           "Nuevo León"
          ],
          [
           49986.51,
           84,
           "Estado de México"
          ],
          [
           55320.8,
           90,
           "Guanajuato"
          ],
          [
           165962.42,
           190,
           "Chiapas"
          ],
          [
           89587.99,
           135,
           "Yucatán"
          ],
          [
           120652.04,
           200,
           "Jalisco"
          ],
          [
           158059.45,
           260,
           "Chiapas"
          ],
          [
           210745.93,
           125,
           "Tabasco"
          ],
          [
           153686.47,
           113,
           "Estado de México"
          ],
          [
           131747.44,
           127,
           "Morelos"
          ],
          [
           36817.31,
           63,
           "Baja California"
          ],
          [
           210795.91,
           272,
           "Puebla"
          ],
          [
           52698.97,
           95,
           "Querétaro"
          ],
          [
           72724.58,
           180,
           "Yucatán"
          ],
          [
           44256.64,
           212,
           "Chihuahua"
          ],
          [
           151210.2,
           248,
           "Querétaro"
          ],
          [
           131716.2,
           198,
           "Querétaro"
          ],
          [
           147557.13,
           245,
           "Veracruz de Ignacio de la Llave"
          ],
          [
           162801.23,
           140,
           "Distrito Federal"
          ],
          [
           86247.77,
           158,
           "Estado de México"
          ],
          [
           134382.39,
           200,
           "Chihuahua"
          ],
          [
           44730.82,
           100,
           "Baja California Sur"
          ],
          [
           35826.8,
           67,
           "Tabasco"
          ],
          [
           250260.79,
           270,
           "Jalisco"
          ],
          [
           68508.67,
           282,
           "Veracruz de Ignacio de la Llave"
          ],
          [
           115910.26,
           350,
           "Veracruz de Ignacio de la Llave"
          ],
          [
           35036.51,
           108,
           "Nuevo León"
          ],
          [
           83226.17,
           162,
           "Yucatán"
          ],
          [
           115910.26,
           145,
           "Querétaro"
          ],
          [
           124633.08,
           190,
           "Veracruz de Ignacio de la Llave"
          ],
          [
           132559.19,
           80,
           "Distrito Federal"
          ],
          [
           184402.69,
           330,
           "Morelos"
          ],
          [
           52574.87,
           83,
           "Distrito Federal"
          ],
          [
           78521.47,
           135,
           "Querétaro"
          ],
          [
           289775.66,
           340,
           "Morelos"
          ],
          [
           89430.16,
           174,
           "Distrito Federal"
          ],
          [
           59022.85,
           93,
           "Querétaro"
          ],
          [
           177267.41,
           102,
           "Distrito Federal"
          ],
          [
           71126.75,
           144,
           "Chiapas"
          ],
          [
           79029.72,
           70,
           "Distrito Federal"
          ],
          [
           123842.59,
           200,
           "Morelos"
          ],
          [
           84298.37,
           140,
           "Chiapas"
          ],
          [
           85178.23,
           123,
           "Querétaro"
          ],
          [
           86932.69,
           150,
           "Morelos"
          ],
          [
           33350.54,
           74,
           "Estado de México"
          ],
          [
           237089.17,
           300,
           "Querétaro"
          ],
          [
           184446.42,
           164,
           "Puebla"
          ],
          [
           136984.85,
           220,
           "Quintana Roo"
          ],
          [
           137017.34,
           129,
           "Morelos"
          ],
          [
           36353.67,
           71,
           "Morelos"
          ],
          [
           115910.26,
           290,
           "Veracruz de Ignacio de la Llave"
          ],
          [
           205477.28,
           280,
           "Querétaro"
          ],
          [
           68492.42,
           182,
           "Distrito Federal"
          ],
          [
           104343.97,
           329,
           "Colima"
          ],
          [
           59022.85,
           110,
           "Querétaro"
          ],
          [
           237145.4,
           310,
           "Nuevo León"
          ],
          [
           68492.42,
           250,
           "Morelos"
          ],
          [
           149629.61,
           81,
           "Distrito Federal"
          ],
          [
           85949.19,
           210,
           "Distrito Federal"
          ],
          [
           222924.2,
           150,
           "Distrito Federal"
          ],
          [
           138598.31,
           96,
           "Distrito Federal"
          ],
          [
           122525.12,
           260,
           "Querétaro"
          ],
          [
           138334.81,
           239,
           "Veracruz de Ignacio de la Llave"
          ],
          [
           163328.09,
           275,
           "Jalisco"
          ],
          [
           121207.64,
           192,
           "Puebla"
          ],
          [
           68492.42,
           260,
           "Chiapas"
          ],
          [
           77467.49,
           126,
           "Yucatán"
          ],
          [
           63223.78,
           190,
           "Chiapas"
          ],
          [
           289775.66,
           230,
           "Estado de México"
          ],
          [
           326733.66,
           182,
           "Chihuahua"
          ],
          [
           168596.74,
           206,
           "Jalisco"
          ],
          [
           60589.45,
           125,
           "Veracruz de Ignacio de la Llave"
          ],
          [
           202842.96,
           210,
           "Estado de México"
          ],
          [
           93781.94,
           132,
           "Querétaro"
          ],
          [
           84087.62,
           116,
           "Hidalgo"
          ],
          [
           33982.78,
           102,
           "Baja California"
          ],
          [
           192305.66,
           370,
           "Chiapas"
          ],
          [
           91632.19,
           195,
           "Yucatán"
          ],
          [
           55847.67,
           100,
           "Puebla"
          ],
          [
           68492.42,
           130,
           "Veracruz de Ignacio de la Llave"
          ],
          [
           125393.83,
           232,
           "Veracruz de Ignacio de la Llave"
          ],
          [
           136405.3,
           90,
           "Distrito Federal"
          ],
          [
           104319.23,
           168,
           "San Luis Potosí"
          ],
          [
           57955.13,
           162,
           "Sonora"
          ],
          [
           111331.75,
           165,
           "Puebla"
          ],
          [
           141199.77,
           171,
           "Distrito Federal"
          ],
          [
           67438.69,
           168,
           "Morelos"
          ],
          [
           43213.16,
           98,
           "Nuevo León"
          ],
          [
           163328.09,
           260,
           "Querétaro"
          ],
          [
           205526.01,
           150,
           "Estado de México"
          ],
          [
           46943.65,
           60,
           "Distrito Federal"
          ],
          [
           289775.66,
           300,
           "Morelos"
          ],
          [
           99577.45,
           156,
           "Puebla"
          ],
          [
           184446.42,
           256,
           "Estado de México"
          ],
          [
           171271.67,
           330,
           "Yucatán"
          ],
          [
           205477.28,
           220,
           "Morelos"
          ],
          [
           81664.04,
           182,
           "Tabasco"
          ],
          [
           62711.78,
           164,
           "Yucatán"
          ],
          [
           47417.83,
           162,
           "Yucatán"
          ],
          [
           51369.32,
           120,
           "Morelos"
          ],
          [
           173906.62,
           317,
           "Distrito Federal"
          ],
          [
           146995.28,
           185,
           "Querétaro"
          ],
          [
           184446.42,
           220,
           "Sinaloa"
          ],
          [
           101182.03,
           91,
           "Morelos"
          ],
          [
           57705.38,
           96,
           "Yucatán"
          ],
          [
           163366.83,
           120,
           "Quintana Roo"
          ],
          [
           184446.42,
           180,
           "Morelos"
          ],
          [
           102738.64,
           180,
           "Morelos"
          ],
          [
           68245.17,
           90,
           "Morelos"
          ],
          [
           200208.63,
           243,
           "Querétaro"
          ],
          [
           38470.25,
           170,
           "Yucatán"
          ],
          [
           147522.15,
           83,
           "Distrito Federal"
          ],
          [
           226551.88,
           239,
           "Chiapas"
          ],
          [
           115410.76,
           200,
           "Chihuahua"
          ],
          [
           250260.79,
           335,
           "Querétaro"
          ],
          [
           141990.07,
           210,
           "Morelos"
          ],
          [
           57428.26,
           90,
           "Querétaro"
          ],
          [
           34254.33,
           75,
           "Quintana Roo"
          ],
          [
           140741.38,
           117,
           "Nuevo León"
          ],
          [
           92750.2,
           147,
           "Guerrero"
          ],
          [
           173865.39,
           134,
           "Sinaloa"
          ],
          [
           76150.02,
           133,
           "Yucatán"
          ],
          [
           44783.51,
           69,
           "Estado de México"
          ],
          [
           210795.91,
           101,
           "Nuevo León"
          ],
          [
           262115.25,
           350,
           "Jalisco"
          ],
          [
           171231.07,
           130,
           "Estado de México"
          ],
          [
           86932.69,
           180,
           "Sinaloa"
          ],
          [
           70283.76,
           200,
           "Estado de México"
          ],
          [
           171271.67,
           254,
           "Estado de México"
          ],
          [
           131716.2,
           279,
           "Hidalgo"
          ],
          [
           73234.21,
           110,
           "Morelos"
          ],
          [
           43729.78,
           73,
           "Estado de México"
          ],
          [
           41680.96,
           70,
           "Distrito Federal"
          ],
          [
           257531.53,
           380,
           "Distrito Federal"
          ],
          [
           168069.88,
           298,
           "Chiapas"
          ],
          [
           36817.31,
           63,
           "Baja California"
          ],
          [
           237145.4,
           180,
           "Jalisco"
          ],
          [
           266975.89,
           354,
           "Guerrero"
          ],
          [
           84298.37,
           76,
           "Veracruz de Ignacio de la Llave"
          ],
          [
           105397.95,
           75,
           "Estado de México"
          ],
          [
           183348.96,
           240,
           "Morelos"
          ],
          [
           86953.31,
           172,
           "Querétaro"
          ],
          [
           153686.47,
           113,
           "Estado de México"
          ],
          [
           52159.61,
           155,
           "Estado de México"
          ],
          [
           154987.69,
           82,
           "Distrito Federal"
          ],
          [
           84298.37,
           110,
           "Morelos"
          ],
          [
           113302.8,
           63,
           "Querétaro"
          ],
          [
           34773.07,
           60,
           "Morelos"
          ],
          [
           147557.13,
           254,
           "Querétaro"
          ],
          [
           172852.64,
           264,
           "Campeche"
          ],
          [
           126477.54,
           192,
           "Veracruz de Ignacio de la Llave"
          ],
          [
           35988.5,
           72,
           "Tamaulipas"
          ],
          [
           107322.36,
           70,
           "Distrito Federal"
          ],
          [
           49999.47,
           197,
           "Distrito Federal"
          ],
          [
           50517.24,
           105,
           "San Luis Potosí"
          ],
          [
           93856.88,
           105,
           "Querétaro"
          ],
          [
           41095.45,
           70,
           "Distrito Federal"
          ],
          [
           42623.36,
           140,
           "Veracruz de Ignacio de la Llave"
          ],
          [
           50052.15,
           97,
           "Morelos"
          ],
          [
           92750.2,
           129,
           "San Luis Potosí"
          ],
          [
           37670.83,
           73,
           "Puebla"
          ],
          [
           313695.32,
           100,
           "Estado de México"
          ],
          [
           49051.11,
           68,
           "Distrito Federal"
          ],
          [
           165172.12,
           220,
           "Nayarit"
          ],
          [
           121178.91,
           70,
           "Distrito Federal"
          ],
          [
           226551.88,
           155,
           "Estado de México"
          ],
          [
           208111.61,
           354,
           "San Luis Potosí"
          ],
          [
           127880.63,
           80,
           "Estado de México"
          ],
          [
           44794.13,
           80,
           "Querétaro"
          ],
          [
           59426.13,
           133,
           "Distrito Federal"
          ],
          [
           125920.69,
           192,
           "Estado de México"
          ],
          [
           91411.04,
           80,
           "Distrito Federal"
          ],
          [
           157917.19,
           185,
           "Guerrero"
          ],
          [
           81137.18,
           211,
           "Sinaloa"
          ],
          [
           105397.95,
           250,
           "Yucatán"
          ],
          [
           81664.04,
           145,
           "Guerrero"
          ],
          [
           110667.85,
           180,
           "Veracruz de Ignacio de la Llave"
          ],
          [
           231820.52,
           299,
           "Puebla"
          ],
          [
           47417.83,
           140,
           "Veracruz de Ignacio de la Llave"
          ],
          [
           138058.14,
           240,
           "Yucatán"
          ],
          [
           187081.37,
           102,
           "Distrito Federal"
          ],
          [
           134350.53,
           187,
           "Querétaro"
          ],
          [
           66911.83,
           70,
           "Distrito Federal"
          ],
          [
           132769.93,
           239,
           "Estado de México"
          ],
          [
           40645.77,
           72,
           "Distrito Federal"
          ],
          [
           65858.1,
           84,
           "Jalisco"
          ],
          [
           237145.4,
           151,
           "Tabasco"
          ],
          [
           115937.75,
           177,
           "Querétaro"
          ],
          [
           171231.07,
           116,
           "Puebla"
          ],
          [
           38812.39,
           60,
           "Distrito Federal"
          ],
          [
           129112.49,
           181,
           "Veracruz de Ignacio de la Llave"
          ],
          [
           115937.75,
           175,
           "Veracruz de Ignacio de la Llave"
          ],
          [
           316193.86,
           370,
           "Estado de México"
          ],
          [
           106110.57,
           73,
           "Nuevo León"
          ],
          [
           150156.47,
           220,
           "Estado de México"
          ],
          [
           171231.07,
           235,
           "Chiapas"
          ],
          [
           62170.05,
           176,
           "Colima"
          ],
          [
           95499.52,
           170,
           "Baja California"
          ],
          [
           36783.88,
           73,
           "Morelos"
          ],
          [
           189716.32,
           185,
           "Morelos"
          ],
          [
           228450.07,
           200,
           "Distrito Federal"
          ],
          [
           131747.44,
           127,
           "Nuevo León"
          ],
          [
           143834.1,
           110,
           "Estado de México"
          ],
          [
           152790.8,
           281,
           "Nuevo León"
          ],
          [
           34421.81,
           75,
           "Distrito Federal"
          ],
          [
           48471.56,
           72,
           "Guerrero"
          ],
          [
           82717.77,
           185,
           "Chiapas"
          ],
          [
           63223.78,
           120,
           "Hidalgo"
          ],
          [
           158059.45,
           200,
           "Estado de México"
          ],
          [
           115937.75,
           168,
           "Guerrero"
          ],
          [
           79048.46,
           144,
           "Yucatán"
          ],
          [
           131716.2,
           90,
           "Distrito Federal"
          ],
          [
           68492.42,
           182,
           "Distrito Federal"
          ],
          [
           79029.72,
           91,
           "Distrito Federal"
          ],
          [
           35826.8,
           76,
           "Tamaulipas"
          ],
          [
           36882.11,
           75,
           "Distrito Federal"
          ],
          [
           92201.34,
           245,
           "Durango"
          ],
          [
           59711.33,
           120,
           "Estado de México"
          ],
          [
           73234.21,
           140,
           "San Luis Potosí"
          ],
          [
           155425.12,
           348,
           "Veracruz de Ignacio de la Llave"
          ],
          [
           142253.5,
           300,
           "Veracruz de Ignacio de la Llave"
          ],
          [
           208111.61,
           290,
           "Querétaro"
          ],
          [
           50064.02,
           180,
           "San Luis Potosí"
          ],
          [
           89567.02,
           162,
           "Morelos"
          ],
          [
           94331.17,
           190,
           "Veracruz de Ignacio de la Llave"
          ],
          [
           207057.88,
           300,
           "Distrito Federal"
          ],
          [
           163366.83,
           215,
           "Chiapas"
          ],
          [
           34246.21,
           80,
           "Morelos"
          ],
          [
           115937.75,
           160,
           "Campeche"
          ],
          [
           179134.04,
           271,
           "Querétaro"
          ],
          [
           84054.87,
           169,
           "Hidalgo"
          ],
          [
           85899.33,
           80,
           "Distrito Federal"
          ],
          [
           131716.2,
           230,
           "Jalisco"
          ],
          [
           68492.42,
           167,
           "Guanajuato"
          ],
          [
           200256.11,
           349,
           "Yucatán"
          ],
          [
           260798.09,
           272,
           "Distrito Federal"
          ],
          [
           292796.2,
           347,
           "Nuevo León"
          ],
          [
           194986.21,
           305,
           "Yucatán"
          ],
          [
           255590.04,
           270,
           "Morelos"
          ],
          [
           35563.37,
           75,
           "Querétaro"
          ],
          [
           255529.44,
           218,
           "Estado de México"
          ],
          [
           250260.79,
           340,
           "Estado de México"
          ],
          [
           123842.59,
           170,
           "Querétaro"
          ],
          [
           115937.75,
           240,
           "Veracruz de Ignacio de la Llave"
          ],
          [
           57287.8,
           100,
           "Distrito Federal"
          ],
          [
           119651,
           130,
           "Distrito Federal"
          ],
          [
           34245.11,
           76,
           "Estado de México"
          ],
          [
           105372.96,
           106,
           "Morelos"
          ],
          [
           183875.82,
           278,
           "Distrito Federal"
          ],
          [
           231875.5,
           285,
           "Querétaro"
          ],
          [
           200208.63,
           300,
           "Querétaro"
          ],
          [
           76740.25,
           85,
           "Distrito Federal"
          ],
          [
           83264.38,
           137,
           "Querétaro"
          ],
          [
           154371.39,
           160,
           "Chiapas"
          ],
          [
           55333.92,
           94,
           "Morelos"
          ],
          [
           165962.42,
           220,
           "Nuevo León"
          ],
          [
           131400.09,
           80,
           "Distrito Federal"
          ],
          [
           50052.15,
           100,
           "Guerrero"
          ],
          [
           142253.5,
           92,
           "Distrito Federal"
          ],
          [
           231820.52,
           270,
           "Estado de México"
          ],
          [
           215482.45,
           107,
           "Distrito Federal"
          ],
          [
           110351.66,
           280,
           "Yucatán"
          ],
          [
           226551.88,
           350,
           "Puebla"
          ],
          [
           38461.13,
           69,
           "Estado de México"
          ],
          [
           39146.05,
           60,
           "Estado de México"
          ],
          [
           115910.26,
           151,
           "Tabasco"
          ],
          [
           84318.36,
           160,
           "Puebla"
          ],
          [
           129081.88,
           200,
           "Morelos"
          ],
          [
           134350.53,
           300,
           "Jalisco"
          ],
          [
           35308.31,
           150,
           "Nuevo León"
          ],
          [
           290434.24,
           330,
           "Baja California Sur"
          ],
          [
           61643.18,
           102,
           "Baja California"
          ],
          [
           121705.77,
           200,
           "Querétaro"
          ],
          [
           51118,
           94,
           "Oaxaca"
          ],
          [
           111194.84,
           160,
           "Estado de México"
          ],
          [
           82842.79,
           174,
           "Yucatán"
          ],
          [
           84298.37,
           69,
           "Distrito Federal"
          ],
          [
           118572.7,
           210,
           "Morelos"
          ],
          [
           262378.68,
           110,
           "Nuevo León"
          ],
          [
           289775.66,
           380,
           "Morelos"
          ],
          [
           86953.31,
           132,
           "Querétaro"
          ],
          [
           71126.75,
           165,
           "Chiapas"
          ],
          [
           179239.41,
           300,
           "Distrito Federal"
          ],
          [
           115437.11,
           145,
           "Quintana Roo"
          ],
          [
           175924.99,
           126,
           "Nuevo León"
          ],
          [
           46715.31,
           80,
           "Distrito Federal"
          ],
          [
           118572.7,
           180,
           "Querétaro"
          ],
          [
           76395.4,
           194,
           "Nuevo León"
          ],
          [
           97469.99,
           185,
           "Quintana Roo"
          ],
          [
           98787.15,
           300,
           "Guerrero"
          ],
          [
           53158.18,
           80,
           "Distrito Federal"
          ],
          [
           76395.4,
           64,
           "Distrito Federal"
          ],
          [
           38461.13,
           95,
           "Veracruz de Ignacio de la Llave"
          ],
          [
           139652.29,
           232,
           "Tamaulipas"
          ],
          [
           173906.62,
           192,
           "Morelos"
          ],
          [
           34983.82,
           60,
           "Distrito Federal"
          ],
          [
           77467.49,
           131,
           "Yucatán"
          ],
          [
           97469.99,
           240,
           "Chiapas"
          ],
          [
           288721.93,
           356,
           "Estado de México"
          ],
          [
           57968.87,
           150,
           "Estado de México"
          ],
          [
           138934.25,
           110,
           "Estado de México"
          ],
          [
           49273.54,
           70,
           "Distrito Federal"
          ],
          [
           210745.93,
           357,
           "Sonora"
          ],
          [
           60603.82,
           256,
           "Chiapas"
          ],
          [
           162393.9,
           300,
           "Nuevo León"
          ],
          [
           135963.36,
           204,
           "Baja California Sur"
          ],
          [
           102369.83,
           190,
           "Distrito Federal"
          ],
          [
           252895.12,
           139,
           "Estado de México"
          ],
          [
           46890.97,
           115,
           "Chihuahua"
          ],
          [
           60603.82,
           90,
           "Yucatán"
          ],
          [
           94835.67,
           85,
           "Distrito Federal"
          ],
          [
           34254.33,
           70,
           "Estado de México"
          ],
          [
           37353.34,
           90,
           "Querétaro"
          ],
          [
           79029.72,
           200,
           "Yucatán"
          ],
          [
           147522.15,
           300,
           "Morelos"
          ],
          [
           200256.11,
           380,
           "Nuevo León"
          ],
          [
           51632.75,
           92,
           "Baja California"
          ],
          [
           152790.8,
           290,
           "Jalisco"
          ],
          [
           52686.48,
           90,
           "Estado de México"
          ],
          [
           79048.46,
           136,
           "Querétaro"
          ],
          [
           143868.21,
           174,
           "San Luis Potosí"
          ],
          [
           135225.12,
           65,
           "Distrito Federal"
          ],
          [
           191620.74,
           343,
           "Estado de México"
          ],
          [
           110140.86,
           176,
           "Querétaro"
          ],
          [
           123813.23,
           145,
           "Distrito Federal"
          ],
          [
           184402.69,
           100,
           "Jalisco"
          ],
          [
           242357.82,
           90,
           "Nuevo León"
          ],
          [
           51632.75,
           140,
           "Morelos"
          ],
          [
           150192.08,
           250,
           "Querétaro"
          ],
          [
           36889.28,
           80,
           "Estado de México"
          ],
          [
           150894.08,
           202,
           "Puebla"
          ],
          [
           194939.99,
           299,
           "Nuevo León"
          ],
          [
           115910.26,
           100,
           "Querétaro"
          ],
          [
           108559.89,
           182,
           "Puebla"
          ],
          [
           50591.01,
           62,
           "Distrito Federal"
          ],
          [
           158096.93,
           200,
           "Quintana Roo"
          ],
          [
           38724.56,
           106,
           "Estado de México"
          ],
          [
           93781.94,
           150,
           "Sinaloa"
          ],
          [
           52633.79,
           161,
           "Colima"
          ],
          [
           144700.85,
           266,
           "Nuevo León"
          ],
          [
           242357.82,
           250,
           "Morelos"
          ],
          [
           115910.26,
           83,
           "Distrito Federal"
          ],
          [
           126214.05,
           175,
           "Yucatán"
          ],
          [
           229186.2,
           270,
           "Morelos"
          ],
          [
           100104.31,
           88,
           "Distrito Federal"
          ],
          [
           102738.64,
           145,
           "Morelos"
          ],
          [
           161258.87,
           350,
           "Distrito Federal"
          ],
          [
           43202.91,
           68,
           "Morelos"
          ],
          [
           155425.12,
           210,
           "Nuevo León"
          ],
          [
           289775.66,
           127,
           "Distrito Federal"
          ],
          [
           44048.85,
           70,
           "Distrito Federal"
          ],
          [
           154898.26,
           82,
           "Distrito Federal"
          ],
          [
           50157.53,
           172,
           "San Luis Potosí"
          ],
          [
           177695.7,
           83,
           "Distrito Federal"
          ],
          [
           84318.36,
           87,
           "Estado de México"
          ],
          [
           92223.21,
           200,
           "Estado de México"
          ],
          [
           146995.28,
           235,
           "Yucatán"
          ],
          [
           118572.7,
           218,
           "Tamaulipas"
          ],
          [
           93804.18,
           184,
           "Querétaro"
          ],
          [
           137017.34,
           79,
           "Distrito Federal"
          ],
          [
           158059.45,
           293,
           "Veracruz de Ignacio de la Llave"
          ],
          [
           90620.75,
           144,
           "San Luis Potosí"
          ],
          [
           247421.7,
           374,
           "Yucatán"
          ],
          [
           73778.56,
           140,
           "Tamaulipas"
          ],
          [
           64556.24,
           92,
           "Morelos"
          ],
          [
           108007.29,
           200,
           "Veracruz de Ignacio de la Llave"
          ],
          [
           44783.51,
           80,
           "Morelos"
          ],
          [
           292900.92,
           250,
           "Morelos"
          ],
          [
           168596.74,
           180,
           "Morelos"
          ],
          [
           139652.29,
           254,
           "Nuevo León"
          ],
          [
           35890.24,
           60,
           "Distrito Federal"
          ],
          [
           150830.86,
           78,
           "Distrito Federal"
          ],
          [
           68492.42,
           126,
           "Estado de México"
          ],
          [
           210745.93,
           350,
           "Estado de México"
          ],
          [
           86953.31,
           156,
           "Querétaro"
          ],
          [
           125920.69,
           227,
           "Querétaro"
          ],
          [
           61643.18,
           102,
           "Baja California"
          ],
          [
           106127.01,
           160,
           "Distrito Federal"
          ],
          [
           164947.8,
           270,
           "Yucatán"
          ],
          [
           94835.67,
           204,
           "Jalisco"
          ],
          [
           34246.21,
           80,
           "Querétaro"
          ],
          [
           47417.83,
           130,
           "Morelos"
          ],
          [
           94858.16,
           195,
           "Guanajuato"
          ],
          [
           237145.4,
           350,
           "Tamaulipas"
          ],
          [
           45848.11,
           109,
           "Tamaulipas"
          ],
          [
           34254.33,
           67,
           "Morelos"
          ],
          [
           194939.99,
           361,
           "Jalisco"
          ],
          [
           240884.28,
           311,
           "Nuevo León"
          ],
          [
           101445.53,
           243,
           "Puebla"
          ],
          [
           78502.86,
           245,
           "Aguascalientes"
          ],
          [
           76413.51,
           180,
           "Campeche"
          ],
          [
           168596.74,
           150,
           "Estado de México"
          ],
          [
           45057.62,
           150,
           "Distrito Federal"
          ],
          [
           51632.75,
           78,
           "Chihuahua"
          ],
          [
           53832.41,
           90,
           "Distrito Federal"
          ],
          [
           118544.58,
           175,
           "Puebla"
          ],
          [
           99577.45,
           160,
           "Morelos"
          ],
          [
           46469.47,
           70,
           "Morelos"
          ],
          [
           73778.56,
           140,
           "Chiapas"
          ],
          [
           289775.66,
           200,
           "Veracruz de Ignacio de la Llave"
          ],
          [
           39514.86,
           80,
           "San Luis Potosí"
          ],
          [
           76413.51,
           93,
           "Veracruz de Ignacio de la Llave"
          ],
          [
           68508.67,
           140,
           "Estado de México"
          ],
          [
           36880.53,
           100,
           "Quintana Roo"
          ],
          [
           274034.68,
           301,
           "Querétaro"
          ],
          [
           187081.37,
           325,
           "Yucatán"
          ],
          [
           71653.61,
           100,
           "Distrito Federal"
          ],
          [
           97493.1,
           190,
           "Yucatán"
          ],
          [
           67860.19,
           110,
           "Veracruz de Ignacio de la Llave"
          ],
          [
           88513.29,
           190,
           "Nuevo León"
          ],
          [
           80083.45,
           177,
           "Estado de México"
          ],
          [
           147557.13,
           197,
           "San Luis Potosí"
          ],
          [
           150192.08,
           320,
           "Yucatán"
          ],
          [
           47944.7,
           80,
           "Estado de México"
          ],
          [
           36248.3,
           82,
           "Querétaro"
          ],
          [
           75783.82,
           99,
           "Estado de México"
          ],
          [
           131716.2,
           208,
           "Distrito Federal"
          ],
          [
           126477.54,
           290,
           "Yucatán"
          ],
          [
           51644.99,
           178,
           "Tamaulipas"
          ],
          [
           262440.91,
           340,
           "Jalisco"
          ],
          [
           35826.8,
           85,
           "Tlaxcala"
          ],
          [
           46364.1,
           102,
           "Chiapas"
          ],
          [
           94835.67,
           150,
           "Chiapas"
          ],
          [
           33192.48,
           104,
           "Veracruz de Ignacio de la Llave"
          ],
          [
           163328.09,
           270,
           "San Luis Potosí"
          ],
          [
           115814.11,
           119,
           "Yucatán"
          ],
          [
           73761.07,
           125,
           "Estado de México"
          ],
          [
           97469.99,
           139,
           "Querétaro"
          ],
          [
           178607.18,
           360,
           "Guanajuato"
          ],
          [
           54235.15,
           70,
           "Distrito Federal"
          ],
          [
           51105.88,
           150,
           "Querétaro"
          ],
          [
           115910.26,
           84,
           "Distrito Federal"
          ],
          [
           79029.72,
           180,
           "Veracruz de Ignacio de la Llave"
          ],
          [
           71143.62,
           120,
           "Jalisco"
          ],
          [
           91169.23,
           142,
           "Yucatán"
          ],
          [
           44178.77,
           65,
           "Distrito Federal"
          ],
          [
           152790.8,
           200,
           "Distrito Federal"
          ],
          [
           121207.64,
           200,
           "Tamaulipas"
          ],
          [
           47417.83,
           131,
           "Guerrero"
          ],
          [
           104319.23,
           200,
           "Veracruz de Ignacio de la Llave"
          ],
          [
           57884.47,
           93,
           "Puebla"
          ],
          [
           121207.64,
           202,
           "Querétaro"
          ],
          [
           200256.11,
           370,
           "Quintana Roo"
          ],
          [
           52605.29,
           86,
           "Baja California"
          ],
          [
           44794.13,
           63,
           "Yucatán"
          ],
          [
           84313.09,
           95,
           "Baja California"
          ],
          [
           236091.42,
           290,
           "Querétaro"
          ],
          [
           85878.96,
           128,
           "Tamaulipas"
          ],
          [
           59535.72,
           120,
           "Puebla"
          ],
          [
           81664.04,
           180,
           "Morelos"
          ],
          [
           53666.55,
           198,
           "Estado de México"
          ],
          [
           224339.55,
           377,
           "Yucatán"
          ],
          [
           67438.69,
           92,
           "Distrito Federal"
          ],
          [
           80083.45,
           100,
           "Estado de México"
          ],
          [
           62696.91,
           82,
           "Yucatán"
          ],
          [
           46627.53,
           105,
           "Colima"
          ],
          [
           42941.43,
           79,
           "Morelos"
          ],
          [
           41095.45,
           123,
           "Yucatán"
          ],
          [
           80015.91,
           79,
           "Quintana Roo"
          ],
          [
           263432.41,
           376,
           "Morelos"
          ],
          [
           85668.22,
           70,
           "Distrito Federal"
          ],
          [
           55847.67,
           105,
           "Sinaloa"
          ],
          [
           229240.55,
           200,
           "Estado de México"
          ],
          [
           121178.91,
           160,
           "Querétaro"
          ],
          [
           67438.69,
           133,
           "Estado de México"
          ],
          [
           63238.77,
           250,
           "Chihuahua"
          ],
          [
           127584.22,
           100,
           "Guanajuato"
          ],
          [
           57955.13,
           113,
           "Puebla"
          ],
          [
           99601.06,
           130,
           "Querétaro"
          ],
          [
           165467.83,
           211,
           "San Luis Potosí"
          ],
          [
           77994.48,
           200,
           "Yucatán"
          ],
          [
           52686.48,
           84,
           "Chiapas"
          ],
          [
           94203.43,
           179,
           "Estado de México"
          ],
          [
           187037.01,
           251,
           "Quintana Roo"
          ],
          [
           81683.41,
           115,
           "Distrito Federal"
          ],
          [
           163064.66,
           65,
           "Distrito Federal"
          ],
          [
           55333.92,
           169,
           "Yucatán"
          ],
          [
           193359.39,
           350,
           "Aguascalientes"
          ],
          [
           158096.93,
           309,
           "Nuevo León"
          ],
          [
           72865.4,
           200,
           "Estado de México"
          ],
          [
           36090.24,
           98,
           "Durango"
          ],
          [
           45447.36,
           83,
           "Estado de México"
          ],
          [
           167543.01,
           275,
           "Distrito Federal"
          ],
          [
           183875.82,
           286,
           "Querétaro"
          ],
          [
           35299.94,
           70,
           "Jalisco"
          ],
          [
           55320.8,
           190,
           "Sinaloa"
          ],
          [
           70757.94,
           75,
           "Estado de México"
          ],
          [
           115910.26,
           236,
           "Sonora"
          ],
          [
           289775.66,
           195,
           "Distrito Federal"
          ],
          [
           110969.16,
           150,
           "Nuevo León"
          ],
          [
           173906.62,
           274,
           "Chihuahua"
          ],
          [
           44256.64,
           81,
           "Tamaulipas"
          ],
          [
           118544.58,
           186,
           "Morelos"
          ],
          [
           159320.71,
           100,
           "Distrito Federal"
          ],
          [
           63223.78,
           200,
           "Morelos"
          ],
          [
           252895.12,
           350,
           "Nuevo León"
          ],
          [
           37934.26,
           90,
           "Chiapas"
          ],
          [
           92201.34,
           104,
           "Puebla"
          ],
          [
           157690.64,
           229,
           "Distrito Federal"
          ],
          [
           43729.78,
           76,
           "Morelos"
          ],
          [
           84845.35,
           60,
           "Distrito Federal"
          ],
          [
           43202.91,
           100,
           "Estado de México"
          ],
          [
           57968.87,
           85,
           "Estado de México"
          ],
          [
           316118.9,
           275,
           "Guerrero"
          ],
          [
           91632.19,
           195,
           "Yucatán"
          ],
          [
           88513.29,
           205,
           "Tabasco"
          ],
          [
           65120.49,
           80,
           "Distrito Federal"
          ],
          [
           92223.21,
           150,
           "Hidalgo"
          ],
          [
           44783.51,
           120,
           "Veracruz de Ignacio de la Llave"
          ],
          [
           71653.61,
           84,
           "Distrito Federal"
          ],
          [
           105372.96,
           60,
           "Distrito Federal"
          ],
          [
           63223.78,
           180,
           "Morelos"
          ],
          [
           36260.68,
           60,
           "Distrito Federal"
          ],
          [
           44794.13,
           95,
           "Sinaloa"
          ],
          [
           121863.83,
           110,
           "Distrito Federal"
          ],
          [
           105372.96,
           120,
           "Morelos"
          ],
          [
           51632.75,
           140,
           "Veracruz de Ignacio de la Llave"
          ],
          [
           121178.91,
           175,
           "Jalisco"
          ],
          [
           47417.83,
           100,
           "Morelos"
          ],
          [
           39524.23,
           81,
           "Yucatán"
          ],
          [
           245050.24,
           360,
           "San Luis Potosí"
          ],
          [
           110667.85,
           115,
           "Estado de México"
          ]
         ],
         "hovertemplate": "lat=%{lat}<br>lon=%{lon}<br>price_usd=%{customdata[0]}<br>area_m2=%{customdata[1]}<br>state=%{customdata[2]}<extra></extra>",
         "lat": [
          19.560181,
          25.6884355,
          16.767704,
          16.829782,
          21.05258302,
          20.7163149,
          18.8126047,
          16.769737,
          19.30540733,
          18.804197,
          16.775165,
          21.0483333,
          19.560181,
          18.01408208,
          19.390748,
          21.33715074,
          19.337652,
          21.518174,
          18.855343,
          19.0248763,
          19.403334,
          19.428152,
          18.991881,
          25.624891,
          20.997143,
          23.239141,
          19.430141,
          19.538595,
          21.030668,
          17.893124,
          16.717077,
          22.3261979,
          21.0231861,
          19.39365,
          25.569582,
          25.581369,
          19.0412967,
          19.390301,
          19.101803,
          19.026517,
          23.634501,
          21.075163,
          19.3605334,
          19.351369,
          19.412142,
          18.987232,
          19.715134,
          19.374069,
          22.133745,
          18.804197,
          21.0294432,
          24.8093254,
          19.33923,
          32.493049,
          20.1254846,
          18.960244,
          23.634501,
          19.53808025,
          21.129547,
          25.5683841,
          22.217112,
          16.860338,
          19.109509,
          16.771518,
          23.634501,
          21.0307114,
          20.6536084,
          19.650003,
          25.708134,
          25.751371,
          19.351371,
          19.298899,
          25.581989,
          26.074236,
          21.15048247,
          20.785506,
          19.374421,
          20.99947,
          19.533243,
          20.705742,
          29.058504,
          18.99466,
          24.754314,
          19.544106,
          28.6329957,
          20.99214914,
          22.141575,
          19.499857,
          19.381729,
          18.942068,
          19.087196,
          19.1616453,
          18.989595,
          18.917542,
          20.9993534,
          24.14994473,
          19.384533,
          19.317922,
          19.696592,
          19.38250406,
          19.401819,
          18.998509,
          22.1418,
          21.072905,
          25.6318511,
          19.283869,
          20.532827,
          18.918608,
          20.649012,
          21.030668,
          23.634501,
          19.380937,
          19.559799,
          21.072905,
          19.367215,
          19.044477,
          18.134026,
          25.572505,
          19.290517,
          20.788616,
          25.6526883,
          25.680067,
          19.305643,
          19.684991,
          21.008295,
          16.8572859,
          22.093321,
          23.634501,
          22.1387477,
          19.428043,
          20.059217,
          21.292982,
          18.903454,
          19.411699,
          18.89179165,
          21.0424858,
          20.711874,
          19.428152,
          19.234822,
          19.558449,
          28.652079,
          25.707024,
          21.878481,
          19.155567,
          20.05687984,
          25.634661,
          19.367931,
          19.360526,
          19.464398,
          19.01195,
          21.2929822,
          19.351396,
          18.93409,
          20.6990975,
          21.030668,
          20.996355,
          18.983141,
          19.2826098,
          22.4107891,
          18.263374,
          19.396669,
          21.039522,
          19.545097,
          19.054064,
          19.62378,
          23.240411,
          19.452331,
          21.129547,
          19.342083,
          25.702822,
          19.563358,
          19.205341,
          21.0424858,
          16.829584,
          20.726007,
          23.634501,
          19.395069,
          19.400004,
          17.979631,
          20.5887932,
          21.006756,
          21.013465,
          19.671066,
          18.1495073,
          25.7418083,
          20.968147,
          22.2621259,
          20.767952,
          18.795519,
          19.449392,
          21.15640821,
          22.3160889,
          19.486255,
          19.36594,
          19.146434,
          21.035221,
          16.86432868,
          20.726007,
          23.261934,
          21.139086,
          25.535524,
          21.0043658,
          19.364613,
          19.366505,
          20.6521079,
          21.03504976,
          19.354947,
          21.008295,
          20.6476044,
          21.030668,
          19.371317,
          19.1356101,
          19.377169,
          19.381591,
          21.039522,
          20.755833,
          19.27223,
          19.191416,
          22.121187,
          17.987557,
          19.4653884,
          18.8493694,
          21.05294348,
          18.942068,
          16.808875,
          19.531773,
          25.860595,
          21.1666103,
          18.882006,
          19.002178,
          19.425918,
          18.8736789,
          22.186096,
          21.075163,
          18.984862,
          19.3650311,
          18.917393,
          19.399375,
          32.5622552,
          19.452689,
          19.336104,
          23.634501,
          20.567506,
          20.722561,
          19.3987957,
          22.1176283,
          21.006756,
          25.510739,
          22.2695545,
          19.3308425,
          19.2398293,
          19.4689569,
          18.917542,
          17.97280546,
          25.79255,
          19.3928136,
          24.804811,
          21.905983,
          18.900945,
          22.2900902,
          19.375374,
          25.660711,
          19.02065826,
          20.96083848,
          19.409369,
          25.7584835,
          25.712547,
          21.05119626,
          19.09276402,
          20.792152,
          21.121012,
          22.18307725,
          19.404032,
          18.814863,
          19.368544,
          19.0550344,
          21.04307817,
          19.699144,
          19.341894,
          20.596285,
          19.035632,
          19.0217424,
          19.987465,
          18.957352,
          18.845494,
          19.366901,
          22.18408015,
          19.615452,
          19.590134,
          19.473907,
          22.149093,
          19.641889,
          19.089373,
          20.606224,
          21.001256,
          25.7302897,
          19.004742,
          18.920158,
          18.916586,
          19.063091,
          19.371321,
          19.0378006,
          19.362824,
          16.780325,
          21.039522,
          19.465454,
          20.700756,
          22.886851,
          20.549404,
          19.353288,
          19.278994,
          18.985191,
          20.67603,
          16.87630091,
          21.525436,
          16.748743,
          19.432657,
          20.618279,
          19.72876,
          25.51506,
          20.419854,
          18.804197,
          22.133104,
          19.400249,
          21.03071,
          20.649154,
          32.426032,
          26.058614,
          25.599048,
          24.129181,
          22.238298,
          19.046561,
          19.451872,
          19.253367,
          29.0287123,
          19.45569471,
          20.7670434,
          19.336195,
          22.1564699,
          21.0634817,
          21.135925,
          20.547818,
          18.954132,
          21.152508,
          18.882725,
          17.97423,
          16.740764,
          25.764894,
          20.60782,
          19.469688,
          19.27112369,
          20.723133,
          16.76764,
          20.9673702,
          21.017197,
          18.862602,
          19.123617,
          19.355938,
          19.35913,
          20.989016,
          25.453195,
          20.938659,
          22.270658,
          16.78141,
          19.691938,
          19.64079,
          19.011347,
          20.647029,
          18.905066,
          19.06681288,
          20.705742,
          19.54323,
          24.8090649,
          25.872879,
          19.373264,
          19.383952,
          16.757278,
          22.320061,
          20.58343642,
          19.396018,
          19.646418,
          19.5896123,
          20.631845,
          24.083153,
          19.144342,
          19.272027,
          20.1010608,
          18.1495449,
          19.333901,
          19.390031,
          25.781807,
          20.7012562,
          19.365834,
          20.9637793,
          19.404701,
          18.879525,
          18.978682,
          20.6205869,
          25.654263,
          19.180459,
          24.010702,
          19.474655,
          20.65449,
          25.569556,
          18.813505,
          21.118165,
          17.972448,
          19.165146,
          19.3499358,
          19.402713,
          18.948109,
          20.5887932,
          19.406592,
          25.677525,
          19.318989,
          20.712143,
          21.01429,
          19.532306,
          19.173773,
          19.139896,
          32.665619,
          22.270658,
          21.021821,
          20.5887932,
          19.142568,
          18.970675,
          18.813505,
          27.492618,
          20.65593,
          24.143626,
          16.841759,
          19.125867,
          23.634501,
          20.6081525,
          21.029198,
          18.927336,
          25.439677,
          19.472481,
          19.514382,
          19.325355,
          21.072905,
          22.14691,
          18.879347,
          18.03410232,
          23.634501,
          18.921051,
          19.014643,
          18.858107,
          18.945309,
          21.0381057,
          19.474655,
          21.072905,
          25.531834,
          25.651072,
          19.499864,
          19.555771,
          22.157743,
          25.6769684,
          22.14700093,
          16.85678,
          19.424913,
          19.54966748,
          16.867283,
          18.811808,
          19.396502,
          21.017197,
          20.06499132,
          22.266645,
          18.948179,
          21.3421022,
          19.044477,
          28.6556674,
          19.2826778,
          19.48888,
          16.732222,
          23.634501,
          21.0381057,
          16.801018,
          19.6850991,
          18.9212022,
          21.030668,
          18.96785528,
          25.723516,
          21.0151423,
          21.13593739,
          18.891859,
          23.261248,
          19.364891,
          19.426528,
          19.369319,
          16.745249,
          19.434723,
          19.449392,
          19.55134,
          20.607178,
          22.16483221,
          22.16644588,
          16.771928,
          22.246319,
          19.365175,
          19.379597,
          19.312792,
          23.634501,
          21.039522,
          22.175159,
          19.11055714,
          19.64443,
          25.502705,
          25.461545,
          19.478815,
          20.611304,
          19.178049,
          20.955351,
          29.07683,
          23.634501,
          21.039522,
          25.74317303,
          18.97019398,
          21.88930425,
          19.298168,
          16.734992,
          25.701321,
          21.88585,
          20.618633,
          25.67382016,
          18.942068,
          20.700323,
          25.558393,
          25.580088,
          23.283125,
          16.752182,
          19.3880398,
          22.14691,
          18.936026,
          19.328833,
          19.455385,
          19.071239,
          19.501955,
          18.866121,
          20.726007,
          21.075163,
          19.435802,
          20.9731555,
          19.159458,
          19.0412967,
          24.817956,
          23.299184,
          19.36243,
          19.390062,
          25.7581963,
          20.556261,
          16.744808,
          21.02594686,
          21.15007472,
          16.734121,
          20.705742,
          19.400731,
          19.33923,
          19.365383,
          21.030668,
          18.864874,
          19.463009,
          21.30856674,
          19.33427,
          19.499434,
          19.380937,
          21.006866,
          19.109777,
          32.459403,
          19.101185,
          20.394361,
          21.065001,
          20.646841,
          18.897581,
          21.072905,
          18.917542,
          20.948336,
          19.396018,
          19.051815,
          19.309208,
          21.0506531,
          21.34379622,
          20.587378,
          25.721081,
          23.634501,
          19.2720402,
          22.13888212,
          19.394558,
          19.1680666,
          19.3261963,
          21.0552216,
          28.691416,
          20.641428,
          22.126078,
          19.03642362,
          19.367239,
          16.851935,
          19.153019,
          25.75013289,
          19.536253,
          19.673779,
          32.4690603,
          21.030771,
          16.717077,
          18.813908,
          19.473001,
          21.072905,
          20.618279,
          21.075163,
          16.86597275,
          25.582705,
          21.017197,
          20.036614,
          21.0399331,
          18.893921,
          25.545829,
          21.139086,
          19.681248,
          19.271467,
          19.724886,
          19.420156,
          20.684505,
          18.984862,
          19.289286,
          22.150696,
          19.444924,
          18.017324,
          19.014643,
          22.258686,
          19.378482,
          18.93409,
          21.0315095,
          21.072905,
          18.923538,
          20.681293,
          18.821062,
          16.8531086,
          19.049024,
          22.34005336,
          18.862602,
          21.018724,
          20.569456,
          19.3934457,
          19.436024,
          19.378009,
          19.416294,
          18.859078,
          20.692161,
          20.394361,
          32.453504,
          23.634501,
          19.619862,
          20.059035,
          19.468129,
          21.0424858,
          16.758369,
          25.6315927,
          21.15958774,
          16.860338,
          16.86656582,
          20.685983,
          21.0751632,
          19.376822,
          19.0303511,
          19.433274,
          19.394358,
          21.039522,
          18.8954874,
          18.984862,
          21.072905,
          18.813908,
          20.424117,
          21.0381057,
          19.28283025,
          28.6464221,
          19.5652097,
          19.284855,
          20.70506,
          19.2753576,
          19.137135,
          20.675995,
          22.3151894,
          19.436404,
          21.095711,
          32.509445,
          20.616705,
          23.215713,
          21.039522,
          21.072905,
          21.072905,
          21.015982,
          22.12590752,
          20.547674,
          20.677448,
          20.9638852,
          19.4034054,
          20.3951106,
          19.536936,
          19.453142,
          19.14966827,
          19.3434214,
          20.099826,
          19.473623,
          20.5835963,
          23.634501,
          20.58787576,
          19.232695,
          32.440475,
          19.513165,
          23.634501,
          28.6983446,
          24.770091,
          26.078394,
          28.95479589,
          25.626854,
          20.662301,
          21.04980598,
          16.740425,
          19.395097,
          18.960824,
          20.7037,
          28.64073,
          19.305233,
          19.379597,
          19.26183971,
          19.2753576,
          25.553129,
          18.93409,
          19.346687,
          16.838398,
          19.482168,
          24.8427771,
          21.101317,
          21.164147,
          25.647146,
          25.64423457,
          29.0904798,
          24.15963233,
          20.784784,
          22.2465535,
          19.569101,
          21.039522,
          20.555649,
          19.405298,
          19.258038,
          18.823669,
          19.377171,
          21.017197,
          18.892714,
          19.636706,
          21.039522,
          18.134026,
          21.07671918,
          19.401509,
          18.072582,
          21.072905,
          22.247913,
          22.148722,
          32.494743,
          22.18978923,
          18.96295456,
          18.8859084,
          28.643902,
          19.347683,
          19.375374,
          19.52395,
          16.757619,
          21.075163,
          19.02038,
          21.9243493,
          21.1351429,
          19.39365,
          25.733049,
          24.141701,
          20.579091,
          25.731798,
          19.672207,
          19.401066,
          21.00227,
          20.680066,
          16.86483064,
          20.760167,
          21.02838037,
          19.341597,
          25.596904,
          19.665554,
          19.650003,
          25.7708161,
          22.2331041,
          25.723276,
          19.044477,
          19.562922,
          25.580088,
          19.055344,
          23.634501,
          19.34189,
          19.404718,
          20.675023,
          19.532259,
          22.313122,
          22.29275303,
          18.864874,
          20.726007,
          20.7204378,
          19.1368849,
          19.291351,
          18.9242095,
          21.152496,
          19.027103,
          25.56551,
          18.813505,
          21.039522,
          18.804409,
          25.584658,
          19.225745,
          20.763189,
          19.383512,
          20.6460186,
          19.367025,
          20.604974,
          21.93248,
          22.133745,
          19.054064,
          19.0303511,
          18.947784,
          19.3418937,
          20.963127,
          19.550089,
          22.307415,
          18.8879389,
          21.030668,
          19.10283721,
          19.353592,
          21.01144518,
          19.263756,
          19.415097,
          19.471368,
          19.125807,
          19.414261,
          32.469454,
          19.5224961,
          21.039522,
          20.6295586,
          19.17078,
          16.756552,
          20.5745579,
          20.62192,
          21.06334852,
          25.749624,
          19.036623,
          19.358008,
          19.701565,
          19.415143,
          18.1479784,
          16.794599,
          20.594322,
          18.919898,
          19.074387,
          16.758724,
          19.650003,
          19.72876,
          23.634501,
          20.999449,
          21.0411724,
          19.105051,
          21.0381057,
          19.136782,
          32.63496,
          21.039522,
          25.535009,
          20.7053975,
          25.659972,
          22.2722052,
          18.867191,
          20.6962084,
          19.285162,
          19.497893,
          23.634501,
          23.634501,
          20.389062,
          16.828667,
          20.705742,
          19.35782,
          18.864874,
          19.342911,
          23.634501,
          29.063726,
          25.801826,
          20.5951924,
          19.059084,
          23.634501,
          20.726007,
          21.0278699,
          18.91473109,
          20.968147,
          25.674595,
          21.039522,
          18.850763,
          20.726007,
          19.056689,
          22.270658,
          20.748312,
          20.614635,
          22.152988,
          21.039522,
          25.723516,
          19.563767,
          19.474885,
          18.8624622,
          19.508698,
          20.968791,
          19.3735635,
          22.2453265,
          19.303392,
          16.794434,
          22.300137,
          20.749051,
          26.847851,
          23.634501,
          19.02038,
          20.0519991,
          21.0634817,
          19.399652,
          24.043295,
          25.551631,
          20.574251,
          19.482603,
          18.953268,
          18.891611,
          22.1441622,
          19.2693686,
          21.0749983,
          18.462721,
          19.595285,
          27.934649,
          24.79119169,
          19.500286,
          21.072905,
          19.4171734,
          21.008295,
          18.864482,
          19.366935,
          23.634501,
          16.757278,
          20.697244,
          19.02038,
          21.1773896,
          16.855229,
          17.97423,
          19.313719,
          25.58972991,
          21.161908,
          21.03071,
          19.39912,
          21.05632272,
          19.5139313,
          20.598278,
          23.270559,
          23.634501,
          16.85952231,
          18.884224,
          18.862602,
          19.40012,
          25.55617,
          25.573046,
          18.858107,
          28.6569304,
          28.684125,
          22.254078,
          16.766455,
          20.545198,
          22.18774276,
          18.864874,
          22.133104,
          26.079573,
          19.127317,
          19.340305,
          19.517476,
          19.552838,
          19.35743172,
          19.69323,
          19.325944,
          20.621093,
          32.647057,
          22.141575,
          18.978682,
          20.619887,
          18.892714,
          22.329824,
          19.322523,
          16.70635,
          19.297163,
          20.95062266,
          20.9725515,
          19.317675,
          18.879347,
          25.625198,
          19.401507,
          19.474285,
          18.928623,
          20.520556,
          25.662563,
          23.246303,
          18.969294,
          16.75063911,
          19.335116,
          19.402944,
          19.682219,
          25.7214602,
          20.5980665,
          25.672399,
          19.399815,
          20.9550515,
          16.228815,
          20.69064,
          19.258327,
          20.726007,
          19.403334,
          32.451368,
          21.901482,
          20.302476,
          19.076204,
          19.48778,
          19.3176966,
          21.129547,
          19.046724,
          19.352431,
          18.858107,
          20.6536084,
          25.7542524,
          21.006756,
          18.891621,
          19.317653,
          22.246319,
          23.634501,
          19.3651763,
          20.593055,
          25.6910283,
          20.594706,
          23.634501,
          18.989918,
          19.043993,
          20.1213329,
          20.733392,
          19.400249,
          21.023252,
          20.124367,
          25.510947,
          19.480501,
          21.030668,
          20.679045,
          21.9633957,
          32.469498,
          22.329824,
          21.039522,
          19.701769,
          16.870413,
          19.765149,
          19.372248,
          19.280767,
          19.389791,
          21.039522,
          19.668947,
          19.009069,
          32.494823,
          19.314545,
          22.1447396,
          20.64338,
          30.733356,
          19.553615,
          19.405298,
          20.5969621,
          23.634501,
          19.34016,
          21.075163,
          22.257896,
          16.8531086,
          19.027384,
          19.309069,
          23.20485,
          28.631943,
          21.0399331,
          16.8808724,
          24.125583,
          19.269808,
          19.41498,
          20.996355,
          18.954132,
          19.494789,
          17.6474239,
          19.2666119,
          21.161908,
          19.377171,
          19.2790911,
          20.660534,
          20.95618,
          22.141575,
          19.443178,
          21.05258302,
          19.621174,
          18.915431,
          17.962037,
          19.30102797,
          20.949051,
          19.627731,
          24.03902146,
          21.112447,
          19.451872,
          18.913485,
          18.840925,
          19.3819271,
          25.558637,
          20.764135,
          19.385989,
          28.6329957,
          18.996482,
          19.401507,
          20.726007,
          18.795519,
          18.885848,
          20.403807,
          22.134478,
          19.5562275,
          20.726007,
          25.757803,
          22.1593377,
          20.726007,
          19.475765,
          20.6490506,
          19.060701,
          25.365447,
          23.634501,
          32.589504,
          19.383952,
          18.97302,
          24.16478214,
          21.072905,
          25.758963,
          19.0378006,
          19.3870644,
          19.5329337,
          19.29712,
          23.634501,
          20.70706703,
          19.046589,
          25.7394971,
          19.100079,
          22.147087,
          21.1264477,
          18.917542,
          19.472128,
          19.234984,
          18.9187144,
          21.075163,
          19.52589,
          19.2640539,
          19.268629,
          19.511938,
          20.689157,
          21.0441317,
          21.129547,
          21.003574,
          19.667873,
          19.443178,
          19.396593,
          21.1299039,
          25.625994,
          19.524143,
          19.386959,
          20.949741,
          18.920345,
          16.863794,
          19.136782,
          19.403334,
          21.0411724,
          25.441315,
          32.425724,
          19.484794,
          19.378533,
          25.740887,
          16.769737,
          20.650429,
          19.387613,
          18.890867,
          21.139086,
          19.413079,
          19.410826,
          18.900852,
          19.428767,
          19.595285,
          19.531834,
          18.818652,
          23.634501,
          21.137991,
          18.7696195,
          22.169217188,
          23.634501,
          19.101794,
          19.517859,
          19.2790911,
          15.752900306,
          19.302422,
          19.343664,
          16.868438,
          18.93409,
          19.534415,
          19.043223,
          19.0527224248,
          18.981213,
          19.395097,
          18.862602,
          20.594334,
          18.9915056,
          22.125832,
          25.592172,
          19.295469,
          20.703063,
          19.670241,
          20.9591553064,
          20.635013,
          19.673779,
          17.997911,
          19.508253,
          18.937398,
          32.486253,
          18.9802279987,
          20.5969621,
          21.0181429,
          28.6275048,
          20.723525,
          20.729762,
          18.7696195,
          19.410632,
          19.672207,
          28.6103324259,
          23.634501,
          17.928942,
          20.572651,
          19.1553371,
          20.957177,
          25.7815621,
          21.039522,
          20.543838,
          19.1564195,
          19.275725,
          18.90666,
          19.342083,
          20.570164,
          18.926468,
          19.368553,
          20.5828187131,
          19.427607,
          16.770111,
          19.460046,
          18.9015371,
          16.748295,
          20.5198184,
          18.890867,
          19.682383,
          20.582091,
          19.0733273,
          21.161908,
          18.949474,
          18.795519,
          25.484016,
          20.536322,
          19.343424,
          19.274727,
          20.5412697,
          25.7296370244,
          18.835054,
          19.368475,
          19.285891,
          19.392302,
          19.2925929444,
          20.5426931,
          19.0652948,
          20.6129,
          18.983398,
          19.657836,
          21.03071,
          19.710472,
          19.476202,
          28.663404,
          20.726262,
          19.137135,
          19.5224623443,
          20.696185,
          20.092012,
          32.601212,
          16.765467,
          21.039522,
          18.989942,
          18.898756,
          19.119549,
          19.353288,
          22.1385005078,
          29.083198,
          19.044477,
          19.510133,
          18.850763,
          25.758372724,
          20.726007,
          19.5562275,
          19.345528,
          18.935198,
          19.03362,
          19.229864,
          21.039522,
          18.936026,
          18.053865,
          20.9968241,
          20.984423,
          18.864874,
          19.40112,
          20.705742,
          24.813503,
          18.935198,
          21.012869,
          21.1672703,
          18.948607,
          18.95299,
          18.8816687,
          20.5884382058,
          20.9973786,
          19.33923,
          16.766967,
          28.631689,
          20.58966,
          18.862602,
          20.59808,
          21.1789333275,
          25.6689477,
          16.862803,
          23.296583,
          21.0012449,
          19.666832,
          25.668703,
          20.663444,
          19.521015,
          23.286216,
          19.422676,
          19.6378074,
          20.084376,
          18.850763,
          19.300923,
          19.444723,
          19.403597,
          19.66869,
          32.486292,
          20.705671,
          16.8583631,
          19.1005941575,
          19.479437,
          18.981213,
          20.624242,
          19.508253,
          19.533955,
          19.394073,
          18.878128,
          20.5862687746,
          18.961286,
          20.628052,
          18.660893,
          19.0652948,
          22.285725,
          19.305984,
          19.361792,
          22.1877626295,
          20.726007,
          19.417636,
          19.570101,
          18.885313,
          22.148722,
          18.985688,
          19.427053,
          19.446256,
          21.4581695,
          19.333974,
          19.379597,
          22.139618,
          19.552184,
          20.5365909,
          19.445032,
          19.54235,
          19.377404,
          16.858816,
          23.231522,
          21.006756,
          16.850374,
          18.141083,
          18.989918,
          25.540674,
          21.039522,
          19.336697,
          20.697427,
          19.451872,
          19.262129,
          19.2790911,
          20.647398,
          23.634501,
          20.5887932,
          19.028651,
          19.493713,
          19.11819,
          18.147928788,
          19.4907003,
          25.672309,
          19.542509,
          19.671952,
          19.297108,
          32.421957,
          18.855343,
          18.939657,
          19.345431,
          25.660103,
          19.564925,
          25.652299,
          19.452665,
          16.869995,
          16.768602,
          23.634501,
          19.317622,
          16.850374,
          21.0306572,
          19.359798,
          19.3434226,
          19.4503249,
          22.3918646281,
          19.307417,
          24.0277202,
          19.374843,
          22.1352302,
          25.577366,
          19.517859,
          20.605692,
          22.158050728,
          18.847519,
          19.119549,
          19.301835,
          16.756552,
          18.813505,
          19.8301251,
          20.592563,
          20.044181,
          19.396893,
          20.615292,
          21.202881,
          21.0315095,
          19.33981,
          25.6773984,
          21.0344135,
          18.936026,
          20.607178,
          19.470298,
          19.522923,
          20.570164,
          18.1477847816,
          19.399741,
          19.282308,
          19.634604,
          18.904448,
          19.456544,
          20.726007,
          20.548123,
          19.396705,
          20.6543981,
          16.766762,
          18.954132,
          25.696475,
          19.270165,
          23.634501,
          19.39912,
          19.229864,
          19.376589,
          21.072905,
          19.044477,
          19.6494549,
          19.60537,
          17.999552,
          19.1090862,
          18.910368,
          20.775549,
          25.7671943,
          24.168865,
          32.457415,
          20.726007,
          17.0588513685,
          19.550762,
          21.0412206815,
          19.373161,
          18.917542,
          25.657194,
          18.94542,
          20.6113606,
          16.773806,
          19.493973,
          20.626583,
          25.651072,
          19.362795,
          20.631845,
          25.637247,
          21.138567,
          16.874741,
          19.395097,
          19.478815,
          19.554081,
          22.276130897,
          18.9611008,
          19.51918,
          21.03071,
          19.671921,
          19.514929,
          19.295469,
          19.488134,
          19.326108,
          29.105133,
          19.711031,
          25.5883667,
          24.155968,
          19.483263,
          19.404718,
          28.678531,
          21.0064261,
          23.634501,
          19.580685,
          20.571299,
          20.9904342,
          18.953518,
          25.686357,
          32.494759,
          20.7540020174,
          19.562864,
          20.5285264774,
          22.133745,
          19.299864,
          19.493069,
          20.6536084,
          19.384724,
          20.883594,
          25.6866142,
          18.804197,
          20.7047931,
          19.589786878,
          18.972588,
          25.530777,
          20.593385,
          19.017727,
          19.454332,
          21.139086,
          19.2030655,
          23.290356,
          19.277207,
          25.7393693814,
          18.901708,
          19.368808,
          21.0369774162,
          23.634501,
          19.38342,
          18.93409,
          19.380834,
          18.886955,
          25.679226,
          19.413009,
          19.410215,
          19.367424,
          22.0951835008,
          19.298168,
          19.5652097,
          19.5527338,
          21.0634817,
          22.285725,
          20.5230129,
          19.440043,
          25.439536,
          22.144705,
          20.9959805028,
          22.3286560021,
          18.858107,
          19.0530826,
          18.883513,
          18.933414,
          18.935198,
          25.7385463,
          19.41275,
          19.364891,
          19.272732,
          19.490576,
          20.5535753,
          20.572051,
          32.457469,
          19.353373,
          21.039522,
          20.2959587,
          20.379178,
          18.804409,
          20.5958037462,
          22.272678,
          22.309216,
          18.808657,
          20.712604,
          25.6626225,
          19.059084,
          21.89658,
          19.8308743,
          19.491798,
          19.508428,
          28.70466,
          19.454332,
          19.077675,
          23.634501,
          18.922282,
          16.742777,
          20.945961,
          22.193162,
          19.119549,
          19.4953683665,
          21.139641,
          20.659601,
          21.3103259143,
          19.393257,
          21.072905,
          20.9475017,
          25.721457,
          19.406092,
          22.125832,
          21.023252,
          19.31673,
          20.647322,
          19.7100885,
          19.462951,
          21.072905,
          22.3140373,
          20.547053,
          19.308845,
          16.745515,
          19.704245,
          25.525183,
          22.136711,
          21.039522,
          18.831146,
          20.558271,
          21.178095,
          19.403794,
          20.543869,
          19.343424,
          19.532236,
          20.755376,
          21.008295,
          19.382649,
          23.634501,
          22.268972,
          16.856389,
          19.1279472004,
          19.076612,
          20.391528,
          21.1661723,
          32.46906,
          21.0634817,
          23.634501,
          20.745667,
          22.292006,
          19.061148,
          18.969536,
          19.300028,
          20.999418,
          19.401507,
          19.663315,
          21.030668,
          19.255166,
          18.743973,
          21.037875,
          21.1495343889,
          18.951663,
          19.381078,
          24.8225157463,
          19.522923,
          20.693433,
          19.545727,
          28.672886,
          20.9144491,
          23.634501,
          20.618279,
          22.193523,
          21.030771,
          16.747116,
          19.276849,
          21.082655,
          19.3845016369,
          19.446829,
          20.99947,
          21.99782,
          25.714615,
          19.286575,
          24.024288,
          19.537234,
          19.343042,
          20.594322,
          20.66976,
          23.256596,
          19.524088,
          27.492267,
          19.394358,
          25.7075214,
          28.6329957,
          22.286442,
          18.926889,
          19.287568,
          18.835637,
          25.723516,
          19.750508,
          19.058884,
          19.477827,
          18.963312,
          19.393656,
          19.607218,
          19.1617587,
          16.7795417527,
          21.0411724,
          18.00557,
          19.441809,
          20.124367,
          20.9673656268,
          19.391819,
          19.375412,
          23.634501,
          19.496076,
          24.8053549677,
          19.309196,
          18.842861,
          25.51485,
          20.532264,
          18.9289862,
          21.0284038368,
          22.11830417,
          19.233201
         ],
         "legendgroup": "",
         "lon": [
          -99.233528,
          -100.1988071,
          -99.764383,
          -99.911012,
          -89.53863859,
          -100.4525027,
          -98.9548261,
          -93.088928,
          -99.64694828,
          -98.932816,
          -99.789939,
          -89.6780555,
          -99.233528,
          -92.8963995,
          -99.158695,
          -89.32268858,
          -99.2233268,
          -104.9074948,
          -99.241142,
          -98.1945109,
          -99.157755,
          -99.106194,
          -98.275275,
          -103.397214,
          -89.601028,
          -106.412613,
          -99.172536,
          -99.180214,
          -89.599258,
          -92.92127323,
          -93.162903,
          -97.8885244,
          -89.5863038,
          -99.14769,
          -103.33239,
          -103.377648,
          -98.2061996,
          -99.11161,
          -96.163884,
          -98.214364,
          -102.552788,
          -89.516731,
          -99.2267067,
          -99.248993,
          -99.146127,
          -98.206947,
          -99.214828,
          -99.01932,
          -101.016029,
          -98.932816,
          -89.6322061,
          -107.4692179,
          -99.218987,
          -116.907481,
          -98.7362998,
          -99.212962,
          -102.552788,
          -99.23847934,
          -86.817017,
          -100.2439723,
          -97.854477,
          -99.870399,
          -96.111477,
          -99.772466,
          -102.552788,
          -89.6181018,
          -100.3469826,
          -99.220367,
          -100.145821,
          -100.238281,
          -99.161529,
          -99.208048,
          -103.378005,
          -98.349915,
          -86.81568548,
          -103.442286,
          -99.13907,
          -89.642815,
          -99.227295,
          -100.444016,
          -110.978981,
          -98.2761016,
          -107.402241,
          -99.112656,
          -106.0691004,
          -89.5655331,
          -100.900192,
          -99.097517,
          -99.164986,
          -99.242531,
          -98.288637,
          -96.154687,
          -98.203529,
          -98.963181,
          -89.5910162,
          -110.3169306,
          -99.183172,
          -99.236124,
          -99.231445,
          -99.15803991,
          -99.184615,
          -98.179484,
          -101.027344,
          -89.65963,
          -100.170963,
          -99.588992,
          -103.483829,
          -98.941094,
          -103.448288,
          -89.599258,
          -102.552788,
          -99.179545,
          -99.233795,
          -89.65963,
          -99.222138,
          -98.328011,
          -94.476112,
          -103.425036,
          -99.694921,
          -103.435217,
          -100.4122654,
          -100.458626,
          -98.901535,
          -99.225298,
          -89.591019,
          -99.9089643,
          -100.895958,
          -102.552788,
          -101.0181525,
          -99.227384,
          -98.790423,
          -89.603973,
          -99.056687,
          -99.166247,
          -99.22272205,
          -89.5568382,
          -100.448934,
          -99.106194,
          -99.559659,
          -99.22973,
          -106.109581,
          -100.21376,
          -102.332787,
          -96.13928,
          -98.76537555,
          -100.295769,
          -99.170262,
          -99.301674,
          -99.113317,
          -98.219383,
          -89.6039725,
          -99.130999,
          -99.254997,
          -100.4705682,
          -89.599258,
          -89.583946,
          -98.265739,
          -99.6556653,
          -97.9342897,
          -93.179222,
          -99.067626,
          -89.563911,
          -99.21289,
          -98.245911,
          -99.199085,
          -106.432565,
          -99.177162,
          -86.817017,
          -99.0532159,
          -100.304192,
          -96.939697,
          -96.197784,
          -89.5568382,
          -99.9083,
          -100.442642,
          -102.552788,
          -99.204927,
          -99.16735,
          -92.965249,
          -100.3898881,
          -89.570984,
          -89.591041,
          -101.213341,
          -94.4422,
          -100.4057781,
          -89.629875,
          -97.8238578,
          -103.40899,
          -99.231445,
          -99.138544,
          -86.84881411,
          -97.8884841,
          -99.214043,
          -99.163153,
          -96.161783,
          -89.635757,
          -99.88790821,
          -100.442642,
          -106.408936,
          -86.84964,
          -103.379302,
          -89.5614233,
          -99.161892,
          -99.222297,
          -100.3491545,
          -89.59907413,
          -99.087529,
          -89.591019,
          -100.35253,
          -89.599258,
          -99.140957,
          -96.1142685,
          -99.187643,
          -99.165397,
          -89.563911,
          -103.413251,
          -99.575691,
          -96.127518,
          -100.951736,
          -92.929147,
          -99.5940417,
          -98.9479805,
          -89.66792107,
          -99.242531,
          -99.821739,
          -99.245873,
          -97.504808,
          -101.6315416,
          -99.148384,
          -98.271063,
          -99.230123,
          -99.1922665,
          -101.005652,
          -89.516731,
          -98.222234,
          -99.1477363,
          -99.221062,
          -99.149986,
          -115.3169575,
          -99.117987,
          -99.101761,
          -102.552788,
          -103.48332,
          -105.270132,
          -99.1594498,
          -101.0151243,
          -89.570984,
          -103.357425,
          -97.8750355,
          -99.5817205,
          -99.617673,
          -99.2727792,
          -98.963181,
          -92.95154875,
          -100.274638,
          -99.1738213,
          -107.46476,
          -102.286817,
          -99.232574,
          -97.8437788,
          -99.137657,
          -100.289459,
          -98.22384596,
          -89.62156874,
          -99.171906,
          -100.4052434,
          -100.249496,
          -89.53858227,
          -98.22678055,
          -103.475021,
          -101.600136,
          -101.0302325,
          -99.179694,
          -99.211439,
          -99.163605,
          -98.2731403,
          -89.55160305,
          -98.978363,
          -99.224525,
          -100.357695,
          -98.223132,
          -98.2604216,
          -102.284888,
          -99.260544,
          -99.20547,
          -99.297272,
          -101.0286072,
          -99.206348,
          -99.280419,
          -99.177444,
          -100.889863,
          -99.1774462,
          -96.130805,
          -100.329168,
          -89.600723,
          -100.3965403,
          -98.235992,
          -99.180214,
          -99.214371,
          -98.296013,
          -99.140985,
          -98.3007086,
          -99.266178,
          -93.119637,
          -89.563911,
          -99.162665,
          -103.333385,
          -109.946872,
          -100.378563,
          -99.244721,
          -99.559006,
          -98.186447,
          -103.425418,
          -99.88293272,
          -104.923553,
          -93.066491,
          -99.177444,
          -100.346985,
          -99.461708,
          -103.413092,
          -99.998039,
          -98.932816,
          -100.982117,
          -99.177444,
          -89.618103,
          -105.202538,
          -117.033916,
          -98.322969,
          -103.412397,
          -110.31971,
          -97.841892,
          -98.190349,
          -99.173522,
          -99.606303,
          -110.97103,
          -99.16357613,
          -103.3941011,
          -99.23692,
          -100.9855409,
          -89.6110378,
          -89.6446768,
          -100.407691,
          -99.266083,
          -86.850891,
          -99.163605,
          -92.923836,
          -93.089951,
          -100.264221,
          -100.366721,
          -99.085456,
          -99.20883894,
          -103.418115,
          -93.178283,
          -89.5925857,
          -89.574516,
          -99.213448,
          -96.113161,
          -99.129918,
          -98.983431,
          -89.632225,
          -100.935486,
          -89.615316,
          -97.849037,
          -93.096451,
          -101.176615,
          -99.098691,
          -98.246264,
          -103.454953,
          -99.224869,
          -96.07347608,
          -100.444016,
          -99.222374,
          -107.3940117,
          -97.509221,
          -99.104161,
          -99.160229,
          -93.134056,
          -97.86808,
          -101.1981905,
          -99.147827,
          -101.238213,
          -99.2907617,
          -100.390495,
          -110.303329,
          -96.139002,
          -99.553293,
          -98.7591311,
          -94.5140773,
          -99.240356,
          -99.174182,
          -100.187794,
          -100.4654217,
          -99.263505,
          -89.6612548,
          -99.292419,
          -96.921847,
          -98.250015,
          -100.388042,
          -100.297874,
          -99.590174,
          -104.613602,
          -99.189277,
          -100.384446,
          -103.383702,
          -98.953514,
          -86.880921,
          -92.960579,
          -96.160652,
          -99.2906864,
          -99.27547,
          -99.26886,
          -100.3898881,
          -99.155442,
          -100.258614,
          -99.094437,
          -100.454275,
          -89.605148,
          -96.897717,
          -96.1342241,
          -96.109911,
          -115.433372,
          -97.849037,
          -89.634346,
          -100.3898881,
          -96.125389,
          -99.288261,
          -98.953514,
          -109.960496,
          -87.05368,
          -110.336274,
          -99.847374,
          -96.106026,
          -102.552788,
          -103.3946675,
          -89.607506,
          -99.213448,
          -100.946717,
          -99.182374,
          -99.258682,
          -99.232561,
          -89.65963,
          -101.038651,
          -99.179871,
          -92.98419938,
          -102.552788,
          -98.417053,
          -98.170731,
          -99.200287,
          -99.22372,
          -89.5933722,
          -99.189277,
          -89.65963,
          -103.315276,
          -100.342773,
          -99.050138,
          -99.248612,
          -100.94397,
          -100.4508956,
          -101.0172996,
          -99.853204,
          -99.271629,
          -99.01653931,
          -99.867119,
          -98.94649,
          -99.128797,
          -89.574516,
          -98.76800179,
          -97.870796,
          -99.482277,
          -89.2624626,
          -98.328011,
          -106.0711926,
          -99.2090757,
          -99.179278,
          -93.135307,
          -102.552788,
          -89.5933722,
          -99.824979,
          -99.2113669,
          -99.1739857,
          -89.599258,
          -98.28487086,
          -100.393311,
          -89.6551671,
          -86.76753902,
          -99.187134,
          -106.459885,
          -99.148384,
          -99.196279,
          -99.293444,
          -93.152699,
          -99.175887,
          -99.138544,
          -99.233528,
          -100.335754,
          -100.976522,
          -100.9547921,
          -93.105578,
          -97.86264,
          -99.230064,
          -99.293808,
          -98.216515,
          -102.552788,
          -89.563911,
          -100.979996,
          -98.28005165,
          -99.098587,
          -103.408554,
          -100.883958,
          -99.196831,
          -100.386343,
          -96.128845,
          -97.404341,
          -110.9871743,
          -102.552788,
          -89.563911,
          -100.3723396,
          -99.24238533,
          -102.2563045,
          -99.113106,
          -93.102641,
          -100.457924,
          -102.294085,
          -103.387465,
          -100.3135947,
          -99.242531,
          -100.472563,
          -103.385429,
          -100.239685,
          -106.406723,
          -93.088427,
          -99.1695793,
          -101.038651,
          -99.216217,
          -99.133163,
          -99.209835,
          -98.273949,
          -99.226952,
          -99.231445,
          -100.442642,
          -89.516731,
          -98.10286,
          -89.6229189,
          -99.565956,
          -98.2061996,
          -107.434033,
          -106.481557,
          -99.176957,
          -99.192293,
          -100.2665026,
          -100.370035,
          -93.179222,
          -89.58423615,
          -86.83164597,
          -92.626991,
          -100.444016,
          -99.125466,
          -99.218987,
          -99.16507,
          -89.599258,
          -98.925911,
          -99.131106,
          -89.53033447,
          -99.083374,
          -99.111916,
          -99.179545,
          -89.618103,
          -96.106922,
          -116.880827,
          -98.357062,
          -99.973053,
          -89.6239875,
          -100.376117,
          -99.07093,
          -89.65963,
          -98.963181,
          -97.362764,
          -99.147827,
          -98.277669,
          -99.171906,
          -89.5588406,
          -89.26205993,
          -100.418361,
          -100.345581,
          -102.552788,
          -99.572013,
          -100.9965101,
          -99.129707,
          -96.160663,
          -99.14058611,
          -89.6583682,
          -106.13604,
          -103.417295,
          -100.944672,
          -98.19941841,
          -99.186126,
          -99.844955,
          -96.12487,
          -100.2701137,
          -99.240456,
          -101.187927,
          -116.8196303,
          -89.646347,
          -93.162903,
          -99.201675,
          -99.087491,
          -89.65963,
          -100.346985,
          -89.516731,
          -99.87171739,
          -103.376805,
          -89.574516,
          -98.77615,
          -89.5965747,
          -99.221429,
          -103.38708,
          -86.84964,
          -101.209167,
          -99.146309,
          -101.118018,
          -99.249458,
          -101.406695,
          -98.222234,
          -99.158066,
          -101.010025,
          -99.139843,
          -92.899362,
          -98.170731,
          -97.851753,
          -99.220795,
          -99.254997,
          -89.600513,
          -89.65963,
          -99.241848,
          -100.329622,
          -98.949371,
          -99.8236533,
          -98.281669,
          -97.88609952,
          -99.213448,
          -89.589836,
          -103.50165,
          -99.1796926,
          -99.15461,
          -99.193543,
          -99.16748,
          -99.176287,
          -100.465025,
          -99.973053,
          -117.038495,
          -102.552788,
          -99.146996,
          -98.790359,
          -99.04049,
          -89.5568382,
          -99.768737,
          -100.1953926,
          -86.82220861,
          -99.870399,
          -99.88082886,
          -103.447155,
          -89.5167298,
          -99.174675,
          -98.3143192,
          -99.210758,
          -99.177444,
          -89.563911,
          -99.1732936,
          -98.222234,
          -89.65963,
          -99.201675,
          -103.29756,
          -89.5933722,
          -99.56667352,
          -106.0860628,
          -99.2646998,
          -98.950752,
          -105.269812,
          -99.1675547,
          -96.112946,
          -103.420837,
          -97.8573594,
          -99.173617,
          -86.869343,
          -116.985857,
          -103.413612,
          -106.418182,
          -89.563911,
          -89.65963,
          -89.65963,
          -89.705116,
          -100.9865534,
          -100.394761,
          -103.400405,
          -97.4124504,
          -99.1825418,
          -99.9856344,
          -99.22732,
          -99.180214,
          -96.12028599,
          -99.1294848,
          -98.772656,
          -99.124863,
          -100.3729496,
          -102.552788,
          -100.446496,
          -103.696887,
          -116.983772,
          -96.898109,
          -102.552784,
          -106.0940375,
          -107.444782,
          -98.325452,
          -111.0455946,
          -100.188538,
          -100.441093,
          -86.85358784,
          -93.12841,
          -99.150424,
          -99.268107,
          -100.462857,
          -106.109581,
          -99.12269,
          -99.293808,
          -99.58393506,
          -99.1675547,
          -103.510059,
          -99.254997,
          -99.011513,
          -99.897744,
          -99.264038,
          -107.3931108,
          -86.862888,
          -86.868479,
          -100.356804,
          -100.2966356,
          -110.9747137,
          -110.3057599,
          -103.471496,
          -97.8721436,
          -99.303513,
          -89.563911,
          -100.38488,
          -99.164986,
          -99.161589,
          -99.227295,
          -99.188503,
          -89.574516,
          -99.1996,
          -99.101569,
          -89.563911,
          -94.476112,
          -89.62775633,
          -99.154034,
          -93.165413,
          -89.65963,
          -97.875565,
          -101.00119,
          -117.016784,
          -100.9525537,
          -98.27967882,
          -99.19064,
          -106.130157,
          -99.165877,
          -99.137657,
          -99.152881,
          -99.767532,
          -89.516731,
          -98.207626,
          -102.2833909,
          -86.837489,
          -99.14769,
          -100.22847,
          -110.347267,
          -103.430379,
          -100.349091,
          -99.015656,
          -99.277168,
          -89.5650908,
          -87.038345,
          -99.87526059,
          -103.379168,
          -89.56463993,
          -98.215828,
          -103.4203,
          -101.235738,
          -99.220367,
          -100.4340179,
          -97.861099,
          -100.401518,
          -98.328011,
          -99.254974,
          -100.239685,
          -98.212046,
          -102.552788,
          -99.166374,
          -99.263313,
          -100.457086,
          -99.23214,
          -97.858559,
          -97.89062485,
          -98.925911,
          -100.442642,
          -105.2706825,
          -96.1093008,
          -99.668945,
          -99.2215659,
          -86.869834,
          -98.270025,
          -100.223213,
          -98.953514,
          -89.563911,
          -98.959038,
          -100.257912,
          -99.567856,
          -103.389053,
          -99.084804,
          -105.2267944,
          -99.170349,
          -100.409786,
          -102.297005,
          -101.016029,
          -98.245911,
          -98.3143192,
          -99.201675,
          -99.2245237,
          -97.385071,
          -99.214828,
          -97.859846,
          -99.0247871,
          -89.599258,
          -96.11123085,
          -99.177275,
          -89.57977295,
          -99.540924,
          -98.918523,
          -99.08649,
          -96.104954,
          -99.104118,
          -117.003688,
          -99.255074,
          -89.563911,
          -87.0738851,
          -96.12487,
          -93.181732,
          -100.4129676,
          -103.259237,
          -89.61303592,
          -100.304192,
          -98.190544,
          -99.127094,
          -101.270798,
          -99.14685,
          -94.4626507,
          -99.83012,
          -100.365929,
          -98.978835,
          -96.086259,
          -99.767563,
          -99.220367,
          -99.461708,
          -102.552788,
          -89.6334,
          -89.5550539,
          -98.243682,
          -89.5933722,
          -96.123543,
          -115.391907,
          -89.563911,
          -103.302429,
          -105.2684878,
          -103.366303,
          -97.8476749,
          -99.180214,
          -100.4506587,
          -99.194185,
          -99.244125,
          -102.552788,
          -102.552788,
          -99.957622,
          -99.858981,
          -100.444016,
          -99.149406,
          -98.925911,
          -99.224472,
          -102.552788,
          -110.976746,
          -100.196945,
          -100.3479663,
          -98.286095,
          -102.552788,
          -100.442642,
          -89.5880314,
          -98.94081116,
          -89.629875,
          -100.463539,
          -89.563911,
          -98.943855,
          -100.442642,
          -98.237817,
          -97.849037,
          -103.429504,
          -100.416756,
          -100.965364,
          -89.563911,
          -100.393311,
          -96.938694,
          -99.188231,
          -99.2120335,
          -98.875664,
          -89.5857147,
          -99.2965778,
          -97.8431699,
          -99.243225,
          -99.830807,
          -97.897331,
          -103.66731,
          -101.424133,
          -102.552788,
          -98.207626,
          -98.755252,
          -89.6110378,
          -99.16127,
          -104.636917,
          -103.432737,
          -100.388476,
          -99.194748,
          -99.224525,
          -99.221756,
          -101.0358237,
          -99.6021262,
          -89.5195181,
          -97.414111,
          -99.050201,
          -110.94401,
          -107.3835468,
          -99.122093,
          -89.65963,
          -98.1434147,
          -89.591019,
          -98.928802,
          -99.077541,
          -102.552788,
          -93.134056,
          -105.274384,
          -98.207626,
          -86.8179603,
          -99.918871,
          -92.923836,
          -99.231792,
          -103.4631872,
          -86.8515279,
          -89.618103,
          -99.141464,
          -89.66288656,
          -99.2281847,
          -100.33121,
          -106.389061,
          -102.552788,
          -99.86284733,
          -98.982506,
          -99.213448,
          -99.1532,
          -103.481529,
          -103.443045,
          -99.200287,
          -106.0919272,
          -100.541089,
          -97.824554,
          -93.111488,
          -100.407191,
          -100.9580845,
          -98.925911,
          -100.982117,
          -98.282845,
          -96.106186,
          -99.214455,
          -99.272892,
          -99.251161,
          -99.28732574,
          -99.22522,
          -99.098311,
          -103.319042,
          -115.421524,
          -100.900192,
          -98.250015,
          -100.392302,
          -99.1996,
          -97.880325,
          -99.141464,
          -93.177151,
          -99.635183,
          -97.42163144,
          -89.6004394,
          -99.09318,
          -99.179871,
          -103.499954,
          -99.14682,
          -99.084981,
          -99.247382,
          -99.895833,
          -100.18013,
          -106.398103,
          -99.249802,
          -99.76263069,
          -99.223332,
          -99.199727,
          -99.118782,
          -100.2735673,
          -100.4308988,
          -100.257777,
          -99.150806,
          -89.6793392,
          -92.128043,
          -103.393175,
          -99.598374,
          -100.442642,
          -99.157755,
          -116.973935,
          -102.34405,
          -103.23781,
          -98.266733,
          -99.110583,
          -99.0612554,
          -86.817017,
          -98.254127,
          -99.288369,
          -99.200287,
          -100.3469826,
          -100.4034274,
          -89.570984,
          -99.071698,
          -99.236291,
          -97.86264,
          -102.552788,
          -99.2300641,
          -100.333424,
          -100.3568071,
          -103.396278,
          -102.552788,
          -98.2295,
          -98.25757,
          -98.7818531,
          -105.288009,
          -99.177444,
          -89.614571,
          -98.735725,
          -103.357724,
          -99.178139,
          -89.599258,
          -100.341225,
          -102.343524,
          -116.96022,
          -97.880325,
          -89.563911,
          -101.145103,
          -99.873192,
          -98.646915,
          -99.133377,
          -99.033615,
          -99.164696,
          -89.563911,
          -99.224525,
          -98.196693,
          -117.016725,
          -99.140672,
          -101.0273412,
          -103.431613,
          -115.984407,
          -99.248715,
          -99.164986,
          -100.3337597,
          -102.552788,
          -99.194081,
          -89.516731,
          -97.86808,
          -99.8236533,
          -98.265213,
          -99.602311,
          -106.424401,
          -106.117668,
          -89.5965747,
          -99.9359641,
          -110.330846,
          -99.593781,
          -99.177444,
          -89.583946,
          -99.266083,
          -99.270887,
          -101.5455504,
          -99.6403991,
          -86.8515279,
          -99.188503,
          -99.2114234,
          -103.318809,
          -97.408578,
          -100.900192,
          -99.20237,
          -89.53863859,
          -99.148073,
          -98.435252,
          -92.973569,
          -99.14421916,
          -97.364006,
          -99.30194,
          -110.3097618,
          -86.85264,
          -99.173522,
          -99.240456,
          -98.934196,
          -99.1891539,
          -103.449786,
          -103.339958,
          -99.186285,
          -106.0691004,
          -98.239653,
          -99.14682,
          -100.442642,
          -99.231445,
          -98.973834,
          -99.990905,
          -100.929138,
          -99.2674713,
          -100.442642,
          -100.404541,
          -101.0443504,
          -100.442642,
          -99.145,
          -100.4393293,
          -98.329774,
          -100.9942,
          -102.552788,
          -115.363762,
          -99.160229,
          -98.206238,
          -110.3053683,
          -89.65963,
          -100.316811,
          -98.3007086,
          -99.0362059,
          -99.164866,
          -98.255075,
          -102.552788,
          -100.4718161,
          -98.102929,
          -100.2754971,
          -96.121007,
          -100.960213,
          -101.611078,
          -98.963181,
          -99.146697,
          -99.558175,
          -98.4266391,
          -89.516731,
          -99.151703,
          -99.5727534,
          -99.671722,
          -96.871956,
          -103.366728,
          -89.6216334,
          -86.817017,
          -101.285683,
          -101.233465,
          -99.144234,
          -99.133163,
          -101.6220159,
          -100.283852,
          -99.160149,
          -99.219492,
          -97.396337,
          -99.235603,
          -99.881614,
          -96.123543,
          -99.145021,
          -89.5550539,
          -100.987683,
          -117.034189,
          -98.874065,
          -99.187561,
          -100.385582,
          -93.088928,
          -103.374611,
          -99.202726,
          -99.177444,
          -86.84964,
          -99.174228,
          -99.143757,
          -99.213448,
          -99.1459,
          -99.050201,
          -99.240456,
          -98.936752,
          -102.552788,
          -86.870964,
          -95.758949,
          -101.0471907892,
          -102.552788,
          -98.87164,
          -96.891403,
          -99.2114234,
          -96.1357247829,
          -99.230829,
          -99.212308,
          -99.89028,
          -99.254997,
          -99.023333,
          -98.268716,
          -98.2346042991,
          -99.206345,
          -99.150424,
          -99.213448,
          -103.425086,
          -98.2181614,
          -101.035118,
          -99.9961947,
          -99.692619,
          -101.339442,
          -101.190542,
          -89.627494812,
          -103.42725,
          -101.187927,
          -92.923836,
          -99.254997,
          -99.246207,
          -117.054332,
          -98.2865452766,
          -100.3337597,
          -89.6396127,
          -106.0401387,
          -100.45586,
          -100.467159,
          -95.758949,
          -99.13847,
          -99.015656,
          -106.1123085022,
          -102.552788,
          -92.912029,
          -103.474675,
          -96.1682507,
          -97.410652,
          -100.1875974,
          -89.563911,
          -100.412211,
          -96.111619,
          -99.129684,
          -98.965851,
          -99.0532159,
          -100.363823,
          -99.214211,
          -99.178235,
          -100.417855382,
          -99.160835,
          -93.08167,
          -99.140495,
          -98.9336558,
          -93.084284,
          -100.3933074,
          -99.177444,
          -98.984458,
          -100.391196,
          -98.2658243,
          -86.8515279,
          -99.232381,
          -99.231445,
          -100.966568,
          -100.436844,
          -99.135933,
          -103.74485,
          -100.3997814,
          -100.2941036224,
          -98.951226,
          -99.17952,
          -99.108269,
          -99.154385,
          -99.1806221008,
          -100.4512523,
          -96.069905,
          -103.464564,
          -98.288951,
          -101.184317,
          -89.618103,
          -101.222626,
          -99.261893,
          -106.133102,
          -103.468575,
          -96.112946,
          -99.2515909641,
          -100.450005,
          -98.741743,
          -115.474838,
          -93.105786,
          -89.563911,
          -98.247486,
          -96.998779,
          -96.107643,
          -99.244721,
          -100.9965722937,
          -110.993222,
          -98.328011,
          -99.100025,
          -98.943855,
          -100.2713531256,
          -100.442642,
          -99.2674713,
          -99.189906,
          -99.232834,
          -98.203294,
          -99.597954,
          -89.563911,
          -99.216217,
          -92.937809,
          -89.5846761,
          -89.579231,
          -98.925911,
          -99.06707,
          -100.444016,
          -107.371574,
          -99.232834,
          -89.636932,
          -86.8414848,
          -99.243812,
          -99.259592,
          -99.1632665,
          -100.4006266594,
          -89.6296213,
          -99.218987,
          -93.123362,
          -106.102234,
          -100.366899,
          -99.213448,
          -100.337153,
          -86.8123199791,
          -100.3536491,
          -99.894829,
          -106.479973,
          -89.5674103,
          -99.236992,
          -100.405373,
          -103.426533,
          -99.23091,
          -106.427007,
          -99.257774,
          -99.1995969,
          -98.367993,
          -98.943855,
          -99.713636,
          -99.186447,
          -99.149771,
          -101.205173,
          -117.054763,
          -103.396278,
          -99.8508616,
          -96.1070613563,
          -99.236561,
          -99.206345,
          -100.390194,
          -99.254997,
          -99.228287,
          -99.153915,
          -99.187238,
          -100.3786790371,
          -99.212621,
          -100.404541,
          -91.7663706,
          -96.069905,
          -97.843597,
          -99.127341,
          -99.190096,
          -100.962767601,
          -100.442642,
          -99.153292,
          -96.918228,
          -99.062879,
          -101.00119,
          -98.230121,
          -99.256293,
          -99.147767,
          -104.8877876,
          -99.240363,
          -99.293808,
          -101.032422,
          -99.251489,
          -100.4411011,
          -99.140207,
          -99.19195,
          -99.193301,
          -99.857628,
          -106.382439,
          -89.570984,
          -99.850166,
          -94.458733,
          -98.2295,
          -103.393252,
          -89.563911,
          -99.152534,
          -100.444385,
          -99.173522,
          -99.602481,
          -99.2114234,
          -105.209682,
          -102.552788,
          -100.3898881,
          -98.258029,
          -99.204941,
          -96.107956,
          -94.4772926867,
          -99.2553635,
          -100.374119,
          -99.218987,
          -101.175638,
          -103.737602,
          -117.033513,
          -99.241142,
          -99.20237,
          -99.209949,
          -100.410858,
          -99.218415,
          -100.266174,
          -99.121497,
          -99.869568,
          -93.164162,
          -102.552788,
          -99.607241,
          -99.850166,
          -89.5945502,
          -99.161675,
          -99.1359301,
          -99.1351802,
          -97.9089224339,
          -99.125191,
          -104.6531759,
          -99.293871,
          -101.0266343,
          -103.437088,
          -96.891403,
          -100.38488,
          -100.9284004569,
          -99.220529,
          -96.107643,
          -99.206377,
          -93.181732,
          -98.953514,
          -90.5349087,
          -100.371039,
          -99.34648,
          -99.152302,
          -103.312843,
          -101.679077,
          -89.600513,
          -99.216052,
          -100.3940095,
          -89.5978127,
          -99.216217,
          -100.335754,
          -99.272488,
          -99.241837,
          -100.363823,
          -94.4396674633,
          -99.115503,
          -99.126869,
          -99.088905,
          -99.242474,
          -99.127136,
          -100.442642,
          -100.436245,
          -99.181902,
          -100.3546346,
          -93.148401,
          -99.266083,
          -100.345717,
          -99.152404,
          -102.552788,
          -99.141464,
          -99.597954,
          -99.153107,
          -89.65963,
          -98.328011,
          -99.2023662,
          -99.233148,
          -92.950018,
          -98.3289824,
          -99.1996,
          -103.691269,
          -100.2575589,
          -110.306996,
          -116.88252,
          -100.442642,
          -96.749432981,
          -99.242156,
          -89.5549756587,
          -99.130394,
          -98.963181,
          -100.340521,
          -99.223195,
          -100.3288581,
          -93.096295,
          -99.130394,
          -87.078659,
          -100.342773,
          -99.218987,
          -100.390495,
          -100.382774,
          -86.842937,
          -99.889244,
          -99.150424,
          -99.196831,
          -96.911522,
          -97.8784418106,
          -99.2684274,
          -99.143403,
          -89.618103,
          -101.197362,
          -99.2542064,
          -99.692619,
          -99.230759,
          -99.122758,
          -110.943916,
          -101.245743,
          -100.2430415,
          -110.315987,
          -99.186297,
          -99.263313,
          -106.040439,
          -89.6850751,
          -102.552788,
          -99.047432,
          -100.383032,
          -89.6004394,
          -99.272508,
          -100.376106,
          -117.016926,
          -103.3824715018,
          -99.064713,
          -99.88301754,
          -101.016029,
          -99.111133,
          -99.060346,
          -100.3469826,
          -99.145619,
          -103.839896,
          -100.3161126,
          -98.932816,
          -100.4462718,
          -99.0521619915,
          -98.282691,
          -100.2071,
          -100.361619,
          -98.316376,
          -99.200287,
          -86.84964,
          -99.5478784,
          -106.426237,
          -103.734973,
          -100.2269947529,
          -99.237779,
          -99.112954,
          -89.6034273505,
          -102.552788,
          -99.086604,
          -99.254997,
          -99.200764,
          -99.062244,
          -100.344032,
          -99.17109,
          -99.14595,
          -99.185753,
          -100.87474823,
          -99.113106,
          -99.2646998,
          -99.2494583,
          -89.6110378,
          -97.843597,
          -100.4302641,
          -99.176894,
          -100.994925,
          -101.04092,
          -89.6128177643,
          -97.8898514392,
          -99.200287,
          -96.0588921,
          -99.221881,
          -99.194748,
          -99.232834,
          -100.3184093,
          -99.126007,
          -99.148384,
          -99.453377,
          -99.254997,
          -100.4222725,
          -100.406716,
          -116.882435,
          -99.1138,
          -89.563911,
          -103.1944627,
          -99.966431,
          -98.959038,
          -101.186433658,
          -97.883728,
          -97.89325,
          -99.203751,
          -103.391146,
          -100.3688142,
          -98.286095,
          -102.316322,
          -90.5359003,
          -99.262423,
          -99.125896,
          -106.089596,
          -99.200287,
          -98.225566,
          -102.552788,
          -99.04435,
          -93.119011,
          -97.389905,
          -101.005431,
          -96.107643,
          -99.2584598064,
          -86.879738,
          -100.442467,
          -89.248380661,
          -99.157113,
          -89.65963,
          -97.3631926,
          -100.228301,
          -99.011968,
          -101.035118,
          -89.614571,
          -99.581169,
          -100.479441,
          -98.9659399,
          -99.125888,
          -89.65963,
          -97.8800254,
          -103.47907,
          -98.214439,
          -93.15228,
          -101.165592,
          -103.377502,
          -101.041163,
          -89.563911,
          -99.675944,
          -100.42942,
          -101.708252,
          -99.155899,
          -100.414032,
          -99.135933,
          -96.94104,
          -103.39302,
          -89.591019,
          -99.143384,
          -102.552788,
          -97.860939,
          -99.913115,
          -96.1076366901,
          -98.236336,
          -99.981438,
          -86.8251719,
          -116.81963,
          -89.6110378,
          -102.552788,
          -100.455109,
          -97.866714,
          -98.248372,
          -99.215979,
          -99.566057,
          -89.619278,
          -99.14682,
          -99.103287,
          -89.599258,
          -103.680325,
          -99.254183,
          -89.648252,
          -86.8515973089,
          -99.218298,
          -99.186714,
          -107.4352383614,
          -99.241837,
          -100.446219,
          -99.039146,
          -106.09304,
          -100.745235,
          -102.552788,
          -100.346985,
          -101.0019,
          -89.646347,
          -92.651844,
          -99.546473,
          -86.857162,
          -99.0904824436,
          -99.159454,
          -89.642815,
          -102.191307,
          -100.230576,
          -99.597733,
          -104.615791,
          -99.025536,
          -99.054777,
          -100.365929,
          -105.204857,
          -106.415812,
          -99.096736,
          -109.958231,
          -99.177444,
          -100.4578949,
          -106.0691004,
          -97.889847,
          -99.218126,
          -99.145853,
          -99.252857,
          -100.393311,
          -101.181947,
          -98.260885,
          -99.216217,
          -99.214456,
          -99.132304,
          -99.194926,
          -99.6178249,
          -99.798010105,
          -89.5550539,
          -92.959735,
          -99.156423,
          -98.735725,
          -97.3916879296,
          -99.188639,
          -99.144234,
          -102.552788,
          -99.204251,
          -107.4623677164,
          -99.219505,
          -99.225906,
          -103.389699,
          -103.484418,
          -99.1802147,
          -89.6530058049,
          -101.0321938992,
          -99.558519
         ],
         "marker": {
          "color": "#636efa"
         },
         "mode": "markers",
         "name": "",
         "showlegend": false,
         "subplot": "mapbox",
         "type": "scattermapbox"
        }
       ],
       "layout": {
        "height": 600,
        "legend": {
         "tracegroupgap": 0
        },
        "mapbox": {
         "center": {
          "lat": 19.43,
          "lon": -99.13
         },
         "domain": {
          "x": [
           0,
           1
          ],
          "y": [
           0,
           1
          ]
         },
         "style": "open-street-map",
         "zoom": 8
        },
        "margin": {
         "t": 60
        },
        "template": {
         "data": {
          "bar": [
           {
            "error_x": {
             "color": "#2a3f5f"
            },
            "error_y": {
             "color": "#2a3f5f"
            },
            "marker": {
             "line": {
              "color": "#E5ECF6",
              "width": 0.5
             },
             "pattern": {
              "fillmode": "overlay",
              "size": 10,
              "solidity": 0.2
             }
            },
            "type": "bar"
           }
          ],
          "barpolar": [
           {
            "marker": {
             "line": {
              "color": "#E5ECF6",
              "width": 0.5
             },
             "pattern": {
              "fillmode": "overlay",
              "size": 10,
              "solidity": 0.2
             }
            },
            "type": "barpolar"
           }
          ],
          "carpet": [
           {
            "aaxis": {
             "endlinecolor": "#2a3f5f",
             "gridcolor": "white",
             "linecolor": "white",
             "minorgridcolor": "white",
             "startlinecolor": "#2a3f5f"
            },
            "baxis": {
             "endlinecolor": "#2a3f5f",
             "gridcolor": "white",
             "linecolor": "white",
             "minorgridcolor": "white",
             "startlinecolor": "#2a3f5f"
            },
            "type": "carpet"
           }
          ],
          "choropleth": [
           {
            "colorbar": {
             "outlinewidth": 0,
             "ticks": ""
            },
            "type": "choropleth"
           }
          ],
          "contour": [
           {
            "colorbar": {
             "outlinewidth": 0,
             "ticks": ""
            },
            "colorscale": [
             [
              0,
              "#0d0887"
             ],
             [
              0.1111111111111111,
              "#46039f"
             ],
             [
              0.2222222222222222,
              "#7201a8"
             ],
             [
              0.3333333333333333,
              "#9c179e"
             ],
             [
              0.4444444444444444,
              "#bd3786"
             ],
             [
              0.5555555555555556,
              "#d8576b"
             ],
             [
              0.6666666666666666,
              "#ed7953"
             ],
             [
              0.7777777777777778,
              "#fb9f3a"
             ],
             [
              0.8888888888888888,
              "#fdca26"
             ],
             [
              1,
              "#f0f921"
             ]
            ],
            "type": "contour"
           }
          ],
          "contourcarpet": [
           {
            "colorbar": {
             "outlinewidth": 0,
             "ticks": ""
            },
            "type": "contourcarpet"
           }
          ],
          "heatmap": [
           {
            "colorbar": {
             "outlinewidth": 0,
             "ticks": ""
            },
            "colorscale": [
             [
              0,
              "#0d0887"
             ],
             [
              0.1111111111111111,
              "#46039f"
             ],
             [
              0.2222222222222222,
              "#7201a8"
             ],
             [
              0.3333333333333333,
              "#9c179e"
             ],
             [
              0.4444444444444444,
              "#bd3786"
             ],
             [
              0.5555555555555556,
              "#d8576b"
             ],
             [
              0.6666666666666666,
              "#ed7953"
             ],
             [
              0.7777777777777778,
              "#fb9f3a"
             ],
             [
              0.8888888888888888,
              "#fdca26"
             ],
             [
              1,
              "#f0f921"
             ]
            ],
            "type": "heatmap"
           }
          ],
          "heatmapgl": [
           {
            "colorbar": {
             "outlinewidth": 0,
             "ticks": ""
            },
            "colorscale": [
             [
              0,
              "#0d0887"
             ],
             [
              0.1111111111111111,
              "#46039f"
             ],
             [
              0.2222222222222222,
              "#7201a8"
             ],
             [
              0.3333333333333333,
              "#9c179e"
             ],
             [
              0.4444444444444444,
              "#bd3786"
             ],
             [
              0.5555555555555556,
              "#d8576b"
             ],
             [
              0.6666666666666666,
              "#ed7953"
             ],
             [
              0.7777777777777778,
              "#fb9f3a"
             ],
             [
              0.8888888888888888,
              "#fdca26"
             ],
             [
              1,
              "#f0f921"
             ]
            ],
            "type": "heatmapgl"
           }
          ],
          "histogram": [
           {
            "marker": {
             "pattern": {
              "fillmode": "overlay",
              "size": 10,
              "solidity": 0.2
             }
            },
            "type": "histogram"
           }
          ],
          "histogram2d": [
           {
            "colorbar": {
             "outlinewidth": 0,
             "ticks": ""
            },
            "colorscale": [
             [
              0,
              "#0d0887"
             ],
             [
              0.1111111111111111,
              "#46039f"
             ],
             [
              0.2222222222222222,
              "#7201a8"
             ],
             [
              0.3333333333333333,
              "#9c179e"
             ],
             [
              0.4444444444444444,
              "#bd3786"
             ],
             [
              0.5555555555555556,
              "#d8576b"
             ],
             [
              0.6666666666666666,
              "#ed7953"
             ],
             [
              0.7777777777777778,
              "#fb9f3a"
             ],
             [
              0.8888888888888888,
              "#fdca26"
             ],
             [
              1,
              "#f0f921"
             ]
            ],
            "type": "histogram2d"
           }
          ],
          "histogram2dcontour": [
           {
            "colorbar": {
             "outlinewidth": 0,
             "ticks": ""
            },
            "colorscale": [
             [
              0,
              "#0d0887"
             ],
             [
              0.1111111111111111,
              "#46039f"
             ],
             [
              0.2222222222222222,
              "#7201a8"
             ],
             [
              0.3333333333333333,
              "#9c179e"
             ],
             [
              0.4444444444444444,
              "#bd3786"
             ],
             [
              0.5555555555555556,
              "#d8576b"
             ],
             [
              0.6666666666666666,
              "#ed7953"
             ],
             [
              0.7777777777777778,
              "#fb9f3a"
             ],
             [
              0.8888888888888888,
              "#fdca26"
             ],
             [
              1,
              "#f0f921"
             ]
            ],
            "type": "histogram2dcontour"
           }
          ],
          "mesh3d": [
           {
            "colorbar": {
             "outlinewidth": 0,
             "ticks": ""
            },
            "type": "mesh3d"
           }
          ],
          "parcoords": [
           {
            "line": {
             "colorbar": {
              "outlinewidth": 0,
              "ticks": ""
             }
            },
            "type": "parcoords"
           }
          ],
          "pie": [
           {
            "automargin": true,
            "type": "pie"
           }
          ],
          "scatter": [
           {
            "fillpattern": {
             "fillmode": "overlay",
             "size": 10,
             "solidity": 0.2
            },
            "type": "scatter"
           }
          ],
          "scatter3d": [
           {
            "line": {
             "colorbar": {
              "outlinewidth": 0,
              "ticks": ""
             }
            },
            "marker": {
             "colorbar": {
              "outlinewidth": 0,
              "ticks": ""
             }
            },
            "type": "scatter3d"
           }
          ],
          "scattercarpet": [
           {
            "marker": {
             "colorbar": {
              "outlinewidth": 0,
              "ticks": ""
             }
            },
            "type": "scattercarpet"
           }
          ],
          "scattergeo": [
           {
            "marker": {
             "colorbar": {
              "outlinewidth": 0,
              "ticks": ""
             }
            },
            "type": "scattergeo"
           }
          ],
          "scattergl": [
           {
            "marker": {
             "colorbar": {
              "outlinewidth": 0,
              "ticks": ""
             }
            },
            "type": "scattergl"
           }
          ],
          "scattermapbox": [
           {
            "marker": {
             "colorbar": {
              "outlinewidth": 0,
              "ticks": ""
             }
            },
            "type": "scattermapbox"
           }
          ],
          "scatterpolar": [
           {
            "marker": {
             "colorbar": {
              "outlinewidth": 0,
              "ticks": ""
             }
            },
            "type": "scatterpolar"
           }
          ],
          "scatterpolargl": [
           {
            "marker": {
             "colorbar": {
              "outlinewidth": 0,
              "ticks": ""
             }
            },
            "type": "scatterpolargl"
           }
          ],
          "scatterternary": [
           {
            "marker": {
             "colorbar": {
              "outlinewidth": 0,
              "ticks": ""
             }
            },
            "type": "scatterternary"
           }
          ],
          "surface": [
           {
            "colorbar": {
             "outlinewidth": 0,
             "ticks": ""
            },
            "colorscale": [
             [
              0,
              "#0d0887"
             ],
             [
              0.1111111111111111,
              "#46039f"
             ],
             [
              0.2222222222222222,
              "#7201a8"
             ],
             [
              0.3333333333333333,
              "#9c179e"
             ],
             [
              0.4444444444444444,
              "#bd3786"
             ],
             [
              0.5555555555555556,
              "#d8576b"
             ],
             [
              0.6666666666666666,
              "#ed7953"
             ],
             [
              0.7777777777777778,
              "#fb9f3a"
             ],
             [
              0.8888888888888888,
              "#fdca26"
             ],
             [
              1,
              "#f0f921"
             ]
            ],
            "type": "surface"
           }
          ],
          "table": [
           {
            "cells": {
             "fill": {
              "color": "#EBF0F8"
             },
             "line": {
              "color": "white"
             }
            },
            "header": {
             "fill": {
              "color": "#C8D4E3"
             },
             "line": {
              "color": "white"
             }
            },
            "type": "table"
           }
          ]
         },
         "layout": {
          "annotationdefaults": {
           "arrowcolor": "#2a3f5f",
           "arrowhead": 0,
           "arrowwidth": 1
          },
          "autotypenumbers": "strict",
          "coloraxis": {
           "colorbar": {
            "outlinewidth": 0,
            "ticks": ""
           }
          },
          "colorscale": {
           "diverging": [
            [
             0,
             "#8e0152"
            ],
            [
             0.1,
             "#c51b7d"
            ],
            [
             0.2,
             "#de77ae"
            ],
            [
             0.3,
             "#f1b6da"
            ],
            [
             0.4,
             "#fde0ef"
            ],
            [
             0.5,
             "#f7f7f7"
            ],
            [
             0.6,
             "#e6f5d0"
            ],
            [
             0.7,
             "#b8e186"
            ],
            [
             0.8,
             "#7fbc41"
            ],
            [
             0.9,
             "#4d9221"
            ],
            [
             1,
             "#276419"
            ]
           ],
           "sequential": [
            [
             0,
             "#0d0887"
            ],
            [
             0.1111111111111111,
             "#46039f"
            ],
            [
             0.2222222222222222,
             "#7201a8"
            ],
            [
             0.3333333333333333,
             "#9c179e"
            ],
            [
             0.4444444444444444,
             "#bd3786"
            ],
            [
             0.5555555555555556,
             "#d8576b"
            ],
            [
             0.6666666666666666,
             "#ed7953"
            ],
            [
             0.7777777777777778,
             "#fb9f3a"
            ],
            [
             0.8888888888888888,
             "#fdca26"
            ],
            [
             1,
             "#f0f921"
            ]
           ],
           "sequentialminus": [
            [
             0,
             "#0d0887"
            ],
            [
             0.1111111111111111,
             "#46039f"
            ],
            [
             0.2222222222222222,
             "#7201a8"
            ],
            [
             0.3333333333333333,
             "#9c179e"
            ],
            [
             0.4444444444444444,
             "#bd3786"
            ],
            [
             0.5555555555555556,
             "#d8576b"
            ],
            [
             0.6666666666666666,
             "#ed7953"
            ],
            [
             0.7777777777777778,
             "#fb9f3a"
            ],
            [
             0.8888888888888888,
             "#fdca26"
            ],
            [
             1,
             "#f0f921"
            ]
           ]
          },
          "colorway": [
           "#636efa",
           "#EF553B",
           "#00cc96",
           "#ab63fa",
           "#FFA15A",
           "#19d3f3",
           "#FF6692",
           "#B6E880",
           "#FF97FF",
           "#FECB52"
          ],
          "font": {
           "color": "#2a3f5f"
          },
          "geo": {
           "bgcolor": "white",
           "lakecolor": "white",
           "landcolor": "#E5ECF6",
           "showlakes": true,
           "showland": true,
           "subunitcolor": "white"
          },
          "hoverlabel": {
           "align": "left"
          },
          "hovermode": "closest",
          "mapbox": {
           "style": "light"
          },
          "paper_bgcolor": "white",
          "plot_bgcolor": "#E5ECF6",
          "polar": {
           "angularaxis": {
            "gridcolor": "white",
            "linecolor": "white",
            "ticks": ""
           },
           "bgcolor": "#E5ECF6",
           "radialaxis": {
            "gridcolor": "white",
            "linecolor": "white",
            "ticks": ""
           }
          },
          "scene": {
           "xaxis": {
            "backgroundcolor": "#E5ECF6",
            "gridcolor": "white",
            "gridwidth": 2,
            "linecolor": "white",
            "showbackground": true,
            "ticks": "",
            "zerolinecolor": "white"
           },
           "yaxis": {
            "backgroundcolor": "#E5ECF6",
            "gridcolor": "white",
            "gridwidth": 2,
            "linecolor": "white",
            "showbackground": true,
            "ticks": "",
            "zerolinecolor": "white"
           },
           "zaxis": {
            "backgroundcolor": "#E5ECF6",
            "gridcolor": "white",
            "gridwidth": 2,
            "linecolor": "white",
            "showbackground": true,
            "ticks": "",
            "zerolinecolor": "white"
           }
          },
          "shapedefaults": {
           "line": {
            "color": "#2a3f5f"
           }
          },
          "ternary": {
           "aaxis": {
            "gridcolor": "white",
            "linecolor": "white",
            "ticks": ""
           },
           "baxis": {
            "gridcolor": "white",
            "linecolor": "white",
            "ticks": ""
           },
           "bgcolor": "#E5ECF6",
           "caxis": {
            "gridcolor": "white",
            "linecolor": "white",
            "ticks": ""
           }
          },
          "title": {
           "x": 0.05
          },
          "xaxis": {
           "automargin": true,
           "gridcolor": "white",
           "linecolor": "white",
           "ticks": "",
           "title": {
            "standoff": 15
           },
           "zerolinecolor": "white",
           "zerolinewidth": 2
          },
          "yaxis": {
           "automargin": true,
           "gridcolor": "white",
           "linecolor": "white",
           "ticks": "",
           "title": {
            "standoff": 15
           },
           "zerolinecolor": "white",
           "zerolinewidth": 2
          }
         }
        },
        "width": 800
       }
      }
     },
     "metadata": {},
     "output_type": "display_data"
    }
   ],
   "source": [
    "fig = px.scatter_mapbox(\n",
    "    df,  # Our DataFrame\n",
    "    lat=\"lat\",\n",
    "    lon=\"lon\",\n",
    "    center={\"lat\": 19.43, \"lon\": -99.13},  # Map will be centered on Mexico City\n",
    "    width=800,  # Width of map display\n",
    "    height=600,  # Height of map display\n",
    "    hover_data=[\"price_usd\", \"area_m2\", \"state\"],  # Display price and area_m2 when hovering mouse over a house\n",
    ")\n",
    "\n",
    "fig.update_layout(mapbox_style=\"open-street-map\")\n",
    "\n",
    "fig.show()"
   ]
  },
  {
   "cell_type": "markdown",
   "id": "76fff65a",
   "metadata": {},
   "source": [
    "## Categorical Data: \"state\""
   ]
  },
  {
   "cell_type": "code",
   "execution_count": 6,
   "id": "ebdabc6a",
   "metadata": {},
   "outputs": [
    {
     "data": {
      "text/plain": [
       "array(['Estado de México', 'Nuevo León', 'Guerrero', 'Yucatán',\n",
       "       'Querétaro', 'Morelos', 'Chiapas', 'Tabasco', 'Distrito Federal',\n",
       "       'Nayarit', 'Puebla', 'Veracruz de Ignacio de la Llave', 'Sinaloa',\n",
       "       'Tamaulipas', 'Jalisco', 'San Luis Potosí', 'Baja California',\n",
       "       'Hidalgo', 'Quintana Roo', 'Sonora', 'Chihuahua',\n",
       "       'Baja California Sur', 'Zacatecas', 'Aguascalientes', 'Guanajuato',\n",
       "       'Durango', 'Tlaxcala', 'Colima', 'Oaxaca', 'Campeche'],\n",
       "      dtype=object)"
      ]
     },
     "execution_count": 6,
     "metadata": {},
     "output_type": "execute_result"
    }
   ],
   "source": [
    "df[\"state\"].unique()  # This gives me the number count of unique values(states) in the column(state)\n"
   ]
  },
  {
   "cell_type": "code",
   "execution_count": 7,
   "id": "9413d354",
   "metadata": {},
   "outputs": [
    {
     "data": {
      "text/plain": [
       "30"
      ]
     },
     "execution_count": 7,
     "metadata": {},
     "output_type": "execute_result"
    }
   ],
   "source": [
    "df[\"state\"].nunique()  # This gives a list of the unique value names in the state column"
   ]
  },
  {
   "cell_type": "code",
   "execution_count": 8,
   "id": "4147a2fd",
   "metadata": {},
   "outputs": [
    {
     "data": {
      "text/plain": [
       "state\n",
       "Distrito Federal                   303\n",
       "Estado de México                   179\n",
       "Yucatán                            171\n",
       "Morelos                            160\n",
       "Querétaro                          128\n",
       "Veracruz de Ignacio de la Llave    117\n",
       "Puebla                              95\n",
       "Nuevo León                          83\n",
       "Jalisco                             60\n",
       "San Luis Potosí                     55\n",
       "Chiapas                             55\n",
       "Guerrero                            49\n",
       "Tamaulipas                          48\n",
       "Quintana Roo                        38\n",
       "Baja California                     29\n",
       "Sinaloa                             26\n",
       "Chihuahua                           20\n",
       "Tabasco                             20\n",
       "Hidalgo                             17\n",
       "Baja California Sur                 15\n",
       "Sonora                              12\n",
       "Guanajuato                          12\n",
       "Aguascalientes                      10\n",
       "Nayarit                              9\n",
       "Durango                              7\n",
       "Tlaxcala                             6\n",
       "Colima                               5\n",
       "Campeche                             3\n",
       "Zacatecas                            2\n",
       "Oaxaca                               2\n",
       "Name: count, dtype: int64"
      ]
     },
     "execution_count": 8,
     "metadata": {},
     "output_type": "execute_result"
    }
   ],
   "source": [
    "df[\"state\"].value_counts()  # This counts the total houses in the state in a series format from highest to lowest"
   ]
  },
  {
   "cell_type": "code",
   "execution_count": 9,
   "id": "9510cb6f",
   "metadata": {},
   "outputs": [
    {
     "data": {
      "text/plain": [
       "state\n",
       "Distrito Federal                   303\n",
       "Estado de México                   179\n",
       "Yucatán                            171\n",
       "Morelos                            160\n",
       "Querétaro                          128\n",
       "Veracruz de Ignacio de la Llave    117\n",
       "Puebla                              95\n",
       "Nuevo León                          83\n",
       "Jalisco                             60\n",
       "San Luis Potosí                     55\n",
       "Name: count, dtype: int64"
      ]
     },
     "execution_count": 9,
     "metadata": {},
     "output_type": "execute_result"
    }
   ],
   "source": [
    "# Top 10 most represented states in the dataset\n",
    "df[\"state\"].value_counts().head(10)"
   ]
  },
  {
   "cell_type": "markdown",
   "id": "ab1cafdf",
   "metadata": {},
   "source": [
    "## Numerical Data: \"area_m2\" and \"price_usd\"\n",
    "We have a sense for where the houses in our dataset are located, but how much do they cost? How big are they? The best way to answer those questions is looking at __descriptive statistics.__"
   ]
  },
  {
   "cell_type": "code",
   "execution_count": 10,
   "id": "fae6f376",
   "metadata": {},
   "outputs": [
    {
     "data": {
      "text/html": [
       "<div>\n",
       "<style scoped>\n",
       "    .dataframe tbody tr th:only-of-type {\n",
       "        vertical-align: middle;\n",
       "    }\n",
       "\n",
       "    .dataframe tbody tr th {\n",
       "        vertical-align: top;\n",
       "    }\n",
       "\n",
       "    .dataframe thead th {\n",
       "        text-align: right;\n",
       "    }\n",
       "</style>\n",
       "<table border=\"1\" class=\"dataframe\">\n",
       "  <thead>\n",
       "    <tr style=\"text-align: right;\">\n",
       "      <th></th>\n",
       "      <th>area_m2</th>\n",
       "      <th>price_usd</th>\n",
       "    </tr>\n",
       "  </thead>\n",
       "  <tbody>\n",
       "    <tr>\n",
       "      <th>count</th>\n",
       "      <td>1736.000000</td>\n",
       "      <td>1736.000000</td>\n",
       "    </tr>\n",
       "    <tr>\n",
       "      <th>mean</th>\n",
       "      <td>170.261521</td>\n",
       "      <td>115331.980766</td>\n",
       "    </tr>\n",
       "    <tr>\n",
       "      <th>std</th>\n",
       "      <td>80.594539</td>\n",
       "      <td>65426.173873</td>\n",
       "    </tr>\n",
       "    <tr>\n",
       "      <th>min</th>\n",
       "      <td>60.000000</td>\n",
       "      <td>33157.890000</td>\n",
       "    </tr>\n",
       "    <tr>\n",
       "      <th>25%</th>\n",
       "      <td>101.750000</td>\n",
       "      <td>65789.470000</td>\n",
       "    </tr>\n",
       "    <tr>\n",
       "      <th>50%</th>\n",
       "      <td>156.000000</td>\n",
       "      <td>99262.130000</td>\n",
       "    </tr>\n",
       "    <tr>\n",
       "      <th>75%</th>\n",
       "      <td>220.000000</td>\n",
       "      <td>150846.665000</td>\n",
       "    </tr>\n",
       "    <tr>\n",
       "      <th>max</th>\n",
       "      <td>385.000000</td>\n",
       "      <td>326733.660000</td>\n",
       "    </tr>\n",
       "  </tbody>\n",
       "</table>\n",
       "</div>"
      ],
      "text/plain": [
       "           area_m2      price_usd\n",
       "count  1736.000000    1736.000000\n",
       "mean    170.261521  115331.980766\n",
       "std      80.594539   65426.173873\n",
       "min      60.000000   33157.890000\n",
       "25%     101.750000   65789.470000\n",
       "50%     156.000000   99262.130000\n",
       "75%     220.000000  150846.665000\n",
       "max     385.000000  326733.660000"
      ]
     },
     "execution_count": 10,
     "metadata": {},
     "output_type": "execute_result"
    }
   ],
   "source": [
    "# Gives the count, means, standard deviation(std), min & max, and different % values\n",
    "df[[\"area_m2\", \"price_usd\"]].describe()"
   ]
  },
  {
   "cell_type": "code",
   "execution_count": 11,
   "id": "b2789fe8",
   "metadata": {},
   "outputs": [
    {
     "data": {
      "image/png": "[encoded data removed]",
      "text/plain": [
       "<Figure size 640x480 with 1 Axes>"
      ]
     },
     "metadata": {},
     "output_type": "display_data"
    }
   ],
   "source": [
    "#  DISTRIBUTION OF THE HOUSE SIZES\n",
    "\n",
    "plt.hist(df[\"area_m2\"])  # An histogram charm \n",
    "plt.xlabel(\"Area [sq meters]\")  # x axis label name\n",
    "plt.ylabel(\"Frequency\")  # y axis label name\n",
    "plt.title(\"Distribution of Home Sizes\");  # NOTE: The semicolon is for removing unnecessary values from the chart"
   ]
  },
  {
   "cell_type": "code",
   "execution_count": 12,
   "id": "544fdf8b",
   "metadata": {},
   "outputs": [
    {
     "data": {
      "image/png": "[encoded data removed]",
      "text/plain": [
       "<Figure size 640x480 with 1 Axes>"
      ]
     },
     "metadata": {},
     "output_type": "display_data"
    }
   ],
   "source": [
    "plt.boxplot(df[\"area_m2\"], vert=False)\n",
    "plt.xlabel(\"Area [sq meters]\")\n",
    "plt.title(\"Distribution of Home Sizes\");"
   ]
  },
  {
   "cell_type": "code",
   "execution_count": 13,
   "id": "50b1cd7f",
   "metadata": {},
   "outputs": [
    {
     "data": {
      "image/png": "[encoded data removed]",
      "text/plain": [
       "<Figure size 640x480 with 1 Axes>"
      ]
     },
     "metadata": {},
     "output_type": "display_data"
    }
   ],
   "source": [
    "plt.hist(df[\"price_usd\"])\n",
    "plt.xlabel(\"price [USD]\")\n",
    "plt.ylabel(\"Frequency\")\n",
    "plt.title(\"Distribution of Home Prices\");"
   ]
  },
  {
   "cell_type": "markdown",
   "id": "cddfed0c",
   "metadata": {},
   "source": [
    "# QUESTIONS\n",
    "\n",
    "## Q1. Which state has the most expensive real estate market?"
   ]
  },
  {
   "cell_type": "code",
   "execution_count": 14,
   "id": "9e6e96e5",
   "metadata": {},
   "outputs": [
    {
     "data": {
      "text/plain": [
       "state\n",
       "Querétaro                          133955.913281\n",
       "Guanajuato                         133277.965833\n",
       "Nuevo León                         129221.985663\n",
       "Distrito Federal                   128347.267426\n",
       "Quintana Roo                       128065.416053\n",
       "Chihuahua                          127073.852000\n",
       "Jalisco                            123386.472167\n",
       "Estado de México                   122723.490503\n",
       "Campeche                           121734.633333\n",
       "Puebla                             121732.974000\n",
       "Guerrero                           119854.276122\n",
       "Sonora                             114547.883333\n",
       "Morelos                            112697.295625\n",
       "Aguascalientes                     110543.888000\n",
       "Baja California Sur                109069.339333\n",
       "Yucatán                            108580.388596\n",
       "Chiapas                            104342.313273\n",
       "Veracruz de Ignacio de la Llave     96928.125128\n",
       "Hidalgo                             94012.326471\n",
       "Sinaloa                             93922.152308\n",
       "Tamaulipas                          93713.385833\n",
       "San Luis Potosí                     92435.540364\n",
       "Nayarit                             87378.605556\n",
       "Tabasco                             82763.587000\n",
       "Durango                             78034.511429\n",
       "Zacatecas                           76395.400000\n",
       "Tlaxcala                            72921.818333\n",
       "Colima                              65786.646000\n",
       "Baja California                     63152.431724\n",
       "Oaxaca                              59681.585000\n",
       "Name: price_usd, dtype: float64"
      ]
     },
     "execution_count": 14,
     "metadata": {},
     "output_type": "execute_result"
    }
   ],
   "source": [
    "mean_price_by_state = df.groupby(\"state\")[\"price_usd\"].mean().sort_values(ascending=False)\n",
    "mean_price_by_state"
   ]
  },
  {
   "cell_type": "markdown",
   "id": "2ffe8389",
   "metadata": {},
   "source": [
    "## State Mean Bar Chart"
   ]
  },
  {
   "cell_type": "code",
   "execution_count": 15,
   "id": "96a3f0c6",
   "metadata": {},
   "outputs": [
    {
     "data": {
      "image/png": "[encoded data removed]",
      "text/plain": [
       "<Figure size 640x480 with 1 Axes>"
      ]
     },
     "metadata": {},
     "output_type": "display_data"
    }
   ],
   "source": [
    "mean_price_by_state.plot(\n",
    "    kind=\"bar\",\n",
    "    xlabel=\"state\",\n",
    "    ylabel=\"price [USD]\",\n",
    "    title=\"Mean House Price by State\"\n",
    ");"
   ]
  },
  {
   "cell_type": "markdown",
   "id": "fb326727",
   "metadata": {},
   "source": [
    "It seems odd that Querétaro would be the most expensive real estate market in Mexico when, **according to recent GDP numbers**, it's not in the top 10 state economies. With all the variations in house sizes across states, a better metric to look at would be price per m2. In order to do that, we need to create a new column."
   ]
  },
  {
   "cell_type": "code",
   "execution_count": 16,
   "id": "76c5d848",
   "metadata": {},
   "outputs": [],
   "source": [
    "df[\"price_per_m2\"] = df[\"price_usd\"] / df[\"area_m2\"]"
   ]
  },
  {
   "cell_type": "code",
   "execution_count": 17,
   "id": "992084bb",
   "metadata": {},
   "outputs": [
    {
     "data": {
      "text/plain": [
       "state\n",
       "Distrito Federal                   1175.889150\n",
       "Estado de México                    763.753422\n",
       "Guerrero                            761.557206\n",
       "Jalisco                             743.568107\n",
       "Quintana Roo                        736.455284\n",
       "Nuevo León                          723.710040\n",
       "Puebla                              700.701974\n",
       "Querétaro                           687.227849\n",
       "Oaxaca                              683.019737\n",
       "Guanajuato                          672.908100\n",
       "Baja California Sur                 662.401953\n",
       "Morelos                             649.383992\n",
       "Tabasco                             643.503348\n",
       "Campeche                            601.291762\n",
       "Nayarit                             599.293627\n",
       "Baja California                     598.852988\n",
       "Chihuahua                           591.226747\n",
       "Chiapas                             560.317146\n",
       "Sinaloa                             546.536310\n",
       "Yucatán                             545.889476\n",
       "Tamaulipas                          541.282076\n",
       "Veracruz de Ignacio de la Llave     531.536438\n",
       "San Luis Potosí                     528.501599\n",
       "Hidalgo                             527.970493\n",
       "Zacatecas                           492.504078\n",
       "Tlaxcala                            484.299615\n",
       "Sonora                              461.845444\n",
       "Aguascalientes                      449.859133\n",
       "Durango                             415.447241\n",
       "Colima                              355.110448\n",
       "Name: price_per_m2, dtype: float64"
      ]
     },
     "execution_count": 17,
     "metadata": {},
     "output_type": "execute_result"
    }
   ],
   "source": [
    "mean_price_per_m2 = df.groupby(\"state\")[\"price_per_m2\"].mean().sort_values(ascending=False)\n",
    "mean_price_per_m2"
   ]
  },
  {
   "cell_type": "code",
   "execution_count": 18,
   "id": "8c11be70",
   "metadata": {},
   "outputs": [
    {
     "data": {
      "image/png": "[encoded data removed]",
      "text/plain": [
       "<Figure size 640x480 with 1 Axes>"
      ]
     },
     "metadata": {},
     "output_type": "display_data"
    }
   ],
   "source": [
    "mean_price_per_m2.plot(\n",
    "    kind=\"bar\",\n",
    "    xlabel=\"state\",\n",
    "    ylabel=\"price per m2 [USD]\",\n",
    "    title=\"Mean House Price per m2 by State\"\n",
    ");"
   ]
  },
  {
   "cell_type": "markdown",
   "id": "ed479c56",
   "metadata": {},
   "source": [
    "Now we see that the capital Mexico City __(Distrito Federal)__ is by far the most expensive market. Additionally, many of the top 10 states by GDP are also in the top 10 most expensive real estate markets. So it looks like this bar chart is a more accurate reflection of state real estate markets."
   ]
  },
  {
   "cell_type": "markdown",
   "id": "8ec0265e",
   "metadata": {},
   "source": [
    "## Q2. Is there a relationship between home size and price?"
   ]
  },
  {
   "cell_type": "code",
   "execution_count": 19,
   "id": "5a79f8ae",
   "metadata": {},
   "outputs": [
    {
     "data": {
      "image/png": "[encoded data removed]",
      "text/plain": [
       "<Figure size 640x480 with 1 Axes>"
      ]
     },
     "metadata": {},
     "output_type": "display_data"
    }
   ],
   "source": [
    "plt.scatter(y=df[\"price_usd\"], x=df[\"area_m2\"])\n",
    "plt.xlabel(\"Area [sq meters]\")\n",
    "plt.ylabel(\"Price [USD]\")\n",
    "plt.title(\"Price vs Area\");"
   ]
  },
  {
   "cell_type": "code",
   "execution_count": 20,
   "id": "14dcc090",
   "metadata": {},
   "outputs": [
    {
     "name": "stdout",
     "output_type": "stream",
     "text": [
      "0.585518245323206\n"
     ]
    }
   ],
   "source": [
    "p_correlation = df[\"area_m2\"].corr(df[\"price_usd\"])\n",
    "print(p_correlation)"
   ]
  },
  {
   "cell_type": "markdown",
   "id": "93d99640",
   "metadata": {},
   "source": [
    "The __correlation coefficient__ is over __0.5__, so there's a moderate relationship house size and price in Mexico. But does this relationship hold true in every state? Let's look at a couple of states, starting with Morelos."
   ]
  },
  {
   "cell_type": "code",
   "execution_count": 21,
   "id": "0d4959de",
   "metadata": {},
   "outputs": [
    {
     "data": {
      "text/html": [
       "<div>\n",
       "<style scoped>\n",
       "    .dataframe tbody tr th:only-of-type {\n",
       "        vertical-align: middle;\n",
       "    }\n",
       "\n",
       "    .dataframe tbody tr th {\n",
       "        vertical-align: top;\n",
       "    }\n",
       "\n",
       "    .dataframe thead th {\n",
       "        text-align: right;\n",
       "    }\n",
       "</style>\n",
       "<table border=\"1\" class=\"dataframe\">\n",
       "  <thead>\n",
       "    <tr style=\"text-align: right;\">\n",
       "      <th></th>\n",
       "      <th>property_type</th>\n",
       "      <th>state</th>\n",
       "      <th>lat</th>\n",
       "      <th>lon</th>\n",
       "      <th>area_m2</th>\n",
       "      <th>price_usd</th>\n",
       "      <th>price_per_m2</th>\n",
       "    </tr>\n",
       "  </thead>\n",
       "  <tbody>\n",
       "    <tr>\n",
       "      <th>6</th>\n",
       "      <td>house</td>\n",
       "      <td>Morelos</td>\n",
       "      <td>18.812605</td>\n",
       "      <td>-98.954826</td>\n",
       "      <td>281</td>\n",
       "      <td>151509.56</td>\n",
       "      <td>539.179929</td>\n",
       "    </tr>\n",
       "    <tr>\n",
       "      <th>9</th>\n",
       "      <td>house</td>\n",
       "      <td>Morelos</td>\n",
       "      <td>18.804197</td>\n",
       "      <td>-98.932816</td>\n",
       "      <td>117</td>\n",
       "      <td>63223.78</td>\n",
       "      <td>540.374188</td>\n",
       "    </tr>\n",
       "    <tr>\n",
       "      <th>18</th>\n",
       "      <td>house</td>\n",
       "      <td>Morelos</td>\n",
       "      <td>18.855343</td>\n",
       "      <td>-99.241142</td>\n",
       "      <td>73</td>\n",
       "      <td>36775.16</td>\n",
       "      <td>503.769315</td>\n",
       "    </tr>\n",
       "    <tr>\n",
       "      <th>49</th>\n",
       "      <td>house</td>\n",
       "      <td>Morelos</td>\n",
       "      <td>18.804197</td>\n",
       "      <td>-98.932816</td>\n",
       "      <td>130</td>\n",
       "      <td>65858.10</td>\n",
       "      <td>506.600769</td>\n",
       "    </tr>\n",
       "    <tr>\n",
       "      <th>55</th>\n",
       "      <td>house</td>\n",
       "      <td>Morelos</td>\n",
       "      <td>18.960244</td>\n",
       "      <td>-99.212962</td>\n",
       "      <td>305</td>\n",
       "      <td>227351.46</td>\n",
       "      <td>745.414623</td>\n",
       "    </tr>\n",
       "  </tbody>\n",
       "</table>\n",
       "</div>"
      ],
      "text/plain": [
       "   property_type    state        lat        lon  area_m2  price_usd  \\\n",
       "6          house  Morelos  18.812605 -98.954826      281  151509.56   \n",
       "9          house  Morelos  18.804197 -98.932816      117   63223.78   \n",
       "18         house  Morelos  18.855343 -99.241142       73   36775.16   \n",
       "49         house  Morelos  18.804197 -98.932816      130   65858.10   \n",
       "55         house  Morelos  18.960244 -99.212962      305  227351.46   \n",
       "\n",
       "    price_per_m2  \n",
       "6     539.179929  \n",
       "9     540.374188  \n",
       "18    503.769315  \n",
       "49    506.600769  \n",
       "55    745.414623  "
      ]
     },
     "execution_count": 21,
     "metadata": {},
     "output_type": "execute_result"
    }
   ],
   "source": [
    "df_morelos = df[df[\"state\"] == \"Morelos\"]\n",
    "df_morelos.head()"
   ]
  },
  {
   "cell_type": "code",
   "execution_count": 22,
   "id": "4e460b6f",
   "metadata": {},
   "outputs": [
    {
     "data": {
      "image/png": "[encoded data removed]",
      "text/plain": [
       "<Figure size 640x480 with 1 Axes>"
      ]
     },
     "metadata": {},
     "output_type": "display_data"
    }
   ],
   "source": [
    "plt.scatter(x=df_morelos[\"area_m2\"], y=df_morelos[\"price_usd\"])\n",
    "plt.xlabel(\"Area [sq meters]\")\n",
    "plt.ylabel(\"Price [USD]\")\n",
    "plt.title(\"Price vs Area\");"
   ]
  },
  {
   "cell_type": "code",
   "execution_count": 23,
   "id": "b3507cb4",
   "metadata": {},
   "outputs": [
    {
     "name": "stdout",
     "output_type": "stream",
     "text": [
      "0.8498077608713712\n"
     ]
    }
   ],
   "source": [
    "p_correlation = df_morelos[\"area_m2\"].corr(df_morelos[\"price_usd\"])\n",
    "print(p_correlation)"
   ]
  },
  {
   "cell_type": "markdown",
   "id": "e62f9703",
   "metadata": {},
   "source": [
    "With a __correlation coefficient__ that high at __0.8__, we can say that there's a strong relationship between house size and price in Morelos."
   ]
  },
  {
   "cell_type": "code",
   "execution_count": 24,
   "id": "06c38e9a",
   "metadata": {},
   "outputs": [
    {
     "data": {
      "text/html": [
       "<div>\n",
       "<style scoped>\n",
       "    .dataframe tbody tr th:only-of-type {\n",
       "        vertical-align: middle;\n",
       "    }\n",
       "\n",
       "    .dataframe tbody tr th {\n",
       "        vertical-align: top;\n",
       "    }\n",
       "\n",
       "    .dataframe thead th {\n",
       "        text-align: right;\n",
       "    }\n",
       "</style>\n",
       "<table border=\"1\" class=\"dataframe\">\n",
       "  <thead>\n",
       "    <tr style=\"text-align: right;\">\n",
       "      <th></th>\n",
       "      <th>property_type</th>\n",
       "      <th>state</th>\n",
       "      <th>lat</th>\n",
       "      <th>lon</th>\n",
       "      <th>area_m2</th>\n",
       "      <th>price_usd</th>\n",
       "      <th>price_per_m2</th>\n",
       "    </tr>\n",
       "  </thead>\n",
       "  <tbody>\n",
       "    <tr>\n",
       "      <th>14</th>\n",
       "      <td>apartment</td>\n",
       "      <td>Distrito Federal</td>\n",
       "      <td>19.390748</td>\n",
       "      <td>-99.158695</td>\n",
       "      <td>127</td>\n",
       "      <td>131716.20</td>\n",
       "      <td>1037.135433</td>\n",
       "    </tr>\n",
       "    <tr>\n",
       "      <th>16</th>\n",
       "      <td>house</td>\n",
       "      <td>Distrito Federal</td>\n",
       "      <td>19.337652</td>\n",
       "      <td>-99.223327</td>\n",
       "      <td>297</td>\n",
       "      <td>264390.77</td>\n",
       "      <td>890.204613</td>\n",
       "    </tr>\n",
       "    <tr>\n",
       "      <th>20</th>\n",
       "      <td>apartment</td>\n",
       "      <td>Distrito Federal</td>\n",
       "      <td>19.403334</td>\n",
       "      <td>-99.157755</td>\n",
       "      <td>129</td>\n",
       "      <td>131716.20</td>\n",
       "      <td>1021.055814</td>\n",
       "    </tr>\n",
       "    <tr>\n",
       "      <th>21</th>\n",
       "      <td>apartment</td>\n",
       "      <td>Distrito Federal</td>\n",
       "      <td>19.428152</td>\n",
       "      <td>-99.106194</td>\n",
       "      <td>68</td>\n",
       "      <td>67175.26</td>\n",
       "      <td>987.871471</td>\n",
       "    </tr>\n",
       "    <tr>\n",
       "      <th>26</th>\n",
       "      <td>apartment</td>\n",
       "      <td>Distrito Federal</td>\n",
       "      <td>19.430141</td>\n",
       "      <td>-99.172536</td>\n",
       "      <td>97</td>\n",
       "      <td>104846.10</td>\n",
       "      <td>1080.887629</td>\n",
       "    </tr>\n",
       "  </tbody>\n",
       "</table>\n",
       "</div>"
      ],
      "text/plain": [
       "   property_type             state        lat        lon  area_m2  price_usd  \\\n",
       "14     apartment  Distrito Federal  19.390748 -99.158695      127  131716.20   \n",
       "16         house  Distrito Federal  19.337652 -99.223327      297  264390.77   \n",
       "20     apartment  Distrito Federal  19.403334 -99.157755      129  131716.20   \n",
       "21     apartment  Distrito Federal  19.428152 -99.106194       68   67175.26   \n",
       "26     apartment  Distrito Federal  19.430141 -99.172536       97  104846.10   \n",
       "\n",
       "    price_per_m2  \n",
       "14   1037.135433  \n",
       "16    890.204613  \n",
       "20   1021.055814  \n",
       "21    987.871471  \n",
       "26   1080.887629  "
      ]
     },
     "execution_count": 24,
     "metadata": {},
     "output_type": "execute_result"
    }
   ],
   "source": [
    "df_mexico_city = df[df[\"state\"] == \"Distrito Federal\"]\n",
    "df_mexico_city.head()"
   ]
  },
  {
   "cell_type": "code",
   "execution_count": 25,
   "id": "0ce3885d",
   "metadata": {},
   "outputs": [
    {
     "data": {
      "image/png": "[encoded data removed]",
      "text/plain": [
       "<Figure size 640x480 with 1 Axes>"
      ]
     },
     "metadata": {},
     "output_type": "display_data"
    }
   ],
   "source": [
    "plt.scatter(x=df_mexico_city[\"area_m2\"], y=df_mexico_city[\"price_usd\"])\n",
    "plt.xlabel(\"Area [sq meters]\")\n",
    "plt.ylabel(\"Price [USD]\")\n",
    "plt.title(\"Price vs Area\");"
   ]
  },
  {
   "cell_type": "code",
   "execution_count": 26,
   "id": "cb48506d",
   "metadata": {},
   "outputs": [
    {
     "name": "stdout",
     "output_type": "stream",
     "text": [
      "0.41070392130717864\n"
     ]
    }
   ],
   "source": [
    "p_correlation = df_mexico_city[\"area_m2\"].corr(df_mexico_city[\"price_usd\"])\n",
    "print(p_correlation)"
   ]
  },
  {
   "cell_type": "markdown",
   "id": "ea454e52",
   "metadata": {},
   "source": [
    "Looking at the scatter plot and __correlation coefficient__, there's see a weak relationship between __size__ and __price__. How should we interpret this?\n",
    "\n",
    "One interpretation is that the relationship we see between size and price in many states doesn't hold true in the country's biggest and most economically powerful urban center because there are __other factors__ that have a larger influence on price."
   ]
  },
  {
   "cell_type": "code",
   "execution_count": null,
   "id": "8d3bb488",
   "metadata": {},
   "outputs": [],
   "source": []
  }
 ],
 "metadata": {
  "kernelspec": {
   "display_name": "Python 3 (ipykernel)",
   "language": "python",
   "name": "python3"
  },
  "language_info": {
   "codemirror_mode": {
    "name": "ipython",
    "version": 3
   },
   "file_extension": ".py",
   "mimetype": "text/x-python",
   "name": "python",
   "nbconvert_exporter": "python",
   "pygments_lexer": "ipython3",
   "version": "3.11.2"
  }
 },
 "nbformat": 4,
 "nbformat_minor": 5
}
